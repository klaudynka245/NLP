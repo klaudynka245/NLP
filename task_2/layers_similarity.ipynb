{
 "cells": [
  {
   "cell_type": "code",
   "execution_count": 272,
   "metadata": {},
   "outputs": [],
   "source": [
    "from datasets import load_dataset\n",
    "import random\n",
    "from transformers import AutoTokenizer, AutoModel, GPT2LMHeadModel, GPT2Tokenizer\n",
    "import torch\n",
    "from tqdm import tqdm\n",
    "import numpy as np\n",
    "from sklearn.metrics.pairwise import cosine_similarity\n",
    "import re\n",
    "import matplotlib.pyplot as plt"
   ]
  },
  {
   "cell_type": "code",
   "execution_count": 196,
   "metadata": {},
   "outputs": [
    {
     "data": {
      "text/plain": [
       "BertModel(\n",
       "  (embeddings): BertEmbeddings(\n",
       "    (word_embeddings): Embedding(60000, 768, padding_idx=0)\n",
       "    (position_embeddings): Embedding(512, 768)\n",
       "    (token_type_embeddings): Embedding(2, 768)\n",
       "    (LayerNorm): LayerNorm((768,), eps=1e-12, elementwise_affine=True)\n",
       "    (dropout): Dropout(p=0.1, inplace=False)\n",
       "  )\n",
       "  (encoder): BertEncoder(\n",
       "    (layer): ModuleList(\n",
       "      (0-11): 12 x BertLayer(\n",
       "        (attention): BertAttention(\n",
       "          (self): BertSdpaSelfAttention(\n",
       "            (query): Linear(in_features=768, out_features=768, bias=True)\n",
       "            (key): Linear(in_features=768, out_features=768, bias=True)\n",
       "            (value): Linear(in_features=768, out_features=768, bias=True)\n",
       "            (dropout): Dropout(p=0.1, inplace=False)\n",
       "          )\n",
       "          (output): BertSelfOutput(\n",
       "            (dense): Linear(in_features=768, out_features=768, bias=True)\n",
       "            (LayerNorm): LayerNorm((768,), eps=1e-12, elementwise_affine=True)\n",
       "            (dropout): Dropout(p=0.1, inplace=False)\n",
       "          )\n",
       "        )\n",
       "        (intermediate): BertIntermediate(\n",
       "          (dense): Linear(in_features=768, out_features=3072, bias=True)\n",
       "          (intermediate_act_fn): GELUActivation()\n",
       "        )\n",
       "        (output): BertOutput(\n",
       "          (dense): Linear(in_features=3072, out_features=768, bias=True)\n",
       "          (LayerNorm): LayerNorm((768,), eps=1e-12, elementwise_affine=True)\n",
       "          (dropout): Dropout(p=0.1, inplace=False)\n",
       "        )\n",
       "      )\n",
       "    )\n",
       "  )\n",
       "  (pooler): BertPooler(\n",
       "    (dense): Linear(in_features=768, out_features=768, bias=True)\n",
       "    (activation): Tanh()\n",
       "  )\n",
       ")"
      ]
     },
     "execution_count": 196,
     "metadata": {},
     "output_type": "execute_result"
    }
   ],
   "source": [
    "bert_model_name = \"dkleczek/bert-base-polish-cased-v1\"\n",
    "bert_tokenizer = AutoTokenizer.from_pretrained(bert_model_name)\n",
    "bert_model = AutoModel.from_pretrained(bert_model_name, output_hidden_states=True)\n",
    "bert_model.eval()"
   ]
  },
  {
   "cell_type": "code",
   "execution_count": 198,
   "metadata": {},
   "outputs": [
    {
     "data": {
      "text/plain": [
       "GPT2Model(\n",
       "  (wte): Embedding(51200, 1024)\n",
       "  (wpe): Embedding(2048, 1024)\n",
       "  (drop): Dropout(p=0.1, inplace=False)\n",
       "  (h): ModuleList(\n",
       "    (0-23): 24 x GPT2Block(\n",
       "      (ln_1): LayerNorm((1024,), eps=1e-05, elementwise_affine=True)\n",
       "      (attn): GPT2SdpaAttention(\n",
       "        (c_attn): Conv1D(nf=3072, nx=1024)\n",
       "        (c_proj): Conv1D(nf=1024, nx=1024)\n",
       "        (attn_dropout): Dropout(p=0.1, inplace=False)\n",
       "        (resid_dropout): Dropout(p=0.1, inplace=False)\n",
       "      )\n",
       "      (ln_2): LayerNorm((1024,), eps=1e-05, elementwise_affine=True)\n",
       "      (mlp): GPT2MLP(\n",
       "        (c_fc): Conv1D(nf=4096, nx=1024)\n",
       "        (c_proj): Conv1D(nf=1024, nx=4096)\n",
       "        (act): FastGELUActivation()\n",
       "        (dropout): Dropout(p=0.1, inplace=False)\n",
       "      )\n",
       "    )\n",
       "  )\n",
       "  (ln_f): LayerNorm((1024,), eps=1e-05, elementwise_affine=True)\n",
       ")"
      ]
     },
     "execution_count": 198,
     "metadata": {},
     "output_type": "execute_result"
    }
   ],
   "source": [
    "gpt2_model_name = \"sdadas/polish-gpt2-medium\"\n",
    "gpt2_tokenizer = AutoTokenizer.from_pretrained(gpt2_model_name)\n",
    "gpt2_model = AutoModel.from_pretrained(gpt2_model_name, output_hidden_states=True)\n",
    "gpt2_model.eval()"
   ]
  },
  {
   "cell_type": "code",
   "execution_count": 2,
   "metadata": {},
   "outputs": [],
   "source": [
    "dataset = load_dataset(\"clarin-knext/wsd_polish_datasets\", trust_remote_code=True)"
   ]
  },
  {
   "cell_type": "markdown",
   "metadata": {},
   "source": [
    "1. Wczytaj zbiór danych i wybierz z niego teksty z lematami\n",
    "2. Mapowanie słów na zdania i odrzucenie słów nie występujących co najmniej 5 razy\n",
    "3. wylosowanie n słów w kontekście\n",
    "4. Sprawdzenie embeddingów wylosowanych słów ze względu na warstwę i policzenie podobieństwa\n",
    "5. Utworzenie wykresu\n",
    "6. "
   ]
  },
  {
   "cell_type": "code",
   "execution_count": 34,
   "metadata": {},
   "outputs": [],
   "source": [
    "def split_text_into_sentences_with_indices(text):\n",
    "    pattern = re.compile(r'(?<!\\w\\.\\w.)(?<![A-Z][a-z]\\.)(?<=\\.|\\?|\\!)\\s')\n",
    "    \n",
    "    sentences = []\n",
    "    start = 0\n",
    "    \n",
    "    for match in pattern.finditer(text):\n",
    "        end = match.end()\n",
    "        sentence = text[start:end].strip()\n",
    "        sentences.append((sentence, start, end - 1))\n",
    "        start = end\n",
    "\n",
    "    if start < len(text):\n",
    "        sentences.append((text[start:].strip(), start, len(text) - 1))\n",
    "\n",
    "    return sentences"
   ]
  },
  {
   "cell_type": "code",
   "execution_count": null,
   "metadata": {},
   "outputs": [],
   "source": [
    "# sentences = {}\n",
    "# words = {}\n",
    "\n",
    "# for i, sample in enumerate(dataset['train']):\n",
    "#     sentences[i] = {'text': sample['text'], 'lemma': sample['tokens']['lemma']}\n",
    "#     for j, (lemma, pos) in enumerate(zip(sample['tokens']['lemma'], sample['tokens']['pos'])):\n",
    "#         if pos == 'interp':\n",
    "#             continue\n",
    "#         if lemma not in words:\n",
    "#             words[lemma] = []\n",
    "#         words[lemma].append((i, j))"
   ]
  },
  {
   "cell_type": "code",
   "execution_count": null,
   "metadata": {},
   "outputs": [
    {
     "name": "stderr",
     "output_type": "stream",
     "text": [
      " 51%|█████     | 51/100 [2:20:55<2:15:23, 165.79s/it]\n",
      " 14%|█▍        | 14/100 [2:20:31<14:23:13, 602.25s/it]\n"
     ]
    }
   ],
   "source": [
    "sentences = {}\n",
    "words = {}\n",
    "\n",
    "i = 0\n",
    "for sample in dataset['train']:\n",
    "    split_sentences = split_text_into_sentences_with_indices(sample['text'])\n",
    "    prev_j = 0\n",
    "    for sentence, start_idx, end_idx in split_sentences:\n",
    "        for j in range(prev_j, len(sample['tokens']['position'])):\n",
    "            if sample['tokens']['position'][j][1] == end_idx:\n",
    "                if len(sentence) <= 512:\n",
    "                    sentences[i] = {'text': sentence, 'lemma': sample['tokens']['lemma'][prev_j : j + 1], 'orth': sample['tokens']['orth'][prev_j : j + 1]}\n",
    "                    \n",
    "                    for k, (lemma, pos) in enumerate(zip(sample['tokens']['lemma'][prev_j : j + 1], sample['tokens']['pos'][prev_j : j + 1])):\n",
    "                        if pos == 'interp':\n",
    "                            continue\n",
    "                        if lemma not in words:\n",
    "                            words[lemma] = []\n",
    "                        words[lemma].append((i, k))\n",
    "\n",
    "                prev_j = j + 1\n",
    "                i += 1\n",
    "                break"
   ]
  },
  {
   "cell_type": "markdown",
   "metadata": {},
   "source": [
    "# Badanie anizotropii"
   ]
  },
  {
   "cell_type": "code",
   "execution_count": 266,
   "metadata": {},
   "outputs": [],
   "source": [
    "words_to_check = random.sample(list(words.values()), 100)\n",
    "words_to_check = [random.choice(word) for word in words_to_check]"
   ]
  },
  {
   "cell_type": "code",
   "execution_count": null,
   "metadata": {},
   "outputs": [],
   "source": [
    "# def get_word_in_sentence_emeddings(sentence_i, word_i):\n",
    "#     text = sentences[sentence_i]['text']\n",
    "#     with torch.no_grad():\n",
    "#         inputs = tokenizer(text, return_tensors='pt', add_special_tokens=False, truncation=True, max_length=512, padding=\"max_length\")\n",
    "#         input_ids = inputs[\"input_ids\"]\n",
    "#         attention_mask = inputs['attention_mask']\n",
    "#         outputs = model(input_ids, attention_mask=attention_mask)\n",
    "#     hidden_states = outputs.hidden_states\n",
    "#     tokens_ids = tokenizer.convert_ids_to_tokens(input_ids[0])\n",
    "#     # print(tokens_ids[word_i], sentences[sentence_i]['lemma'][word_i])\n",
    "#     word_embeddings = [layer_output[0, word_i].numpy() for layer_output in hidden_states]\n",
    "#     word_embeddings = [model.embeddings.word_embeddings(input_ids)[0, word_i], *word_embeddings]\n",
    "#     print(word_embeddings[-1].shape)\n",
    "#     return word_embeddings"
   ]
  },
  {
   "cell_type": "code",
   "execution_count": null,
   "metadata": {},
   "outputs": [],
   "source": [
    "def get_bert_word_embedding(tokens_text, token_embeddings, word):\n",
    "    subtoken_ids = []\n",
    "    prev_text = ''\n",
    "    for i, token in enumerate(tokens_text):\n",
    "        if token.startswith(\"##\"):\n",
    "            prev_text += token[2:]\n",
    "            subtoken_ids.append(i)\n",
    "        else:\n",
    "            subtoken_ids = [i]\n",
    "            prev_text = token\n",
    "\n",
    "        if prev_text == word:\n",
    "            return torch.mean(token_embeddings[subtoken_ids], dim=0)\n",
    "        \n",
    "    return None"
   ]
  },
  {
   "cell_type": "code",
   "execution_count": null,
   "metadata": {},
   "outputs": [],
   "source": [
    "def get_gpt2_word_embedding(tokens_text, token_embeddings, word):\n",
    "    subtoken_ids = []\n",
    "    word2 = re.sub(r'[^a-zA-Z0-9]', '', word)\n",
    "    prev_text = ''\n",
    "    for i, token in enumerate(tokens_text):\n",
    "\n",
    "        if prev_text == word2:\n",
    "            return torch.mean(token_embeddings[subtoken_ids], dim=0)\n",
    "\n",
    "        new_fragment = re.sub(r'[^a-zA-Z0-9]', '', token)\n",
    "        if new_fragment:\n",
    "            if token.startswith(\"Ġ\"):\n",
    "                prev_text = new_fragment\n",
    "                subtoken_ids = [i]\n",
    "            else:\n",
    "                subtoken_ids.append(i)\n",
    "                prev_text += new_fragment\n",
    "        else:\n",
    "            prev_text = ''\n",
    "            subtoken_ids = []\n",
    "\n",
    "    if prev_text == word2:\n",
    "        return torch.mean(token_embeddings[subtoken_ids], dim=0)\n",
    "\n",
    "    return None"
   ]
  },
  {
   "cell_type": "code",
   "execution_count": null,
   "metadata": {},
   "outputs": [],
   "source": [
    "def get_word_in_sentence_embeddings(sentence_i, word_i, model):\n",
    "    text = sentences[sentence_i]['text']\n",
    "    word = sentences[sentence_i]['orth'][word_i]\n",
    "    \n",
    "    if model == 'bert':\n",
    "        tokens = bert_tokenizer(text, return_tensors='pt')\n",
    "        input_ids = tokens['input_ids'].squeeze()\n",
    "        tokens_text = bert_tokenizer.convert_ids_to_tokens(input_ids)\n",
    "        with torch.no_grad():\n",
    "            outputs = bert_model(**tokens, output_hidden_states=True)\n",
    "    \n",
    "    elif model == 'gpt2':\n",
    "        tokens = gpt2_tokenizer(text, return_tensors='pt')\n",
    "        input_ids = tokens['input_ids'].squeeze()\n",
    "        tokens_text = gpt2_tokenizer.convert_ids_to_tokens(input_ids)\n",
    "        with torch.no_grad():\n",
    "            outputs = gpt2_model(**tokens, output_hidden_states=True)\n",
    "\n",
    "    hidden_states = outputs.hidden_states\n",
    "\n",
    "    all_layers_embeddings = []\n",
    "\n",
    "    for layer_embeddings in hidden_states:\n",
    "        token_embeddings = layer_embeddings.squeeze()\n",
    "        if model == 'bert':\n",
    "            word_embedding = get_bert_word_embedding(tokens_text, token_embeddings, word)\n",
    "        elif model == 'gpt2':\n",
    "            word_embedding = get_gpt2_word_embedding(tokens_text, token_embeddings, word)\n",
    "        if word_embedding:\n",
    "            all_layers_embeddings.append(word_embedding)\n",
    "\n",
    "    return all_layers_embeddings\n"
   ]
  },
  {
   "cell_type": "code",
   "execution_count": 218,
   "metadata": {},
   "outputs": [],
   "source": [
    "def calculate_avg_sim(words_to_check, model):\n",
    "    word_embeddings = [get_word_in_sentence_embeddings(*instance, model) for instance in tqdm(words_to_check)]\n",
    "    layers_embeddings = [[torch.Tensor(embeddings[i]).detach().numpy() for embeddings in word_embeddings] for i in range(len(word_embeddings[0]))]\n",
    "\n",
    "    layers_sim = []\n",
    "    for layer_embeddings in layers_embeddings:\n",
    "        similarity_matrix = cosine_similarity(layer_embeddings)\n",
    "        n = similarity_matrix.shape[0]\n",
    "        mask = np.ones((n, n)) - np.eye(n)\n",
    "\n",
    "        sim_no_diag = similarity_matrix * mask\n",
    "        sum_sim = np.sum(sim_no_diag)\n",
    "        layers_sim.append(sum_sim / (n * (n - 1)))\n",
    "\n",
    "    return layers_sim"
   ]
  },
  {
   "cell_type": "code",
   "execution_count": 219,
   "metadata": {},
   "outputs": [
    {
     "name": "stderr",
     "output_type": "stream",
     "text": [
      "100%|██████████| 100/100 [00:04<00:00, 23.74it/s]\n"
     ]
    }
   ],
   "source": [
    "bert_layers_sim = calculate_avg_sim(words_to_check, 'bert')"
   ]
  },
  {
   "cell_type": "code",
   "execution_count": 267,
   "metadata": {},
   "outputs": [
    {
     "name": "stderr",
     "output_type": "stream",
     "text": [
      "\n",
      "\u001b[A\n",
      "\u001b[A\n",
      "\u001b[A\n",
      "\u001b[A\n",
      "\u001b[A\n",
      "\u001b[A\n",
      "\u001b[A\n",
      "\u001b[A\n",
      "\u001b[A\n",
      "\u001b[A\n",
      "\u001b[A\n",
      "\u001b[A\n",
      "\u001b[A\n",
      "\u001b[A\n",
      "\u001b[A\n",
      "\u001b[A\n",
      "\u001b[A\n",
      "\u001b[A\n",
      "\u001b[A\n",
      "\u001b[A\n",
      "\u001b[A\n",
      "\u001b[A\n",
      "\u001b[A\n",
      "\u001b[A\n",
      "\u001b[A\n",
      "\u001b[A\n",
      "\u001b[A\n",
      "\u001b[A\n",
      "\u001b[A\n",
      "\u001b[A\n",
      "\u001b[A\n",
      "\u001b[A\n",
      "\u001b[A\n",
      "\u001b[A\n",
      "\u001b[A\n",
      "\u001b[A\n",
      "\u001b[A\n",
      "\u001b[A\n",
      "\u001b[A\n",
      "\u001b[A\n",
      "\u001b[A\n",
      "\u001b[A\n",
      "\u001b[A\n",
      "\u001b[A\n",
      "\u001b[A\n",
      "\u001b[A\n",
      "\u001b[A\n",
      "\u001b[A\n",
      "\u001b[A\n",
      "\u001b[A\n",
      "\u001b[A\n",
      "\u001b[A\n",
      "\u001b[A\n",
      "\u001b[A\n",
      "\u001b[A\n",
      "\u001b[A\n",
      "\u001b[A\n",
      "\u001b[A\n",
      "\u001b[A\n",
      "\u001b[A\n",
      "\u001b[A\n",
      "\u001b[A\n",
      "\u001b[A\n",
      "\u001b[A\n",
      "\u001b[A\n",
      "\u001b[A\n",
      "\u001b[A\n",
      "\u001b[A\n",
      "\u001b[A\n",
      "\u001b[A\n",
      "\u001b[A\n",
      "\u001b[A\n",
      "\u001b[A\n",
      "\u001b[A\n",
      "\u001b[A\n",
      "\u001b[A\n",
      "\u001b[A\n",
      "\u001b[A\n",
      "\u001b[A\n",
      "\u001b[A\n",
      "\u001b[A\n",
      "\u001b[A\n",
      "\u001b[A\n",
      "\u001b[A\n",
      "\u001b[A\n",
      "\u001b[A\n",
      "\u001b[A\n",
      "\u001b[A\n",
      "\u001b[A\n",
      "\u001b[A\n",
      "\u001b[A\n",
      "\u001b[A\n",
      "\u001b[A\n",
      "\u001b[A\n",
      "\u001b[A\n",
      "\u001b[A\n",
      "\u001b[A\n",
      "\u001b[A\n",
      "\u001b[A\n",
      "\u001b[A\n",
      "100%|██████████| 100/100 [00:16<00:00,  5.95it/s]\n"
     ]
    }
   ],
   "source": [
    "gpt2_layers_sim = calculate_avg_sim(words_to_check, 'gpt2')"
   ]
  },
  {
   "cell_type": "code",
   "execution_count": 268,
   "metadata": {},
   "outputs": [
    {
     "data": {
      "text/plain": [
       "[0.1242108559755919,\n",
       " 0.1561747564046145,\n",
       " 0.18470765863549943,\n",
       " 0.22061720420032588,\n",
       " 0.2540712910668567,\n",
       " 0.2525462965851631,\n",
       " 0.2364299280977234,\n",
       " 0.21732487765902822,\n",
       " 0.2327784518167527,\n",
       " 0.26443587575446476,\n",
       " 0.2749206278691388,\n",
       " 0.28072974514931137,\n",
       " 0.20673513979077188]"
      ]
     },
     "execution_count": 268,
     "metadata": {},
     "output_type": "execute_result"
    }
   ],
   "source": [
    "bert_layers_sim"
   ]
  },
  {
   "cell_type": "code",
   "execution_count": 271,
   "metadata": {},
   "outputs": [
    {
     "data": {
      "text/plain": [
       "[0.1384280436892754,\n",
       " 0.7174877753763488,\n",
       " 0.7247057381708815,\n",
       " 0.6822423840351779,\n",
       " 0.6330162386165349,\n",
       " 0.59317576838709,\n",
       " 0.5724568023645046,\n",
       " 0.5527765642571019,\n",
       " 0.5365147434390442,\n",
       " 0.5228179862344111,\n",
       " 0.5152724108558543,\n",
       " 0.5142191308955991,\n",
       " 0.5179921030366059,\n",
       " 0.5236430239190131,\n",
       " 0.5271788560809813,\n",
       " 0.5290474708242849,\n",
       " 0.5238527476505348,\n",
       " 0.5265272594540559,\n",
       " 0.5359213618849489,\n",
       " 0.5432974416232019,\n",
       " 0.5628778416693512,\n",
       " 0.592616684938019,\n",
       " 0.636370044045075,\n",
       " 0.6831254293641659,\n",
       " 0.26388407760798327]"
      ]
     },
     "execution_count": 271,
     "metadata": {},
     "output_type": "execute_result"
    }
   ],
   "source": [
    "gpt2_layers_sim"
   ]
  },
  {
   "cell_type": "code",
   "execution_count": null,
   "metadata": {},
   "outputs": [
    {
     "data": {
      "image/png": "[encoded data removed]",
      "text/plain": [
       "<Figure size 1000x600 with 1 Axes>"
      ]
     },
     "metadata": {},
     "output_type": "display_data"
    }
   ],
   "source": [
    "plt.figure(figsize=(10, 6))\n",
    "\n",
    "# Dodawanie pierwszej linii\n",
    "plt.plot(range(len(bert_layers_sim)), bert_layers_sim, label='BERT', color='blue', marker='o')\n",
    "\n",
    "# Dodawanie drugiej linii\n",
    "plt.plot(range(len(gpt2_layers_sim)), gpt2_layers_sim, label='GPT2', color='red', marker='s')\n",
    "\n",
    "# Dodawanie tytułu i etykiet osi\n",
    "plt.title('Średnie podobieństwo dla losowo wybranych słów')\n",
    "plt.xlabel('Oś X')\n",
    "plt.ylabel('Oś Y')\n",
    "\n",
    "# Dodawanie legendy\n",
    "plt.legend()\n",
    "\n",
    "# Wyświetlanie wykresu\n",
    "plt.grid(True)\n",
    "plt.show()"
   ]
  }
 ],
 "metadata": {
  "kernelspec": {
   "display_name": "Python 3",
   "language": "python",
   "name": "python3"
  },
  "language_info": {
   "codemirror_mode": {
    "name": "ipython",
    "version": 3
   },
   "file_extension": ".py",
   "mimetype": "text/x-python",
   "name": "python",
   "nbconvert_exporter": "python",
   "pygments_lexer": "ipython3",
   "version": "3.11.9"
  }
 },
 "nbformat": 4,
 "nbformat_minor": 2
}
