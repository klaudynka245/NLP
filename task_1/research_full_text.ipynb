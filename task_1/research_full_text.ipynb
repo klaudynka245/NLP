{
 "cells": [
  {
   "cell_type": "code",
   "execution_count": 1,
   "metadata": {},
   "outputs": [],
   "source": [
    "import json\n",
    "from sklearn.metrics import cohen_kappa_score\n",
    "from statsmodels.stats.inter_rater import fleiss_kappa\n",
    "\n",
    "annotations = {}\n"
   ]
  },
  {
   "cell_type": "code",
   "execution_count": 10,
   "metadata": {},
   "outputs": [],
   "source": [
    "classes_map = {\n",
    "    \"pozytywny wydźwięk\": 0,\n",
    "    \"neutralny wydźwięk\": 1,\n",
    "    \"negatywny wydźwięk\": 2,\n",
    "    \"mowa nienawiści\": 3,\n",
    "    \"positive\": 0,\n",
    "    \"neutral\": 1,\n",
    "    \"negative\": 2,\n",
    "    \"hate_speech\": 3,\n",
    "    \"pozytywne\": 0,\n",
    "    \"neutralne\": 1,\n",
    "    \"negatywne\": 2,\n",
    "    \"mowa nienawisci\": 3,\n",
    "    \"nienawisc\": 3\n",
    "}"
   ]
  },
  {
   "cell_type": "code",
   "execution_count": 3,
   "metadata": {},
   "outputs": [],
   "source": [
    "def loadDataset(path: str, annots: dict[str, list[int | str]] = None):\n",
    "    with open(path, 'r', encoding='utf-8') as file:\n",
    "        if annots == None:\n",
    "            annots = {}\n",
    "            for line in file:\n",
    "                line = json.loads(line)\n",
    "                annots[line[\"text\"]] = [classes_map[line[\"label\"][0]]]\n",
    "        else:\n",
    "            for line in file:\n",
    "                line = json.loads(line)\n",
    "                annots[line[\"text\"]].append(classes_map[line[\"label\"][0]])\n",
    "    return annots"
   ]
  },
  {
   "cell_type": "code",
   "execution_count": 4,
   "metadata": {},
   "outputs": [],
   "source": [
    "def separateConflicts(annots: dict[str, list[int | str]]) -> tuple[list[dict], list[dict]]:\n",
    "    correct = []\n",
    "    wrong = []\n",
    "\n",
    "    for text, labels in annots.items():\n",
    "        if all(label == labels[0] for label in labels):\n",
    "            correct.append({\"text\": text, \"label\": labels[0]})\n",
    "        else:\n",
    "            wrong.append({\"text\": text, \"label\": \"\", \"old_labels\": str(labels)})\n",
    "    \n",
    "    return correct, wrong"
   ]
  },
  {
   "cell_type": "code",
   "execution_count": 5,
   "metadata": {},
   "outputs": [],
   "source": [
    "def kappaCohenResult(annots: dict[str, list[int | str]]):\n",
    "    annotators = [[], [], []]\n",
    "    for annotations in annots.values():\n",
    "        for annotation, annotator in zip(annotations, annotators):\n",
    "            annotator.append(annotation)\n",
    "    \n",
    "    print('Kappa Cohen:')\n",
    "    print(f'Klaudia - Michał: {cohen_kappa_score(annotators[0], annotators[1])}')\n",
    "    print(f'Klaudia - Kajtek: {cohen_kappa_score(annotators[0], annotators[2])}')\n",
    "    print(f'Kajtek - Michał: {cohen_kappa_score(annotators[2], annotators[1])}')\n"
   ]
  },
  {
   "cell_type": "code",
   "execution_count": 6,
   "metadata": {},
   "outputs": [],
   "source": [
    "def kappaFleissResult(annots: dict[str, list[int | str]]):\n",
    "    results = []\n",
    "    for annotations in annots.values():\n",
    "        new_sample = [0, 0, 0, 0]\n",
    "        for annotation in annotations:\n",
    "            new_sample[annotation] += 1\n",
    "        results.append(new_sample)\n",
    "    print(f'Kappa Fleiss: {fleiss_kappa(results)}')"
   ]
  },
  {
   "cell_type": "code",
   "execution_count": 7,
   "metadata": {},
   "outputs": [],
   "source": [
    "def write_jsonl(file_path, data):\n",
    "    with open(file_path, 'w', encoding='utf-8') as f:\n",
    "        for item in data:\n",
    "            f.write(json.dumps(item, ensure_ascii=False) + '\\n')"
   ]
  },
  {
   "cell_type": "markdown",
   "metadata": {},
   "source": [
    "Pierwsza iteracja"
   ]
  },
  {
   "cell_type": "code",
   "execution_count": 11,
   "metadata": {},
   "outputs": [],
   "source": [
    "annotations = loadDataset(\"data/klaudia.jsonl\")\n",
    "annotations = loadDataset(\"data/michal.jsonl\", annotations)\n",
    "annotations = loadDataset(\"data/kajetan.jsonl\", annotations)"
   ]
  },
  {
   "cell_type": "code",
   "execution_count": 36,
   "metadata": {},
   "outputs": [
    {
     "name": "stdout",
     "output_type": "stream",
     "text": [
      "Kappa Cohen:\n",
      "Klaudia - Michał: 0.48137755713840324\n",
      "Klaudia - Kajtek: 0.3391286665649942\n",
      "Kajtek - Michał: 0.43653533422726887\n"
     ]
    }
   ],
   "source": [
    "kappaCohenResult(annotations)"
   ]
  },
  {
   "cell_type": "code",
   "execution_count": 37,
   "metadata": {},
   "outputs": [
    {
     "name": "stdout",
     "output_type": "stream",
     "text": [
      "Kappa Fleiss: 0.4092986691137362\n"
     ]
    }
   ],
   "source": [
    "kappaFleissResult(annotations)"
   ]
  },
  {
   "cell_type": "code",
   "execution_count": 38,
   "metadata": {},
   "outputs": [],
   "source": [
    "correct, wrong = separateConflicts(annotations)"
   ]
  },
  {
   "cell_type": "code",
   "execution_count": 39,
   "metadata": {},
   "outputs": [
    {
     "data": {
      "text/plain": [
       "257"
      ]
     },
     "execution_count": 39,
     "metadata": {},
     "output_type": "execute_result"
    }
   ],
   "source": [
    "len(wrong)"
   ]
  },
  {
   "cell_type": "code",
   "execution_count": 40,
   "metadata": {},
   "outputs": [
    {
     "data": {
      "text/plain": [
       "243"
      ]
     },
     "execution_count": 40,
     "metadata": {},
     "output_type": "execute_result"
    }
   ],
   "source": [
    "len(correct)"
   ]
  },
  {
   "cell_type": "code",
   "execution_count": 45,
   "metadata": {},
   "outputs": [],
   "source": [
    "write_jsonl(\"data/first_round_correct.jsonl\", correct)"
   ]
  },
  {
   "cell_type": "code",
   "execution_count": 46,
   "metadata": {},
   "outputs": [],
   "source": [
    "write_jsonl(\"data/first_round_wrong.jsonl\", wrong)"
   ]
  },
  {
   "cell_type": "code",
   "execution_count": 7,
   "metadata": {},
   "outputs": [],
   "source": [
    "with open(\"data/first_round_correct.jsonl\", 'r', encoding='utf-8') as file:\n",
    "    correct_data = [json.loads(line) for line in file]\n",
    "\n",
    "with open(\"data/first_round_wrong.jsonl\", 'r', encoding='utf-8') as file:\n",
    "    for line in file:\n",
    "        new_sample = json.loads(line)\n",
    "        new_sample.pop(\"old_labels\")\n",
    "        correct_data.append(new_sample)\n",
    "\n",
    "write_jsonl(\"data/first_round.jsonl\", correct_data)"
   ]
  },
  {
   "cell_type": "markdown",
   "metadata": {},
   "source": [
    "Druga iteracja"
   ]
  },
  {
   "cell_type": "code",
   "execution_count": 12,
   "metadata": {},
   "outputs": [],
   "source": [
    "annotations = loadDataset(\"data/klaudia2.jsonl\")\n",
    "annotations = loadDataset(\"data/michal2.jsonl\", annotations)\n",
    "annotations = loadDataset(\"data/kajetan2.jsonl\", annotations)"
   ]
  },
  {
   "cell_type": "code",
   "execution_count": 13,
   "metadata": {},
   "outputs": [
    {
     "name": "stdout",
     "output_type": "stream",
     "text": [
      "Kappa Cohen:\n",
      "Klaudia - Michał: 0.5364647713226205\n",
      "Klaudia - Kajtek: 0.5660956085883145\n",
      "Kajtek - Michał: 0.62563985025594\n"
     ]
    }
   ],
   "source": [
    "kappaCohenResult(annotations)"
   ]
  },
  {
   "cell_type": "code",
   "execution_count": 14,
   "metadata": {},
   "outputs": [
    {
     "name": "stdout",
     "output_type": "stream",
     "text": [
      "Kappa Fleiss: 0.575833516771932\n"
     ]
    }
   ],
   "source": [
    "kappaFleissResult(annotations)"
   ]
  },
  {
   "cell_type": "code",
   "execution_count": 16,
   "metadata": {},
   "outputs": [],
   "source": [
    "correct, wrong = separateConflicts(annotations)\n",
    "write_jsonl(\"data/second_round_correct.jsonl\", correct)\n",
    "write_jsonl(\"data/second_round_wrong.jsonl\", wrong)"
   ]
  },
  {
   "cell_type": "code",
   "execution_count": 17,
   "metadata": {},
   "outputs": [],
   "source": [
    "with open(\"data/second_round_correct.jsonl\", 'r', encoding='utf-8') as file:\n",
    "    correct_data = [json.loads(line) for line in file]\n",
    "\n",
    "with open(\"data/second_round_wrong.jsonl\", 'r', encoding='utf-8') as file:\n",
    "    for line in file:\n",
    "        new_sample = json.loads(line)\n",
    "        new_sample.pop(\"old_labels\")\n",
    "        correct_data.append(new_sample)\n",
    "\n",
    "write_jsonl(\"data/second_round.jsonl\", correct_data)"
   ]
  }
 ],
 "metadata": {
  "kernelspec": {
   "display_name": "Python 3",
   "language": "python",
   "name": "python3"
  },
  "language_info": {
   "codemirror_mode": {
    "name": "ipython",
    "version": 3
   },
   "file_extension": ".py",
   "mimetype": "text/x-python",
   "name": "python",
   "nbconvert_exporter": "python",
   "pygments_lexer": "ipython3",
   "version": "3.11.9"
  }
 },
 "nbformat": 4,
 "nbformat_minor": 2
}
