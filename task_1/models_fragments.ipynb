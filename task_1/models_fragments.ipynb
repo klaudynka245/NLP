{
 "cells": [
  {
   "cell_type": "code",
   "execution_count": 95,
   "metadata": {},
   "outputs": [],
   "source": [
    "import gensim\n",
    "import numpy as np\n",
    "import pandas as pd\n",
    "import re\n",
    "import stopwordsiso as stopwords\n",
    "import spacy\n",
    "import json\n",
    "from sklearn.manifold import TSNE\n",
    "import plotly.express as px"
   ]
  },
  {
   "cell_type": "code",
   "execution_count": 18,
   "metadata": {},
   "outputs": [
    {
     "name": "stdout",
     "output_type": "stream",
     "text": [
      "Collecting pl-core-news-sm==3.8.0\n",
      "  Downloading https://github.com/explosion/spacy-models/releases/download/pl_core_news_sm-3.8.0/pl_core_news_sm-3.8.0-py3-none-any.whl (20.2 MB)\n",
      "     ---------------------------------------- 0.0/20.2 MB ? eta -:--:--\n",
      "     ------- -------------------------------- 3.9/20.2 MB 29.4 MB/s eta 0:00:01\n",
      "     ----------------------- --------------- 12.1/20.2 MB 34.3 MB/s eta 0:00:01\n",
      "     --------------------------------------  20.2/20.2 MB 36.4 MB/s eta 0:00:01\n",
      "     --------------------------------------- 20.2/20.2 MB 35.4 MB/s eta 0:00:00\n",
      "Installing collected packages: pl-core-news-sm\n",
      "Successfully installed pl-core-news-sm-3.8.0\n",
      "\u001b[38;5;2m✔ Download and installation successful\u001b[0m\n",
      "You can now load the package via spacy.load('pl_core_news_sm')\n"
     ]
    }
   ],
   "source": [
    "#! python -m spacy download pl_core_news_sm"
   ]
  },
  {
   "cell_type": "code",
   "execution_count": 7,
   "metadata": {},
   "outputs": [],
   "source": [
    "file_path = 'data/fragments_classification.jsonl'  \n",
    "data = pd.read_json(file_path, lines=True)"
   ]
  },
  {
   "cell_type": "code",
   "execution_count": 8,
   "metadata": {},
   "outputs": [
    {
     "data": {
      "text/html": [
       "<div>\n",
       "<style scoped>\n",
       "    .dataframe tbody tr th:only-of-type {\n",
       "        vertical-align: middle;\n",
       "    }\n",
       "\n",
       "    .dataframe tbody tr th {\n",
       "        vertical-align: top;\n",
       "    }\n",
       "\n",
       "    .dataframe thead th {\n",
       "        text-align: right;\n",
       "    }\n",
       "</style>\n",
       "<table border=\"1\" class=\"dataframe\">\n",
       "  <thead>\n",
       "    <tr style=\"text-align: right;\">\n",
       "      <th></th>\n",
       "      <th>text</th>\n",
       "      <th>label</th>\n",
       "    </tr>\n",
       "  </thead>\n",
       "  <tbody>\n",
       "    <tr>\n",
       "      <th>0</th>\n",
       "      <td>Nie uzna gola. Robben był kilka metrów w polu ...</td>\n",
       "      <td>[[0, 8, odwrócenie]]</td>\n",
       "    </tr>\n",
       "    <tr>\n",
       "      <th>1</th>\n",
       "      <td>@USER No właśnie o tym jest ten tweet 😄</td>\n",
       "      <td>[]</td>\n",
       "    </tr>\n",
       "    <tr>\n",
       "      <th>2</th>\n",
       "      <td>@USER @USER Widać chcą wiecej polskich mord go...</td>\n",
       "      <td>[[23, 38, wzmocnienie]]</td>\n",
       "    </tr>\n",
       "    <tr>\n",
       "      <th>3</th>\n",
       "      <td>Idę spać bo padam na twarz, w końcu w domuuuu</td>\n",
       "      <td>[]</td>\n",
       "    </tr>\n",
       "    <tr>\n",
       "      <th>4</th>\n",
       "      <td>@USER Tak się poznałam z moim chłopakiem 😂 cza...</td>\n",
       "      <td>[]</td>\n",
       "    </tr>\n",
       "    <tr>\n",
       "      <th>...</th>\n",
       "      <td>...</td>\n",
       "      <td>...</td>\n",
       "    </tr>\n",
       "    <tr>\n",
       "      <th>595</th>\n",
       "      <td>@USER Standard, uciekły po ujawniono ich manip...</td>\n",
       "      <td>[[6, 14, osłabienie]]</td>\n",
       "    </tr>\n",
       "    <tr>\n",
       "      <th>596</th>\n",
       "      <td>@USER @USER No ale dwie naraz to nie jest norm...</td>\n",
       "      <td>[[33, 41, odwrócenie]]</td>\n",
       "    </tr>\n",
       "    <tr>\n",
       "      <th>597</th>\n",
       "      <td>@USER Wciąż przemyka Nowym Światem wartkim kro...</td>\n",
       "      <td>[]</td>\n",
       "    </tr>\n",
       "    <tr>\n",
       "      <th>598</th>\n",
       "      <td>@USER @USER mniejsza ? A na euro 12 w ktorym m...</td>\n",
       "      <td>[[62, 77, wzmocnienie]]</td>\n",
       "    </tr>\n",
       "    <tr>\n",
       "      <th>599</th>\n",
       "      <td>@USER @USER taki macie dar przekonywania że na...</td>\n",
       "      <td>[]</td>\n",
       "    </tr>\n",
       "  </tbody>\n",
       "</table>\n",
       "<p>600 rows × 2 columns</p>\n",
       "</div>"
      ],
      "text/plain": [
       "                                                  text  \\\n",
       "0    Nie uzna gola. Robben był kilka metrów w polu ...   \n",
       "1              @USER No właśnie o tym jest ten tweet 😄   \n",
       "2    @USER @USER Widać chcą wiecej polskich mord go...   \n",
       "3        Idę spać bo padam na twarz, w końcu w domuuuu   \n",
       "4    @USER Tak się poznałam z moim chłopakiem 😂 cza...   \n",
       "..                                                 ...   \n",
       "595  @USER Standard, uciekły po ujawniono ich manip...   \n",
       "596  @USER @USER No ale dwie naraz to nie jest norm...   \n",
       "597  @USER Wciąż przemyka Nowym Światem wartkim kro...   \n",
       "598  @USER @USER mniejsza ? A na euro 12 w ktorym m...   \n",
       "599  @USER @USER taki macie dar przekonywania że na...   \n",
       "\n",
       "                       label  \n",
       "0       [[0, 8, odwrócenie]]  \n",
       "1                         []  \n",
       "2    [[23, 38, wzmocnienie]]  \n",
       "3                         []  \n",
       "4                         []  \n",
       "..                       ...  \n",
       "595    [[6, 14, osłabienie]]  \n",
       "596   [[33, 41, odwrócenie]]  \n",
       "597                       []  \n",
       "598  [[62, 77, wzmocnienie]]  \n",
       "599                       []  \n",
       "\n",
       "[600 rows x 2 columns]"
      ]
     },
     "execution_count": 8,
     "metadata": {},
     "output_type": "execute_result"
    }
   ],
   "source": [
    "data"
   ]
  },
  {
   "cell_type": "markdown",
   "metadata": {},
   "source": [
    "# Preprocessing"
   ]
  },
  {
   "cell_type": "code",
   "execution_count": 78,
   "metadata": {},
   "outputs": [],
   "source": [
    "def adjust_labels_to_words(row):\n",
    "    text = row['text']\n",
    "    labels = row['label']\n",
    "    adjusted_labels = []\n",
    "    \n",
    "    for start_idx, end_idx, label in labels:\n",
    "        while start_idx > 0 and text[start_idx-1].isalnum():\n",
    "            start_idx -= 1\n",
    "        \n",
    "        while end_idx < len(text) and text[end_idx].isalnum():\n",
    "            end_idx += 1\n",
    "        \n",
    "        adjusted_labels.append((start_idx, end_idx, label))\n",
    "    \n",
    "    return adjusted_labels"
   ]
  },
  {
   "cell_type": "code",
   "execution_count": 51,
   "metadata": {},
   "outputs": [],
   "source": [
    "nlp = spacy.load(\"pl_core_news_sm\")\n",
    "\n",
    "polish_stopwords = stopwords.stopwords(\"pl\")\n",
    "\n",
    "def preprocess_text(text):\n",
    "    text = re.sub(r'@\\w+', '', text)\n",
    "\n",
    "    text = re.sub(r'[^\\w\\s]', '', text)\n",
    "    text = re.sub(r'\\d+', '', text)\n",
    "    text = text.lower().strip()\n",
    "\n",
    "    doc = nlp(text)\n",
    "\n",
    "    # return [token.lemma_ for token in doc if token.lemma_.lower() not in polish_stopwords]\n",
    "    return [token.lemma_ for token in doc]"
   ]
  },
  {
   "cell_type": "code",
   "execution_count": 50,
   "metadata": {},
   "outputs": [],
   "source": [
    "def get_labels(row):\n",
    "    text = row['text']\n",
    "    return [(preprocess_text(text[start_idx : end_idx]), label) for start_idx, end_idx, label in row['label']]\n"
   ]
  },
  {
   "cell_type": "code",
   "execution_count": 79,
   "metadata": {},
   "outputs": [],
   "source": [
    "data['label'] = data.apply(adjust_labels_to_words, axis=1)"
   ]
  },
  {
   "cell_type": "code",
   "execution_count": 80,
   "metadata": {},
   "outputs": [],
   "source": [
    "data['tokens'] = data['text'].apply(preprocess_text)"
   ]
  },
  {
   "cell_type": "code",
   "execution_count": 81,
   "metadata": {},
   "outputs": [],
   "source": [
    "data['labels2'] = data.apply(get_labels, axis=1)"
   ]
  },
  {
   "cell_type": "markdown",
   "metadata": {},
   "source": [
    "# Word2Vec"
   ]
  },
  {
   "cell_type": "code",
   "execution_count": 82,
   "metadata": {},
   "outputs": [],
   "source": [
    "with open('data/full_text_classification.jsonl', 'r', encoding='utf-8') as file:\n",
    "    texts = [preprocess_text(json.loads(line)['text']) for line in file]\n",
    "\n",
    "texts.extend(data['tokens'])"
   ]
  },
  {
   "cell_type": "code",
   "execution_count": 83,
   "metadata": {},
   "outputs": [],
   "source": [
    "w2v = gensim.models.Word2Vec(texts, vector_size=300, window=5, min_count=1, workers=4)"
   ]
  },
  {
   "cell_type": "code",
   "execution_count": 108,
   "metadata": {},
   "outputs": [],
   "source": [
    "fragment_texts = set()\n",
    "fragments = []\n",
    "for labels in data['labels2']:\n",
    "    for label in labels:\n",
    "        text = ' '.join(label[0])\n",
    "        if text in fragment_texts:\n",
    "            continue\n",
    "\n",
    "        fragment_texts.add(text)\n",
    "        vectors = []\n",
    "        for word in label[0]:\n",
    "            if word in w2v.wv:\n",
    "                vectors.append(w2v.wv[word])\n",
    "        if vectors:\n",
    "            fragments.append([np.mean(vectors, axis=0), text, label[1]])\n",
    "\n",
    "df_fragments = pd.DataFrame(fragments, columns=['vector', 'text', 'label'])"
   ]
  },
  {
   "cell_type": "code",
   "execution_count": 132,
   "metadata": {},
   "outputs": [
    {
     "data": {
      "application/vnd.plotly.v1+json": {
       "config": {
        "plotlyServerURL": "https://plot.ly"
       },
       "data": [
        {
         "hovertemplate": "<b>%{hovertext}</b><br><br>Wydźwięk=odwrócenie<br>x=%{x}<br>y=%{y}<extra></extra>",
         "hovertext": [
          "nie uzny",
          "nie decydować",
          "nie mieć",
          "nie obudzić",
          "niemy",
          "nie znać",
          "nie wstydź",
          "nie zwalnia",
          "nie przyzwyczajony",
          "nie być",
          "nie zawsze",
          "nie grać",
          "nie na",
          "nie każdy",
          "nie chcieć",
          "nie kompromitować",
          "nie wiadomo",
          "nie konczyć",
          "nie odpisujć",
          "nie sprawdzać",
          "bez media",
          "nie interesować",
          "nie pożyć",
          "albo raczej",
          "to nie",
          "bez roznica",
          "a nie",
          "ani podział",
          "ani bez podział",
          "nie zostać",
          "nie",
          "nie musieć",
          "nie wisła",
          "niedawal on",
          "nie no",
          "nie uśniedzieć",
          "nie mogć być",
          "nie wziąć być pigułka",
          "nic nie znaczyć",
          "nnie raczyliście",
          "nie zdziwilbym",
          "nie hipokryzja",
          "nie widzieć być",
          "bez mecz",
          "niemozny zrobić",
          "niewygodny",
          "nierealny",
          "bez napis",
          "bez kiko",
          "nie grać być",
          "nie móc",
          "nie dorównam",
          "nie mówić",
          "nie oznaczać",
          "nie zdobywać",
          "niedoczekać",
          "nie ubier",
          "nie dostać",
          "nie umieć",
          "nie podobać",
          "nie zdobędziemy",
          "nie zasługować",
          "niestrzeżonym",
          "jednak nie",
          "nie liczyć",
          "nie rządzić",
          "nie wrócić",
          "nie kumam",
          "nie powinien",
          "nieładnie",
          "nie polak",
          "nie mieszałabym",
          "nie martwić",
          "ale nie wiedzieć",
          "nie ksiezyc",
          "niepokonać",
          "nnie pasować",
          "nie traktować by być",
          "nie maj",
          "nie wierzyć",
          "nie ważny",
          "niemozny",
          "bez kominiarka",
          "nie płacz",
          "nie dać",
          "nie wyśmieć",
          "nie patrzeć",
          "nie za",
          "niestracic",
          "niemoze",
          "zaprzeczeć inteligencja",
          "nie plakal",
          "niewynik",
          "niebylać",
          "nie pojechać być",
          "nie zagrać",
          "nie twórz",
          "nie człowiek",
          "nie bylo",
          "nie ogrzać być",
          "nie zasilać",
          "nie radzić",
          "nie jakiś szarpać",
          "że nie",
          "nie bedzie",
          "nie sędziować",
          "nie zauważyć być",
          "nie znaleźć się",
          "nie wydmuszkać",
          "nie być żal",
          "niebronić",
          "nierozumie",
          "nie widzieć",
          "tylko nie",
          "przeciwgazowy",
          "nie czuć",
          "żaden norma",
          "nie pić",
          "niebyć",
          "nie zadzwonić być",
          "nie pomylić być"
         ],
         "legendgroup": "odwrócenie",
         "marker": {
          "color": "rgb(229, 134, 6)",
          "size": 10,
          "symbol": "circle"
         },
         "mode": "markers",
         "name": "odwrócenie",
         "orientation": "v",
         "showlegend": true,
         "type": "scatter",
         "x": [
          16.17612075805664,
          28.697729110717773,
          35.988948822021484,
          16.269338607788086,
          -49.024253845214844,
          42.9247932434082,
          13.714680671691895,
          18.075721740722656,
          19.811429977416992,
          34.47781753540039,
          47.670650482177734,
          44.38300704956055,
          32.70918655395508,
          46.944026947021484,
          39.47943115234375,
          17.561443328857422,
          45.847652435302734,
          13.415589332580566,
          12.552254676818848,
          32.650901794433594,
          4.676095485687256,
          26.550981521606445,
          11.586493492126465,
          -17.90624237060547,
          33.701904296875,
          -19.030136108398438,
          34.53502655029297,
          -41.94807052612305,
          -23.207408905029297,
          46.28611373901367,
          33.68870544433594,
          41.05332946777344,
          46.326866149902344,
          3.968454360961914,
          43.58653259277344,
          14.962135314941406,
          21.25335693359375,
          4.7178144454956055,
          9.880653381347656,
          -9.590907096862793,
          12.676948547363281,
          31.39487648010254,
          42.35840606689453,
          46.691158294677734,
          -25.591693878173828,
          -18.699729919433594,
          1.0031076669692993,
          -18.397464752197266,
          4.641357898712158,
          29.113935470581055,
          36.79449462890625,
          9.884283065795898,
          45.132591247558594,
          32.08917999267578,
          35.75114059448242,
          2.7363436222076416,
          33.68870544433594,
          47.42025375366211,
          38.56001663208008,
          28.636632919311523,
          19.214065551757812,
          19.168697357177734,
          -0.7771821618080139,
          42.423988342285156,
          43.61705017089844,
          37.12163162231445,
          41.93288040161133,
          12.078216552734375,
          44.9674186706543,
          -4.73731803894043,
          47.193580627441406,
          17.725400924682617,
          26.262163162231445,
          40.849727630615234,
          12.491263389587402,
          -8.296626091003418,
          -34.440101623535156,
          11.868003845214844,
          35.573707580566406,
          30.72315216064453,
          46.65018081665039,
          4.368248462677002,
          -19.27145004272461,
          31.479860305786133,
          47.08793258666992,
          33.68870544433594,
          40.892921447753906,
          35.53610610961914,
          -2.158813238143921,
          1.3642858266830444,
          1.9765760898590088,
          25.73772430419922,
          -7.442508697509766,
          3.6002185344696045,
          25.5313720703125,
          46.98059844970703,
          20.177547454833984,
          41.26140213012695,
          31.326053619384766,
          10.203906059265137,
          28.242698669433594,
          29.5936279296875,
          42.93735122680664,
          34.50872039794922,
          41.01301574707031,
          27.328227996826172,
          13.223788261413574,
          44.698604583740234,
          22.08406639099121,
          47.411903381347656,
          4.813601493835449,
          -2.987421751022339,
          45.939247131347656,
          36.54094314575195,
          3.0502521991729736,
          43.21480941772461,
          -45.95446014404297,
          36.60008239746094,
          -1.711219310760498,
          20.62285804748535,
          20.586883544921875
         ],
         "xaxis": "x",
         "y": [
          -15.041617393493652,
          -16.239459991455078,
          21.69837188720703,
          -15.016611099243164,
          -0.049918703734874725,
          -12.579818725585938,
          -15.67924690246582,
          -15.06070327758789,
          -14.93946361541748,
          23.40831756591797,
          0.9960240125656128,
          10.862947463989258,
          24.698965072631836,
          5.410347938537598,
          17.84879493713379,
          -14.784772872924805,
          -7.8697099685668945,
          -15.150367736816406,
          -14.983354568481445,
          -16.0273380279541,
          -39.50113296508789,
          -16.000734329223633,
          -15.84128189086914,
          -42.486507415771484,
          23.987049102783203,
          -39.89252853393555,
          23.76749610900879,
          7.357329845428467,
          -29.7431583404541,
          7.346606254577637,
          23.266145706176758,
          16.16180419921875,
          7.252820014953613,
          -29.76885986328125,
          12.444098472595215,
          -15.165637016296387,
          -15.242420196533203,
          -49.42594528198242,
          -16.921825408935547,
          5.393061637878418,
          -15.757315635681152,
          -15.989398956298828,
          -12.39729118347168,
          -6.334638595581055,
          -22.846294403076172,
          8.244070053100586,
          33.66496658325195,
          -41.2250862121582,
          -49.674808502197266,
          -16.018556594848633,
          20.916996002197266,
          -16.85995864868164,
          9.916902542114258,
          -16.259740829467773,
          -15.71337604522705,
          18.85853385925293,
          23.266145706176758,
          -3.2618484497070312,
          -14.682134628295898,
          -16.43206024169922,
          -14.971266746520996,
          -15.21334457397461,
          7.686813831329346,
          -11.983220100402832,
          -11.217427253723145,
          -15.280252456665039,
          -12.695830345153809,
          -16.265119552612305,
          10.564682960510254,
          7.59177303314209,
          -3.784898281097412,
          -14.84945297241211,
          -15.765239715576172,
          15.903451919555664,
          -15.241934776306152,
          41.668331146240234,
          10.277345657348633,
          -15.413649559020996,
          -15.767830848693848,
          -16.335145950317383,
          -5.892136573791504,
          21.149999618530273,
          -39.32472610473633,
          -16.55455780029297,
          4.539698600769043,
          23.266145706176758,
          -13.4757719039917,
          22.127180099487305,
          33.13315963745117,
          29.27983856201172,
          14.07969856262207,
          -15.716329574584961,
          40.436702728271484,
          23.780431747436523,
          -15.806715965270996,
          -4.411555290222168,
          -15.484672546386719,
          15.192152976989746,
          -16.323486328125,
          -16.616451263427734,
          -15.953325271606445,
          -16.294103622436523,
          -12.148848533630371,
          22.910995483398438,
          -13.416356086730957,
          -16.064908981323242,
          -15.291457176208496,
          10.197813034057617,
          -15.264020919799805,
          3.5789222717285156,
          18.448978424072266,
          6.430763244628906,
          8.094889640808105,
          21.16578483581543,
          22.981693267822266,
          -11.490605354309082,
          3.7696895599365234,
          -15.457816123962402,
          33.09845733642578,
          -14.821869850158691,
          -15.113154411315918
         ],
         "yaxis": "y"
        },
        {
         "hovertemplate": "<b>%{hovertext}</b><br><br>Wydźwięk=wzmocnienie<br>x=%{x}<br>y=%{y}<extra></extra>",
         "hovertext": [
          "wiecej polski",
          "pierdoli",
          "więcej wiara",
          "trudniejszy zagadka",
          "więcej problem",
          "bardzo prestiżowy",
          "nabazgrać",
          "ewidentny faul",
          "zajebiść",
          "fatalnie",
          "super film",
          "w koniec",
          "won",
          "pisowsko mendo",
          "prawdziwy mistrz",
          "świetny zabawa",
          "prymitywny dno",
          "wielki wrażenie",
          "musieć wkroczyć",
          "zajebistego",
          "dobry argument",
          "nigdy",
          "musieć być",
          "nienawidzić",
          "najlepsi europoseł",
          "niestety",
          "każdy",
          "bardzo",
          "gówniać problem",
          "göwniany opozycja",
          "gówniać domek",
          "gówno bat",
          "żałosny człowiek",
          "jedynie",
          "brawo za",
          "weć z",
          "oczywiście",
          "jełop z",
          "idiot",
          "nigdy więcej",
          "niestety bondar",
          "wszyscy mieć",
          "nikt nie",
          "zabardzo",
          "chować złamać",
          "pajacować być na",
          "kochanie",
          "oo",
          "solidnie",
          "tym bardzo",
          "nikt gwarancja",
          "zawsze",
          "praktycznie zerowy",
          "skrajny nieodpowiedzialność",
          "zawsze w",
          "musze bo",
          "caly czas",
          "musieć zapisać",
          "nigdy   pomnik",
          "odwieczny problem",
          "znowu nie",
          "jebie",
          "pisdzielstwo",
          "dobrze oddać",
          "żaden z",
          "żenuć",
          "trzeba wyciąć",
          "bez przesada",
          "wszystko widzieć",
          "zbyt mocno",
          "wszyscy znać",
          "tak wredny",
          "zbyt łatwo",
          "bardzo prosić",
          "to ważny",
          "bliski",
          "żaden demonstracja",
          "czuba",
          "tfu",
          "super napastnika",
          "taki tępy",
          "idiota",
          "cudowny",
          "pisdzielka",
          "geniusz",
          "dupa",
          "jak uleć",
          "bardzo ladnie",
          "wiecej",
          "bardzo dobrze",
          "wszystko",
          "bardzo skomplikowany",
          "każdy posta",
          "polactwo",
          "duży",
          "bardzo spektakularnie",
          "dobry",
          "dobry widok",
          "kibol rozjebać",
          "morda",
          "pisowski",
          "pisdzielstw",
          "ewidentny spalić",
          "kurwa",
          "zasrać obowiązek",
          "mrozny",
          "pejsatej bruksela",
          "za szybko",
          "blisko",
          "dużo",
          "życzliwie pozdrawiać",
          "popierdolić kobieto",
          "bredzić",
          "wszystko zależeć",
          "bardzo cenić",
          "swinie",
          "szmata ludzki",
          "pluł na",
          "szmat ludzki",
          "dobry zabezpieczenie",
          "dobry gra",
          "pisowsko gnido",
          "przed wszystko",
          "nikt",
          "bezcenny dowód",
          "pisowski kawał",
          "kłamliwy skurwysyn",
          "kompletnie nic",
          "taki osłabienie",
          "cholera",
          "bardzo niedoceniać",
          "wielki kompromitacja",
          "notoryczny kłamca",
          "zapierdalać",
          "nawet podczas",
          "taki słaby",
          "zaorać",
          "zawsze rozpoczynać",
          "chujowo",
          "sierota",
          "ważniejszać",
          "bogaty malopolana",
          "taki łatwy",
          "dużo szczęście",
          "mieć wyższ",
          "znowu oblać być",
          "banda patafian",
          "dobry połączenie",
          "taki stary",
          "znowu",
          "nacpać być",
          "najwyższy szczyt",
          "ani jeden",
          "na pewno",
          "wyłącznie",
          "musieć kombinować",
          "jak bardzo",
          "głupota",
          "najwyższa pora",
          "jasny",
          "ćpać",
          "w ogół",
          "duży jazda",
          "podjarać",
          "pajacu",
          "wyjątkowo smakować",
          "wyjątkowo ciepły",
          "debil",
          "chuj",
          "od raz",
          "boleć bardzo",
          "dzban",
          "wymarzony",
          "cały czas",
          "taki głupi",
          "chłopać",
          "taki legenda",
          "doskonać lektura",
          "większość społeczeństwo",
          "wypierdolić dyscyplinarnie",
          "doskonały",
          "dobry sezon",
          "gorsić frekwencja",
          "tyle gotuć",
          "pelny zgoda",
          "ciągle",
          "fajny żart",
          "medy",
          "wystarczyć to",
          "ważny",
          "hurrrra",
          "ty czubek",
          "wszystek chłopiec",
          "dobry drużyna",
          "i tyle",
          "aż siebie",
          "całkiem niezle",
          "śmierdzącą",
          "śmierdzić",
          "no jezu",
          "tak naprawdę",
          "kochać to",
          "skończyć bredzić",
          "powinien",
          "serio",
          "żaden",
          "wciąż oznaczać",
          "świetny nauczyciel",
          "błazn",
          "szkoda",
          "dupa boleć",
          "być idiota",
          "z większość",
          "zjeb totalny",
          "często wracać",
          "bardzo porządny",
          "herezja",
          "straszliwie",
          "musieć",
          "dramatyczny",
          "szlag trafić",
          "jeden z dobry",
          "gruby milion",
          "najlepsza część",
          "idioto",
          "ładni",
          "dobrze",
          "no blagać",
          "wszędzie",
          "kurwa znowu",
          "wielki brawa",
          "debilać",
          "super",
          "won niemcu",
          "wielcyć patrioci",
          "ostatni",
          "definitywny",
          "gratulacja",
          "polski mord",
          "tym dobrze",
          "murować",
          "za mocno",
          "najwiecej bramka",
          "mało",
          "zakompleksieny malkontent",
          "duży problem",
          "obowiązkowy",
          "w kazdym wariant",
          "zjeby",
          "zero godność",
          "ciężki weekend",
          "powinien dostawac",
          "zakłamać skurwysyn",
          "taki kity",
          "srales",
          "no nieźle",
          "tak rozgromieni"
         ],
         "legendgroup": "wzmocnienie",
         "marker": {
          "color": "rgb(93, 105, 177)",
          "size": 10,
          "symbol": "circle"
         },
         "mode": "markers",
         "name": "wzmocnienie",
         "orientation": "v",
         "showlegend": true,
         "type": "scatter",
         "x": [
          -26.868886947631836,
          3.8115909099578857,
          -46.59877014160156,
          3.696497678756714,
          -22.151390075683594,
          4.629805088043213,
          -7.15259313583374,
          3.974022626876831,
          4.967210292816162,
          1.7119050025939941,
          -42.34792709350586,
          41.95948028564453,
          -33.85675048828125,
          -8.378978729248047,
          -48.349571228027344,
          -3.7792820930480957,
          -27.437103271484375,
          -47.96775436401367,
          -21.688034057617188,
          -19.986099243164062,
          4.596356391906738,
          -26.341434478759766,
          41.5143928527832,
          1.3338687419891357,
          3.4039580821990967,
          -45.11936569213867,
          5.398664951324463,
          44.52629852294922,
          -50.30500030517578,
          -40.15007781982422,
          1.9639352560043335,
          -32.0709342956543,
          -20.743595123291016,
          -34.68479919433594,
          33.128570556640625,
          32.44036102294922,
          -49.21440124511719,
          47.36096954345703,
          -9.65287971496582,
          -24.262720108032227,
          -30.047176361083984,
          32.464111328125,
          47.636905670166016,
          6.480047702789307,
          -26.33213233947754,
          47.72585678100586,
          4.8243088722229,
          -0.4414592385292053,
          -4.30825662612915,
          4.127101898193359,
          -49.26301956176758,
          -21.490686416625977,
          -8.074995040893555,
          4.383538246154785,
          41.53685760498047,
          3.9896974563598633,
          -25.12820053100586,
          -20.716054916381836,
          5.373347759246826,
          -49.64008331298828,
          46.99601745605469,
          2.4637715816497803,
          -39.63508987426758,
          -21.67234992980957,
          43.64356994628906,
          5.938014984130859,
          -26.97284507751465,
          -19.544940948486328,
          4.217127323150635,
          -50.02425003051758,
          -46.18705749511719,
          4.8024115562438965,
          -40.40241241455078,
          6.57183837890625,
          47.68906784057617,
          -26.505596160888672,
          -48.160911560058594,
          -3.5042550563812256,
          -5.922846794128418,
          -29.700071334838867,
          4.097597122192383,
          -8.3549222946167,
          -1.8517205715179443,
          -2.153348207473755,
          2.946047067642212,
          -22.834152221679688,
          6.180047988891602,
          4.875092029571533,
          -20.988800048828125,
          46.341163635253906,
          6.44987154006958,
          4.941237449645996,
          -45.795494079589844,
          -17.328670501708984,
          5.3479461669921875,
          4.919759750366211,
          46.7516975402832,
          4.98463773727417,
          2.1468594074249268,
          -28.54653549194336,
          -50.95795822143555,
          -9.24394416809082,
          -9.150601387023926,
          4.656308174133301,
          -6.045953750610352,
          2.3967247009277344,
          -4.11615514755249,
          34.667388916015625,
          -46.683448791503906,
          -21.817277908325195,
          -1.422371506690979,
          -17.83803939819336,
          -35.720157623291016,
          -23.291439056396484,
          4.93252420425415,
          -5.041690349578857,
          -19.389188766479492,
          47.6963996887207,
          -21.830570220947266,
          4.945277214050293,
          3.9574880599975586,
          -22.203289031982422,
          4.4491047859191895,
          -23.785905838012695,
          4.091338634490967,
          -35.1668701171875,
          3.6000843048095703,
          -25.97279167175293,
          3.955838680267334,
          -5.3831892013549805,
          4.610213756561279,
          -46.504390716552734,
          -2.706730604171753,
          -4.365115642547607,
          -24.7947940826416,
          23.642038345336914,
          5.571098327636719,
          -50.4946174621582,
          0.8218280076980591,
          0.1069527342915535,
          -3.348405599594116,
          -5.143311500549316,
          4.434541702270508,
          -46.72386169433594,
          3.9818673133850098,
          -45.464534759521484,
          -3.063333034515381,
          5.040436267852783,
          45.673858642578125,
          -25.609521865844727,
          -3.2132468223571777,
          -18.15003204345703,
          -18.64912223815918,
          47.55669403076172,
          -24.36659049987793,
          -21.46270751953125,
          38.25457000732422,
          -41.87424087524414,
          -17.71312713623047,
          -33.62583541870117,
          -5.388965129852295,
          47.52581024169922,
          -26.94455909729004,
          -3.0628671646118164,
          -3.069391965866089,
          -26.002309799194336,
          -23.59650993347168,
          -44.328189849853516,
          -47.22453689575195,
          47.64397048950195,
          4.06926155090332,
          -1.267226219177246,
          -2.6713507175445557,
          5.424982070922852,
          4.508921146392822,
          5.483626842498779,
          4.00019645690918,
          4.33043098449707,
          -35.439334869384766,
          4.486297130584717,
          -7.850102424621582,
          3.9310388565063477,
          -43.51816940307617,
          -47.7362060546875,
          -19.10286521911621,
          -41.37350082397461,
          -46.95541000366211,
          2.843952178955078,
          43.59162902832031,
          -26.301610946655273,
          -5.457571029663086,
          4.4704694747924805,
          -24.565750122070312,
          3.94246506690979,
          39.739341735839844,
          3.91428279876709,
          -10.48369026184082,
          0.575819194316864,
          1.2756967544555664,
          -23.566734313964844,
          3.851949453353882,
          47.08576583862305,
          -41.62237548828125,
          3.751882314682007,
          -32.74197006225586,
          -24.49079704284668,
          -18.15960121154785,
          0.21361540257930756,
          -7.298538684844971,
          -50.54438781738281,
          -45.948665618896484,
          25.45273780822754,
          47.24880599975586,
          -25.105445861816406,
          -44.50394821166992,
          4.216582298278809,
          -5.655916690826416,
          3.8755524158477783,
          38.09627914428711,
          5.124453544616699,
          -18.461585998535156,
          39.22915267944336,
          -48.76615905761719,
          -8.986520767211914,
          -7.91376256942749,
          0.045383062213659286,
          5.102260589599609,
          -24.267637252807617,
          2.3817975521087646,
          -20.13370704650879,
          -44.792232513427734,
          3.1053049564361572,
          -45.231258392333984,
          -22.955074310302734,
          -0.2686464190483093,
          -25.87045669555664,
          -0.43948087096214294,
          -30.668535232543945,
          -26.647197723388672,
          -22.351051330566406,
          -2.2831172943115234,
          18.65599250793457,
          -35.80960464477539,
          -46.383609771728516,
          -0.8325914740562439,
          -17.58807373046875,
          -26.623579025268555,
          3.955073356628418,
          2.6290171146392822,
          -26.707698822021484,
          -21.851516723632812,
          -24.824947357177734,
          4.479108810424805,
          37.108543395996094,
          -2.425705909729004,
          -22.503602981567383,
          4.794432163238525
         ],
         "xaxis": "x",
         "y": [
          -20.564891815185547,
          28.133991241455078,
          -14.925407409667969,
          25.718685150146484,
          -33.33403396606445,
          -41.5768928527832,
          41.03400421142578,
          19.97071647644043,
          19.71767807006836,
          26.93367576599121,
          7.181033611297607,
          15.051299095153809,
          9.863999366760254,
          5.434210300445557,
          0.2973172962665558,
          7.5010786056518555,
          9.532868385314941,
          -12.94002628326416,
          -33.968379974365234,
          6.680583953857422,
          -41.11418151855469,
          -21.59900665283203,
          15.46216869354248,
          9.997164726257324,
          17.669755935668945,
          4.271821022033691,
          -47.3893928527832,
          11.397259712219238,
          -3.0359458923339844,
          8.443886756896973,
          14.12987232208252,
          10.242524147033691,
          -36.75109100341797,
          10.728463172912598,
          -16.766157150268555,
          24.9349422454834,
          -3.402141809463501,
          -2.1167643070220947,
          4.319378852844238,
          -26.966928482055664,
          10.065411567687988,
          -17.297588348388672,
          -1.1280146837234497,
          23.83386993408203,
          9.275310516357422,
          -2.1222801208496094,
          25.408674240112305,
          11.017471313476562,
          36.46976089477539,
          -35.65359878540039,
          -1.2053158283233643,
          -35.90626525878906,
          5.620049476623535,
          24.45163917541504,
          16.217025756835938,
          -33.620452880859375,
          -24.242908477783203,
          -36.42641830444336,
          -23.371484756469727,
          -2.06380295753479,
          -4.707629680633545,
          17.42696189880371,
          8.669313430786133,
          -33.55720520019531,
          12.366134643554688,
          22.15880012512207,
          -19.385622024536133,
          -38.86341857910156,
          -27.514278411865234,
          -3.4897384643554688,
          -15.18862533569336,
          -43.53861999511719,
          8.338553428649902,
          -21.199859619140625,
          -4.175256252288818,
          8.582611083984375,
          0.5435067415237427,
          38.994346618652344,
          39.99674606323242,
          10.032144546508789,
          -27.97490692138672,
          4.316517353057861,
          7.3848443031311035,
          36.689544677734375,
          15.23675537109375,
          -30.163307189941406,
          -21.84588050842285,
          -44.317359924316406,
          8.300111770629883,
          -6.925332069396973,
          -21.376991271972656,
          -45.65092468261719,
          -16.163312911987305,
          7.673565864562988,
          -45.96350860595703,
          -44.5001106262207,
          6.241041660308838,
          -47.89048385620117,
          14.579024314880371,
          9.696858406066895,
          -2.708407402038574,
          42.2882194519043,
          5.063855171203613,
          -47.28535079956055,
          37.72205352783203,
          24.569005966186523,
          8.911611557006836,
          -16.04203224182129,
          3.032095193862915,
          -32.89091110229492,
          8.923521041870117,
          6.80961275100708,
          10.55311393737793,
          -29.389808654785156,
          -44.95059585571289,
          39.64939880371094,
          7.356350898742676,
          -2.345374584197998,
          7.817341327667236,
          -48.45340347290039,
          -34.9105224609375,
          8.120495796203613,
          -38.57329177856445,
          -29.893775939941406,
          24.92054557800293,
          10.097471237182617,
          18.43937110900879,
          -21.35896873474121,
          -30.356678009033203,
          41.09300231933594,
          -41.42276382446289,
          2.993008852005005,
          8.410881996154785,
          39.76613235473633,
          -25.279949188232422,
          -15.673864364624023,
          24.52450942993164,
          -3.44858980178833,
          32.71381378173828,
          33.28874588012695,
          35.01048278808594,
          39.448097229003906,
          -26.58176040649414,
          -15.31577205657959,
          -33.098506927490234,
          4.485717296600342,
          7.819610595703125,
          -47.596290588378906,
          -8.175451278686523,
          -22.302038192749023,
          37.97377014160156,
          7.3377814292907715,
          -40.699100494384766,
          2.5724270343780518,
          8.77172565460205,
          -34.597251892089844,
          19.39019775390625,
          7.946136951446533,
          6.708888530731201,
          10.655940055847168,
          6.242815017700195,
          2.8343729972839355,
          -20.01106834411621,
          40.6300163269043,
          33.702232360839844,
          9.358037948608398,
          8.518003463745117,
          5.533483505249023,
          2.113586902618408,
          1.7597121000289917,
          -34.557674407958984,
          34.85032653808594,
          36.04924392700195,
          -23.26054573059082,
          -26.25894546508789,
          26.303293228149414,
          -29.208765029907227,
          22.45839500427246,
          9.832489013671875,
          23.401798248291016,
          40.368412017822266,
          -31.45889663696289,
          6.217768669128418,
          -14.017633438110352,
          7.065986633300781,
          7.43729305267334,
          2.4269790649414062,
          27.57623863220215,
          -12.051518440246582,
          -19.900829315185547,
          39.16789245605469,
          -39.237361907958984,
          -26.00818634033203,
          -31.074134826660156,
          17.939455032348633,
          -27.441837310791016,
          5.610466480255127,
          13.567208290100098,
          14.944296836853027,
          -29.300132751464844,
          -35.457916259765625,
          -5.635725975036621,
          7.696157455444336,
          -26.643619537353516,
          10.285249710083008,
          -26.27212905883789,
          6.192877769470215,
          10.752263069152832,
          41.498756408691406,
          -4.21432638168335,
          -15.752827644348145,
          -16.828475952148438,
          4.884716510772705,
          8.974288940429688,
          5.290525436401367,
          -39.560203552246094,
          38.24384689331055,
          26.615802764892578,
          -14.93742847442627,
          23.157543182373047,
          6.804602146148682,
          18.34050750732422,
          -0.5642675161361694,
          5.510256767272949,
          6.609251022338867,
          33.917232513427734,
          -23.960174560546875,
          -26.970726013183594,
          11.59733772277832,
          -37.520286560058594,
          4.922203540802002,
          25.852720260620117,
          5.236941337585449,
          8.344592094421387,
          10.4309720993042,
          -22.49466896057129,
          11.976536750793457,
          10.142024993896484,
          -20.611461639404297,
          -32.305206298828125,
          36.26456832885742,
          -13.487276077270508,
          9.978681564331055,
          -15.941349983215332,
          35.765655517578125,
          -42.17241668701172,
          10.1183443069458,
          -32.41466522216797,
          13.39902400970459,
          9.32669734954834,
          8.110379219055176,
          -25.187786102294922,
          24.021493911743164,
          20.59702491760254,
          38.69144821166992,
          -31.93732452392578,
          -45.93024444580078
         ],
         "yaxis": "y"
        },
        {
         "hovertemplate": "<b>%{hovertext}</b><br><br>Wydźwięk=osłabienie<br>x=%{x}<br>y=%{y}<extra></extra>",
         "hovertext": [
          "niby być",
          "odrobina myśleć",
          "chyba żart",
          "trochę oksymorona",
          "trochę czas",
          "dzieciak",
          "chyba",
          "móc pomóc",
          "mały pytanie",
          "wawka",
          "domek",
          "doć",
          "chyba jakiś",
          "chyba promocja",
          "trochę inaczej",
          "niecały",
          "chyba strzelić",
          "chyba słońce",
          "chyba się",
          "pewnie się",
          "czas prawda",
          "fotka",
          "wydawać ja się",
          "trochę gangstra",
          "chyba wybierzemy",
          "trochę przeszkadzać",
          "nie wiedzieć",
          "sorka",
          "tylko",
          "mies",
          "dziecino",
          "niby bohater",
          "resztka",
          "prądniczankeć",
          "kartke",
          "niby chcieć",
          "źle",
          "filmik",
          "kryśce",
          "brat młody",
          "misiaczek",
          "autko",
          "jakiś   rok",
          "trochy inny świat",
          "chudziutka być",
          "może jeszcze",
          "o dziwo",
          "moze się mylić",
          "i tak",
          "pewnie być",
          "koleżanka",
          "nieliczny być",
          "niestety tylko tyle",
          "trochę odpocząć",
          "psiapsi",
          "odrobina przyzwoitość",
          "osobka",
          "móc zdobyć",
          "w ten wypadek",
          "słoiczek",
          "wydmuszkać wydmuszka",
          "brzoskwinka",
          "nieco wstrząśnąć",
          "pewnie mieć",
          "trochę bateria",
          "chyba identyczny",
          "standard"
         ],
         "legendgroup": "osłabienie",
         "marker": {
          "color": "rgb(82, 188, 163)",
          "size": 10,
          "symbol": "circle"
         },
         "mode": "markers",
         "name": "osłabienie",
         "orientation": "v",
         "showlegend": true,
         "type": "scatter",
         "x": [
          37.7714958190918,
          -49.90193176269531,
          -17.57891082763672,
          -47.67301940917969,
          4.757728576660156,
          0.2623969316482544,
          42.385650634765625,
          4.1024346351623535,
          -26.147748947143555,
          -9.462923049926758,
          -1.846773624420166,
          -0.33088913559913635,
          47.674095153808594,
          -18.05105209350586,
          -27.280500411987305,
          2.746983528137207,
          -18.751577377319336,
          -20.321208953857422,
          38.67753982543945,
          44.139156341552734,
          -19.443803787231445,
          -27.759078979492188,
          47.3537483215332,
          -18.298213958740234,
          -20.959909439086914,
          -47.62092590332031,
          45.2525634765625,
          6.480156898498535,
          40.36220932006836,
          1.7214350700378418,
          -2.315558910369873,
          -33.79053497314453,
          -10.931755065917969,
          -3.9837486743927,
          0.8230224251747131,
          4.827861785888672,
          -48.6675910949707,
          -0.8374314308166504,
          -4.532015800476074,
          -49.73650360107422,
          -4.276098728179932,
          4.069191932678223,
          39.98628616333008,
          -23.17040252685547,
          9.252164840698242,
          4.537690162658691,
          6.196911811828613,
          4.529098033905029,
          34.225067138671875,
          46.59162902832031,
          0.40775883197784424,
          9.271607398986816,
          4.301543235778809,
          -47.218318939208984,
          -8.935524940490723,
          -8.78400707244873,
          -1.0998320579528809,
          3.957463502883911,
          41.8522834777832,
          1.2557841539382935,
          3.7247345447540283,
          -2.570913791656494,
          -3.592207908630371,
          47.65949630737305,
          -47.20082092285156,
          -20.676729202270508,
          -3.010004997253418
         ],
         "xaxis": "x",
         "y": [
          -15.041821479797363,
          -2.636911630630493,
          -42.656005859375,
          -13.298860549926758,
          -42.9046630859375,
          30.748699188232422,
          -13.197924613952637,
          -26.062158584594727,
          -20.762298583984375,
          42.49441909790039,
          10.703438758850098,
          32.31175231933594,
          1.176599383354187,
          -41.656070709228516,
          -19.390321731567383,
          20.90163230895996,
          -40.312259674072266,
          -36.46825408935547,
          18.94017219543457,
          11.348020553588867,
          -38.727291107177734,
          10.003820419311523,
          4.180527210235596,
          -42.26840591430664,
          -35.24297332763672,
          -13.631558418273926,
          9.481125831604004,
          25.155630111694336,
          17.046232223510742,
          28.507780075073242,
          8.916072845458984,
          10.32030963897705,
          4.828329086303711,
          40.90852737426758,
          11.162919044494629,
          -49.05811309814453,
          -1.487839937210083,
          8.902746200561523,
          37.19792556762695,
          -2.853914499282837,
          38.44074630737305,
          17.34368324279785,
          17.42700958251953,
          -30.473285675048828,
          -17.877798080444336,
          -25.41632843017578,
          -21.81478500366211,
          -40.03506851196289,
          24.00140380859375,
          6.564548492431641,
          9.443181991577148,
          -17.897037506103516,
          -35.329654693603516,
          -13.580455780029297,
          42.20968246459961,
          5.673440456390381,
          34.837684631347656,
          -31.832714080810547,
          15.70823860168457,
          12.536213874816895,
          19.359630584716797,
          32.63307571411133,
          7.9104156494140625,
          -4.566778182983398,
          -13.968833923339844,
          -35.748836517333984,
          9.694011688232422
         ],
         "yaxis": "y"
        }
       ],
       "layout": {
        "legend": {
         "title": {
          "text": "Wydźwięk"
         },
         "tracegroupgap": 0
        },
        "template": {
         "data": {
          "bar": [
           {
            "error_x": {
             "color": "#2a3f5f"
            },
            "error_y": {
             "color": "#2a3f5f"
            },
            "marker": {
             "line": {
              "color": "#E5ECF6",
              "width": 0.5
             },
             "pattern": {
              "fillmode": "overlay",
              "size": 10,
              "solidity": 0.2
             }
            },
            "type": "bar"
           }
          ],
          "barpolar": [
           {
            "marker": {
             "line": {
              "color": "#E5ECF6",
              "width": 0.5
             },
             "pattern": {
              "fillmode": "overlay",
              "size": 10,
              "solidity": 0.2
             }
            },
            "type": "barpolar"
           }
          ],
          "carpet": [
           {
            "aaxis": {
             "endlinecolor": "#2a3f5f",
             "gridcolor": "white",
             "linecolor": "white",
             "minorgridcolor": "white",
             "startlinecolor": "#2a3f5f"
            },
            "baxis": {
             "endlinecolor": "#2a3f5f",
             "gridcolor": "white",
             "linecolor": "white",
             "minorgridcolor": "white",
             "startlinecolor": "#2a3f5f"
            },
            "type": "carpet"
           }
          ],
          "choropleth": [
           {
            "colorbar": {
             "outlinewidth": 0,
             "ticks": ""
            },
            "type": "choropleth"
           }
          ],
          "contour": [
           {
            "colorbar": {
             "outlinewidth": 0,
             "ticks": ""
            },
            "colorscale": [
             [
              0,
              "#0d0887"
             ],
             [
              0.1111111111111111,
              "#46039f"
             ],
             [
              0.2222222222222222,
              "#7201a8"
             ],
             [
              0.3333333333333333,
              "#9c179e"
             ],
             [
              0.4444444444444444,
              "#bd3786"
             ],
             [
              0.5555555555555556,
              "#d8576b"
             ],
             [
              0.6666666666666666,
              "#ed7953"
             ],
             [
              0.7777777777777778,
              "#fb9f3a"
             ],
             [
              0.8888888888888888,
              "#fdca26"
             ],
             [
              1,
              "#f0f921"
             ]
            ],
            "type": "contour"
           }
          ],
          "contourcarpet": [
           {
            "colorbar": {
             "outlinewidth": 0,
             "ticks": ""
            },
            "type": "contourcarpet"
           }
          ],
          "heatmap": [
           {
            "colorbar": {
             "outlinewidth": 0,
             "ticks": ""
            },
            "colorscale": [
             [
              0,
              "#0d0887"
             ],
             [
              0.1111111111111111,
              "#46039f"
             ],
             [
              0.2222222222222222,
              "#7201a8"
             ],
             [
              0.3333333333333333,
              "#9c179e"
             ],
             [
              0.4444444444444444,
              "#bd3786"
             ],
             [
              0.5555555555555556,
              "#d8576b"
             ],
             [
              0.6666666666666666,
              "#ed7953"
             ],
             [
              0.7777777777777778,
              "#fb9f3a"
             ],
             [
              0.8888888888888888,
              "#fdca26"
             ],
             [
              1,
              "#f0f921"
             ]
            ],
            "type": "heatmap"
           }
          ],
          "heatmapgl": [
           {
            "colorbar": {
             "outlinewidth": 0,
             "ticks": ""
            },
            "colorscale": [
             [
              0,
              "#0d0887"
             ],
             [
              0.1111111111111111,
              "#46039f"
             ],
             [
              0.2222222222222222,
              "#7201a8"
             ],
             [
              0.3333333333333333,
              "#9c179e"
             ],
             [
              0.4444444444444444,
              "#bd3786"
             ],
             [
              0.5555555555555556,
              "#d8576b"
             ],
             [
              0.6666666666666666,
              "#ed7953"
             ],
             [
              0.7777777777777778,
              "#fb9f3a"
             ],
             [
              0.8888888888888888,
              "#fdca26"
             ],
             [
              1,
              "#f0f921"
             ]
            ],
            "type": "heatmapgl"
           }
          ],
          "histogram": [
           {
            "marker": {
             "pattern": {
              "fillmode": "overlay",
              "size": 10,
              "solidity": 0.2
             }
            },
            "type": "histogram"
           }
          ],
          "histogram2d": [
           {
            "colorbar": {
             "outlinewidth": 0,
             "ticks": ""
            },
            "colorscale": [
             [
              0,
              "#0d0887"
             ],
             [
              0.1111111111111111,
              "#46039f"
             ],
             [
              0.2222222222222222,
              "#7201a8"
             ],
             [
              0.3333333333333333,
              "#9c179e"
             ],
             [
              0.4444444444444444,
              "#bd3786"
             ],
             [
              0.5555555555555556,
              "#d8576b"
             ],
             [
              0.6666666666666666,
              "#ed7953"
             ],
             [
              0.7777777777777778,
              "#fb9f3a"
             ],
             [
              0.8888888888888888,
              "#fdca26"
             ],
             [
              1,
              "#f0f921"
             ]
            ],
            "type": "histogram2d"
           }
          ],
          "histogram2dcontour": [
           {
            "colorbar": {
             "outlinewidth": 0,
             "ticks": ""
            },
            "colorscale": [
             [
              0,
              "#0d0887"
             ],
             [
              0.1111111111111111,
              "#46039f"
             ],
             [
              0.2222222222222222,
              "#7201a8"
             ],
             [
              0.3333333333333333,
              "#9c179e"
             ],
             [
              0.4444444444444444,
              "#bd3786"
             ],
             [
              0.5555555555555556,
              "#d8576b"
             ],
             [
              0.6666666666666666,
              "#ed7953"
             ],
             [
              0.7777777777777778,
              "#fb9f3a"
             ],
             [
              0.8888888888888888,
              "#fdca26"
             ],
             [
              1,
              "#f0f921"
             ]
            ],
            "type": "histogram2dcontour"
           }
          ],
          "mesh3d": [
           {
            "colorbar": {
             "outlinewidth": 0,
             "ticks": ""
            },
            "type": "mesh3d"
           }
          ],
          "parcoords": [
           {
            "line": {
             "colorbar": {
              "outlinewidth": 0,
              "ticks": ""
             }
            },
            "type": "parcoords"
           }
          ],
          "pie": [
           {
            "automargin": true,
            "type": "pie"
           }
          ],
          "scatter": [
           {
            "fillpattern": {
             "fillmode": "overlay",
             "size": 10,
             "solidity": 0.2
            },
            "type": "scatter"
           }
          ],
          "scatter3d": [
           {
            "line": {
             "colorbar": {
              "outlinewidth": 0,
              "ticks": ""
             }
            },
            "marker": {
             "colorbar": {
              "outlinewidth": 0,
              "ticks": ""
             }
            },
            "type": "scatter3d"
           }
          ],
          "scattercarpet": [
           {
            "marker": {
             "colorbar": {
              "outlinewidth": 0,
              "ticks": ""
             }
            },
            "type": "scattercarpet"
           }
          ],
          "scattergeo": [
           {
            "marker": {
             "colorbar": {
              "outlinewidth": 0,
              "ticks": ""
             }
            },
            "type": "scattergeo"
           }
          ],
          "scattergl": [
           {
            "marker": {
             "colorbar": {
              "outlinewidth": 0,
              "ticks": ""
             }
            },
            "type": "scattergl"
           }
          ],
          "scattermapbox": [
           {
            "marker": {
             "colorbar": {
              "outlinewidth": 0,
              "ticks": ""
             }
            },
            "type": "scattermapbox"
           }
          ],
          "scatterpolar": [
           {
            "marker": {
             "colorbar": {
              "outlinewidth": 0,
              "ticks": ""
             }
            },
            "type": "scatterpolar"
           }
          ],
          "scatterpolargl": [
           {
            "marker": {
             "colorbar": {
              "outlinewidth": 0,
              "ticks": ""
             }
            },
            "type": "scatterpolargl"
           }
          ],
          "scatterternary": [
           {
            "marker": {
             "colorbar": {
              "outlinewidth": 0,
              "ticks": ""
             }
            },
            "type": "scatterternary"
           }
          ],
          "surface": [
           {
            "colorbar": {
             "outlinewidth": 0,
             "ticks": ""
            },
            "colorscale": [
             [
              0,
              "#0d0887"
             ],
             [
              0.1111111111111111,
              "#46039f"
             ],
             [
              0.2222222222222222,
              "#7201a8"
             ],
             [
              0.3333333333333333,
              "#9c179e"
             ],
             [
              0.4444444444444444,
              "#bd3786"
             ],
             [
              0.5555555555555556,
              "#d8576b"
             ],
             [
              0.6666666666666666,
              "#ed7953"
             ],
             [
              0.7777777777777778,
              "#fb9f3a"
             ],
             [
              0.8888888888888888,
              "#fdca26"
             ],
             [
              1,
              "#f0f921"
             ]
            ],
            "type": "surface"
           }
          ],
          "table": [
           {
            "cells": {
             "fill": {
              "color": "#EBF0F8"
             },
             "line": {
              "color": "white"
             }
            },
            "header": {
             "fill": {
              "color": "#C8D4E3"
             },
             "line": {
              "color": "white"
             }
            },
            "type": "table"
           }
          ]
         },
         "layout": {
          "annotationdefaults": {
           "arrowcolor": "#2a3f5f",
           "arrowhead": 0,
           "arrowwidth": 1
          },
          "autotypenumbers": "strict",
          "coloraxis": {
           "colorbar": {
            "outlinewidth": 0,
            "ticks": ""
           }
          },
          "colorscale": {
           "diverging": [
            [
             0,
             "#8e0152"
            ],
            [
             0.1,
             "#c51b7d"
            ],
            [
             0.2,
             "#de77ae"
            ],
            [
             0.3,
             "#f1b6da"
            ],
            [
             0.4,
             "#fde0ef"
            ],
            [
             0.5,
             "#f7f7f7"
            ],
            [
             0.6,
             "#e6f5d0"
            ],
            [
             0.7,
             "#b8e186"
            ],
            [
             0.8,
             "#7fbc41"
            ],
            [
             0.9,
             "#4d9221"
            ],
            [
             1,
             "#276419"
            ]
           ],
           "sequential": [
            [
             0,
             "#0d0887"
            ],
            [
             0.1111111111111111,
             "#46039f"
            ],
            [
             0.2222222222222222,
             "#7201a8"
            ],
            [
             0.3333333333333333,
             "#9c179e"
            ],
            [
             0.4444444444444444,
             "#bd3786"
            ],
            [
             0.5555555555555556,
             "#d8576b"
            ],
            [
             0.6666666666666666,
             "#ed7953"
            ],
            [
             0.7777777777777778,
             "#fb9f3a"
            ],
            [
             0.8888888888888888,
             "#fdca26"
            ],
            [
             1,
             "#f0f921"
            ]
           ],
           "sequentialminus": [
            [
             0,
             "#0d0887"
            ],
            [
             0.1111111111111111,
             "#46039f"
            ],
            [
             0.2222222222222222,
             "#7201a8"
            ],
            [
             0.3333333333333333,
             "#9c179e"
            ],
            [
             0.4444444444444444,
             "#bd3786"
            ],
            [
             0.5555555555555556,
             "#d8576b"
            ],
            [
             0.6666666666666666,
             "#ed7953"
            ],
            [
             0.7777777777777778,
             "#fb9f3a"
            ],
            [
             0.8888888888888888,
             "#fdca26"
            ],
            [
             1,
             "#f0f921"
            ]
           ]
          },
          "colorway": [
           "#636efa",
           "#EF553B",
           "#00cc96",
           "#ab63fa",
           "#FFA15A",
           "#19d3f3",
           "#FF6692",
           "#B6E880",
           "#FF97FF",
           "#FECB52"
          ],
          "font": {
           "color": "#2a3f5f"
          },
          "geo": {
           "bgcolor": "white",
           "lakecolor": "white",
           "landcolor": "#E5ECF6",
           "showlakes": true,
           "showland": true,
           "subunitcolor": "white"
          },
          "hoverlabel": {
           "align": "left"
          },
          "hovermode": "closest",
          "mapbox": {
           "style": "light"
          },
          "paper_bgcolor": "white",
          "plot_bgcolor": "#E5ECF6",
          "polar": {
           "angularaxis": {
            "gridcolor": "white",
            "linecolor": "white",
            "ticks": ""
           },
           "bgcolor": "#E5ECF6",
           "radialaxis": {
            "gridcolor": "white",
            "linecolor": "white",
            "ticks": ""
           }
          },
          "scene": {
           "xaxis": {
            "backgroundcolor": "#E5ECF6",
            "gridcolor": "white",
            "gridwidth": 2,
            "linecolor": "white",
            "showbackground": true,
            "ticks": "",
            "zerolinecolor": "white"
           },
           "yaxis": {
            "backgroundcolor": "#E5ECF6",
            "gridcolor": "white",
            "gridwidth": 2,
            "linecolor": "white",
            "showbackground": true,
            "ticks": "",
            "zerolinecolor": "white"
           },
           "zaxis": {
            "backgroundcolor": "#E5ECF6",
            "gridcolor": "white",
            "gridwidth": 2,
            "linecolor": "white",
            "showbackground": true,
            "ticks": "",
            "zerolinecolor": "white"
           }
          },
          "shapedefaults": {
           "line": {
            "color": "#2a3f5f"
           }
          },
          "ternary": {
           "aaxis": {
            "gridcolor": "white",
            "linecolor": "white",
            "ticks": ""
           },
           "baxis": {
            "gridcolor": "white",
            "linecolor": "white",
            "ticks": ""
           },
           "bgcolor": "#E5ECF6",
           "caxis": {
            "gridcolor": "white",
            "linecolor": "white",
            "ticks": ""
           }
          },
          "title": {
           "x": 0.05
          },
          "xaxis": {
           "automargin": true,
           "gridcolor": "white",
           "linecolor": "white",
           "ticks": "",
           "title": {
            "standoff": 15
           },
           "zerolinecolor": "white",
           "zerolinewidth": 2
          },
          "yaxis": {
           "automargin": true,
           "gridcolor": "white",
           "linecolor": "white",
           "ticks": "",
           "title": {
            "standoff": 15
           },
           "zerolinecolor": "white",
           "zerolinewidth": 2
          }
         }
        },
        "title": {
         "text": "Wizualizacja osadzeń Word2Vec przy użyciu t-SNE"
        },
        "xaxis": {
         "anchor": "y",
         "domain": [
          0,
          1
         ],
         "title": {
          "text": "x"
         }
        },
        "yaxis": {
         "anchor": "x",
         "domain": [
          0,
          1
         ],
         "title": {
          "text": "y"
         }
        }
       }
      }
     },
     "metadata": {},
     "output_type": "display_data"
    }
   ],
   "source": [
    "tsne = TSNE(n_components=2, random_state=42, perplexity=10)\n",
    "tsne_results = tsne.fit_transform(np.vstack(df_fragments['vector'].values))\n",
    "\n",
    "tsne_df = pd.DataFrame(tsne_results, columns=['x', 'y'])\n",
    "tsne_df['label'] = df_fragments['label']\n",
    "tsne_df['text'] = df_fragments['text']\n",
    "\n",
    "fig = px.scatter(tsne_df, x='x', y='y', color='label', \n",
    "                 title='Wizualizacja osadzeń Word2Vec przy użyciu t-SNE',\n",
    "                 labels={'label': 'Wydźwięk'},\n",
    "                 hover_name=tsne_df['text'], \n",
    "                 color_discrete_sequence=px.colors.qualitative.Vivid)\n",
    "\n",
    "fig.update_traces(marker=dict(size=10),\n",
    "                  selector=dict(mode='markers'))\n",
    "\n",
    "fig.show()"
   ]
  }
 ],
 "metadata": {
  "kernelspec": {
   "display_name": "Python 3",
   "language": "python",
   "name": "python3"
  },
  "language_info": {
   "codemirror_mode": {
    "name": "ipython",
    "version": 3
   },
   "file_extension": ".py",
   "mimetype": "text/x-python",
   "name": "python",
   "nbconvert_exporter": "python",
   "pygments_lexer": "ipython3",
   "version": "3.11.9"
  }
 },
 "nbformat": 4,
 "nbformat_minor": 2
}
