{
 "cells": [
  {
   "cell_type": "code",
   "execution_count": 3,
   "metadata": {},
   "outputs": [],
   "source": [
    "import json\n",
    "from sklearn.metrics import cohen_kappa_score\n",
    "from statsmodels.stats.inter_rater import fleiss_kappa\n",
    "\n",
    "annotations = {}\n"
   ]
  },
  {
   "cell_type": "code",
   "execution_count": null,
   "metadata": {},
   "outputs": [],
   "source": [
    "classes_map = {\n",
    "    \"wzmocnienie\": 0,\n",
    "    \"osłabienie\": 1,\n",
    "    \"odwracanie\": 2,\n",
    "    \"Wzmocnienie\": 0,\n",
    "    \"Osłabienie\": 1,\n",
    "    \"Odwracanie\": 2\n",
    "}"
   ]
  },
  {
   "cell_type": "code",
   "execution_count": 2,
   "metadata": {},
   "outputs": [],
   "source": [
    "def loadDataset(path: str, annots: dict[str, list[list]] = None):\n",
    "    with open(path, 'r', encoding='utf-8') as file:\n",
    "        if annots == None:\n",
    "            annots = {}\n",
    "            for line in file:\n",
    "                annots[line[\"text\"]] = [[[startIndex, endIndex, classes_map[label]] for startIndex, endIndex, label in line[\"label\"]]]\n",
    "        else:\n",
    "            for line in file:\n",
    "                annots[line[\"text\"]].append([[startIndex, endIndex, classes_map[label]] for startIndex, endIndex, label in line[\"label\"]])\n",
    "    return annots"
   ]
  },
  {
   "cell_type": "code",
   "execution_count": null,
   "metadata": {},
   "outputs": [],
   "source": [
    "def separateConflicts(annots: dict[str, list[list]]) -> tuple[list[dict], list[dict]]:\n",
    "    correct = []\n",
    "    wrong = []\n",
    "\n",
    "    for text, labels in annots.items():\n",
    "        if all(label == labels[0] for label in labels):\n",
    "            correct.append({\"text\": text, \"label\": labels[0]})\n",
    "        else:\n",
    "            wrong.append({\"text\": text, \"label\": \"\", \"old_labels\": str(labels)})\n",
    "    \n",
    "    return correct, wrong"
   ]
  },
  {
   "cell_type": "code",
   "execution_count": 3,
   "metadata": {},
   "outputs": [],
   "source": [
    "def classify_words(text, spans):\n",
    "    words = text.split()\n",
    "    word_positions = []\n",
    "    position = 0\n",
    "\n",
    "    for word in words:\n",
    "        start_pos = text.find(word, position)\n",
    "        end_pos = start_pos + len(word)\n",
    "        word_positions.append((start_pos, end_pos))\n",
    "        position = end_pos\n",
    "\n",
    "    word_classes = [3] * len(words)\n",
    "\n",
    "    for start, end, label in spans:\n",
    "        for i, (word_start, word_end) in enumerate(word_positions):\n",
    "            if word_start >= start and word_end <= end:\n",
    "                word_classes[i] = label\n",
    "\n",
    "    return word_classes"
   ]
  },
  {
   "cell_type": "code",
   "execution_count": null,
   "metadata": {},
   "outputs": [],
   "source": [
    "def kappaCohenResult(annots: dict[str, list[list]]):\n",
    "    annotators = [[], [], []]\n",
    "    for text, annotations in annots.items():\n",
    "        for annotation, annotator in zip(annotations, annotators):\n",
    "            annotator.extend(classify_words(text, annotation))\n",
    "    \n",
    "    print('Kappa Cohen:')\n",
    "    print(f'Klaudia - Michał: {cohen_kappa_score(annotators[0], annotators[1])}')\n",
    "    print(f'Klaudia - Kajtek: {cohen_kappa_score(annotators[0], annotators[2])}')\n",
    "    print(f'Kajtek - Michał: {cohen_kappa_score(annotators[2], annotators[1])}')\n"
   ]
  },
  {
   "cell_type": "code",
   "execution_count": null,
   "metadata": {},
   "outputs": [],
   "source": [
    "def kappaFleissResult(annots: dict[str, list[int | str]]):\n",
    "    results = []\n",
    "    for text, annotations in annots.items():\n",
    "        words = []\n",
    "        new_sample = [0, 0, 0, 0]\n",
    "        for annotation in annotations:\n",
    "            new_sample[annotation] += 1\n",
    "        results.append(new_sample)\n",
    "    print(f'Kappa Fleiss: {fleiss_kappa(results)}')"
   ]
  }
 ],
 "metadata": {
  "kernelspec": {
   "display_name": "Python 3",
   "language": "python",
   "name": "python3"
  },
  "language_info": {
   "codemirror_mode": {
    "name": "ipython",
    "version": 3
   },
   "file_extension": ".py",
   "mimetype": "text/x-python",
   "name": "python",
   "nbconvert_exporter": "python",
   "pygments_lexer": "ipython3",
   "version": "3.11.9"
  }
 },
 "nbformat": 4,
 "nbformat_minor": 2
}
