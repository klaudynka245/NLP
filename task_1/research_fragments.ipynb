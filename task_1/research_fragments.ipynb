{
 "cells": [
  {
   "cell_type": "code",
   "execution_count": 15,
   "metadata": {},
   "outputs": [],
   "source": [
    "import json\n",
    "from sklearn.metrics import cohen_kappa_score\n",
    "from statsmodels.stats.inter_rater import fleiss_kappa\n",
    "\n",
    "annotations = {}\n"
   ]
  },
  {
   "cell_type": "code",
   "execution_count": 16,
   "metadata": {},
   "outputs": [],
   "source": [
    "classes_map = {\n",
    "    \"wzmocnienie\": 0,\n",
    "    \"osłabienie\": 1,\n",
    "    \"odwracanie\": 2,\n",
    "    \"Wzmocnienie\": 0,\n",
    "    \"Osłabienie\": 1,\n",
    "    \"Odwracanie\": 2,\n",
    "    \"Odwrócenie\": 2,\n",
    "    \"odwrocenie\": 2,\n",
    "    \"oslabienie\": 1,\n",
    "    \"odwrócenie\": 2\n",
    "}"
   ]
  },
  {
   "cell_type": "code",
   "execution_count": 17,
   "metadata": {},
   "outputs": [],
   "source": [
    "def loadDataset(path: str, annots: dict[str, list[list]] = None):\n",
    "    with open(path, 'r', encoding='utf-8') as file:\n",
    "        if annots == None:\n",
    "            annots = {}\n",
    "            for line in file:\n",
    "                line = json.loads(line)\n",
    "                annots[line[\"text\"]] = [[[startIndex, endIndex, classes_map[label]] for startIndex, endIndex, label in line[\"label\"]]]\n",
    "        else:\n",
    "            for line in file:\n",
    "                line = json.loads(line)\n",
    "                annots[line[\"text\"]].append([[startIndex, endIndex, classes_map[label]] for startIndex, endIndex, label in line[\"label\"]])\n",
    "    return annots"
   ]
  },
  {
   "cell_type": "code",
   "execution_count": 18,
   "metadata": {},
   "outputs": [],
   "source": [
    "def separateConflicts(annots: dict[str, list[list]]) -> tuple[list[dict], list[dict]]:\n",
    "    correct = []\n",
    "    wrong = []\n",
    "\n",
    "    for text, labels in annots.items():\n",
    "        if all(label == labels[0] for label in labels):\n",
    "            correct.append({\"text\": text, \"label\": labels[0]})\n",
    "        else:\n",
    "            wrong.append({\"text\": text, \"label\": \"\", \"old_labels\": str(labels)})\n",
    "    \n",
    "    return correct, wrong"
   ]
  },
  {
   "cell_type": "code",
   "execution_count": 19,
   "metadata": {},
   "outputs": [],
   "source": [
    "def classify_words(text, spans):\n",
    "    words = text.split()\n",
    "    word_positions = []\n",
    "    position = 0\n",
    "\n",
    "    for word in words:\n",
    "        start_pos = text.find(word, position)\n",
    "        end_pos = start_pos + len(word)\n",
    "        word_positions.append((start_pos, end_pos))\n",
    "        position = end_pos\n",
    "\n",
    "    word_classes = [3] * len(words)\n",
    "\n",
    "    for start, end, label in spans:\n",
    "        for i, (word_start, word_end) in enumerate(word_positions):\n",
    "            if word_start >= start and word_end <= end:\n",
    "                word_classes[i] = label\n",
    "\n",
    "    return word_classes"
   ]
  },
  {
   "cell_type": "code",
   "execution_count": 20,
   "metadata": {},
   "outputs": [],
   "source": [
    "def kappaCohenResult(annots: dict[str, list[list]]):\n",
    "    annotators = [[], [], []]\n",
    "    for text, annotations in annots.items():\n",
    "        for annotation, annotator in zip(annotations, annotators):\n",
    "            annotator.extend(classify_words(text, annotation))\n",
    "    \n",
    "    print('Kappa Cohen:')\n",
    "    print(f'Klaudia - Michał: {cohen_kappa_score(annotators[0], annotators[1])}')\n",
    "    print(f'Klaudia - Kajtek: {cohen_kappa_score(annotators[0], annotators[2])}')\n",
    "    print(f'Kajtek - Michał: {cohen_kappa_score(annotators[2], annotators[1])}')\n"
   ]
  },
  {
   "cell_type": "code",
   "execution_count": 21,
   "metadata": {},
   "outputs": [],
   "source": [
    "def kappaFleissResult(annots: dict[str, list[int | str]]):\n",
    "    results = []\n",
    "    for text, annotations in annots.items():\n",
    "        words = []\n",
    "        new_sample = [0, 0, 0, 0]\n",
    "        for annotation in annotations:\n",
    "            new_sample[annotation] += 1\n",
    "        results.append(new_sample)\n",
    "    print(f'Kappa Fleiss: {fleiss_kappa(results)}')"
   ]
  },
  {
   "cell_type": "code",
   "execution_count": 22,
   "metadata": {},
   "outputs": [],
   "source": [
    "def overlap_length(fragment1, fragment2):\n",
    "    \"\"\"Oblicz długość części wspólnej dwóch fragmentów.\"\"\"\n",
    "    overlap_start = max(fragment1[0], fragment2[0])\n",
    "    overlap_end = min(fragment1[1], fragment2[1])\n",
    "    return max(0, overlap_end - overlap_start)"
   ]
  },
  {
   "cell_type": "code",
   "execution_count": 23,
   "metadata": {},
   "outputs": [],
   "source": [
    "def overlapRatio(annots: dict[str, list[int | str]]):\n",
    "    common_score = {0: 0, 1: 0, 2: 0}\n",
    "    all_score = {0: 0, 1: 0, 2: 0}\n",
    "    for text, labels in annots.items():\n",
    "        annotatations = []\n",
    "        for annotator_labels in labels:\n",
    "            annotator_annotations = [[False] * len(text) for _ in range(3)]\n",
    "            for start, end, label in annotator_labels:\n",
    "                annotator_annotations[label][start:end] = [True] * (end-start)\n",
    "            annotatations.append(annotator_annotations)\n",
    "\n",
    "        for i in range(3):\n",
    "            common = 0\n",
    "            all = 0\n",
    "            for j in range(len(text)):\n",
    "                common_check = True\n",
    "                all_check = False\n",
    "                for annotator_annotations in annotatations:\n",
    "                    if annotator_annotations[i][j]:\n",
    "                        all_check = True\n",
    "                    else:\n",
    "                        common_check = False\n",
    "                if common_check:\n",
    "                    common += 1\n",
    "                if all_check:\n",
    "                    all += 1\n",
    "            common_score[i] += common\n",
    "            all_score[i] += all\n",
    "    \n",
    "    print(\"Overlap Score:\")\n",
    "    print(f\"wzmocnienie: {common_score[0] / all_score[0]}\")\n",
    "    print(f\"osłabienie: {common_score[1] / all_score[1]}\")\n",
    "    print(f\"odwrócenie: {common_score[2] / all_score[2]}\")\n",
    "    print(f\"łączne: {sum(common_score.values()) / sum(all_score.values())}\")"
   ]
  },
  {
   "cell_type": "code",
   "execution_count": 24,
   "metadata": {},
   "outputs": [],
   "source": [
    "data = loadDataset('data/michal_fragmenty_1iter.jsonl')\n",
    "data = loadDataset('data/kajetan_fragmenty_jeden.jsonl', data)"
   ]
  },
  {
   "cell_type": "code",
   "execution_count": 25,
   "metadata": {},
   "outputs": [
    {
     "name": "stdout",
     "output_type": "stream",
     "text": [
      "Overlap Score:\n",
      "wzmocnienie: 0.2851153039832285\n",
      "osłabienie: 0.4502923976608187\n",
      "odwrócenie: 0.837772397094431\n",
      "łączne: 0.5268614514608859\n"
     ]
    }
   ],
   "source": [
    "overlapRatio(data)"
   ]
  },
  {
   "cell_type": "code",
   "execution_count": 26,
   "metadata": {},
   "outputs": [],
   "source": [
    "correct, wrong = separateConflicts(data)"
   ]
  },
  {
   "cell_type": "code",
   "execution_count": 27,
   "metadata": {},
   "outputs": [],
   "source": [
    "def write_jsonl(file_path, data):\n",
    "    with open(file_path, 'w', encoding='utf-8') as f:\n",
    "        for item in data:\n",
    "            f.write(json.dumps(item, ensure_ascii=False) + '\\n')"
   ]
  },
  {
   "cell_type": "code",
   "execution_count": 28,
   "metadata": {},
   "outputs": [],
   "source": [
    "write_jsonl(\"data/first_round_fragments_correct.jsonl\", correct)\n",
    "write_jsonl(\"data/first_round_fragments_wrong.jsonl\", wrong)"
   ]
  },
  {
   "cell_type": "markdown",
   "metadata": {},
   "source": [
    "# Druga iteracja"
   ]
  },
  {
   "cell_type": "code",
   "execution_count": 29,
   "metadata": {},
   "outputs": [],
   "source": [
    "data = loadDataset('data/michal_fragmenty_2iter.jsonl')\n",
    "data = loadDataset('data/kajetan_fragmenty_drugie.jsonl', data)"
   ]
  },
  {
   "cell_type": "code",
   "execution_count": 30,
   "metadata": {},
   "outputs": [
    {
     "name": "stdout",
     "output_type": "stream",
     "text": [
      "Overlap Score:\n",
      "wzmocnienie: 0.6270928462709284\n",
      "osłabienie: 0.5333333333333333\n",
      "odwrócenie: 0.6492753623188405\n",
      "łączne: 0.6182121971595655\n"
     ]
    }
   ],
   "source": [
    "overlapRatio(data)"
   ]
  },
  {
   "cell_type": "code",
   "execution_count": 31,
   "metadata": {},
   "outputs": [],
   "source": [
    "correct, wrong = separateConflicts(data)"
   ]
  },
  {
   "cell_type": "code",
   "execution_count": 32,
   "metadata": {},
   "outputs": [],
   "source": [
    "write_jsonl(\"data/second_round_fragments_correct.jsonl\", correct)\n",
    "write_jsonl(\"data/second_round_fragments_wrong.jsonl\", wrong)"
   ]
  }
 ],
 "metadata": {
  "kernelspec": {
   "display_name": "Python 3",
   "language": "python",
   "name": "python3"
  },
  "language_info": {
   "codemirror_mode": {
    "name": "ipython",
    "version": 3
   },
   "file_extension": ".py",
   "mimetype": "text/x-python",
   "name": "python",
   "nbconvert_exporter": "python",
   "pygments_lexer": "ipython3",
   "version": "3.11.9"
  }
 },
 "nbformat": 4,
 "nbformat_minor": 2
}
