{
 "cells": [
  {
   "cell_type": "code",
   "execution_count": 1,
   "metadata": {},
   "outputs": [],
   "source": [
    "import json"
   ]
  },
  {
   "cell_type": "code",
   "execution_count": 2,
   "metadata": {},
   "outputs": [],
   "source": [
    "classes_map = {\n",
    "    \"pozytywny wydźwięk\": \"pozytywny wydźwięk\",\n",
    "    \"neutralny wydźwięk\": \"neutralny wydźwięk\",\n",
    "    \"negatywny wydźwięk\": \"negatywny wydźwięk\",\n",
    "    \"mowa nienawiści\": \"mowa nienawiści\",\n",
    "    0: \"pozytywny wydźwięk\",\n",
    "    1: \"neutralny wydźwięk\",\n",
    "    2: \"negatywny wydźwięk\",\n",
    "    3: \"mowa nienawiści\",\n",
    "    \"0\": \"pozytywny wydźwięk\",\n",
    "    \"1\": \"neutralny wydźwięk\",\n",
    "    \"2\": \"negatywny wydźwięk\",\n",
    "    \"3\": \"mowa nienawiści\"\n",
    "}"
   ]
  },
  {
   "cell_type": "code",
   "execution_count": 3,
   "metadata": {},
   "outputs": [],
   "source": [
    "def load_new_file(path, data: list, texts: set):\n",
    "    with open(path, 'r', encoding='utf-8') as f:\n",
    "        for line in f:\n",
    "            line = json.loads(line)\n",
    "            text = line['text']\n",
    "            label = line['label']\n",
    "            if label == \"\" or label == []:\n",
    "                continue\n",
    "            if isinstance(label, list):\n",
    "                label = label[0]\n",
    "            label = classes_map[label]\n",
    "            if text[:3] == \"RT \":\n",
    "                text = text[3:]\n",
    "            if text not in texts:\n",
    "                data.append({'text': text, 'label': label})\n",
    "                texts.add(text)"
   ]
  },
  {
   "cell_type": "code",
   "execution_count": 4,
   "metadata": {},
   "outputs": [],
   "source": [
    "def write_jsonl(file_path, data):\n",
    "    with open(file_path, 'w', encoding='utf-8') as f:\n",
    "        for item in data:\n",
    "            f.write(json.dumps(item, ensure_ascii=False) + '\\n')"
   ]
  },
  {
   "cell_type": "code",
   "execution_count": 5,
   "metadata": {},
   "outputs": [],
   "source": [
    "data = []\n",
    "texts = set()\n",
    "\n",
    "for file in ['first_round_correct.jsonl', 'first_round_wrong.jsonl', 'second_round_correct.jsonl', 'second_round_wrong.jsonl', 'klaudia_all.jsonl', 'wiktor_all.jsonl']:\n",
    "    load_new_file(f'data/{file}', data, texts)\n",
    "\n",
    "write_jsonl('data/full_text_classification.jsonl', data)"
   ]
  }
 ],
 "metadata": {
  "kernelspec": {
   "display_name": "Python 3",
   "language": "python",
   "name": "python3"
  },
  "language_info": {
   "codemirror_mode": {
    "name": "ipython",
    "version": 3
   },
   "file_extension": ".py",
   "mimetype": "text/x-python",
   "name": "python",
   "nbconvert_exporter": "python",
   "pygments_lexer": "ipython3",
   "version": "3.11.9"
  }
 },
 "nbformat": 4,
 "nbformat_minor": 2
}
