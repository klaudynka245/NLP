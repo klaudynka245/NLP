{
  "cells": [
    {
      "cell_type": "markdown",
      "metadata": {
        "id": "T7xS6ncSl8oB"
      },
      "source": [
        "# Tutorial for Probing\n",
        "\n",
        "This is a simple tutorial showing you to collect activations from intervention-points in a model. We'll compare 1D DAS IIA on each layer and position for `block_output` in pythia-70M with logistic regression probing accuracy. The task we'll look at is gender prediction, where gendered names are used in templates like \"[name] walked because\", which elicits the associated gendered pronoun \"he\" or \"she\" as the next-token prediction for this model."
      ]
    },
    {
      "cell_type": "markdown",
      "metadata": {
        "id": "C7WTmyP2l8oG"
      },
      "source": [
        "[![Open In Colab](https://colab.research.google.com/assets/colab-badge.svg)](https://colab.research.google.com/github/frankaging/pyvene/blob/main/tutorials/advance_tutorials/Probing_Gender.ipynb)\n"
      ]
    },
    {
      "cell_type": "code",
      "execution_count": 1,
      "metadata": {
        "id": "ApLS0ANkl8oH"
      },
      "outputs": [],
      "source": [
        "__author__ = \"Aryaman Arora\"\n",
        "__version__ = \"01/10/2024\""
      ]
    },
    {
      "cell_type": "markdown",
      "metadata": {
        "id": "hCw9x5Hrl8oI"
      },
      "source": [
        "## Setup"
      ]
    },
    {
      "cell_type": "code",
      "execution_count": 1,
      "metadata": {
        "colab": {
          "base_uri": "https://localhost:8080/"
        },
        "id": "Waq3kKsfl8oJ",
        "outputId": "4edb19ea-eda0-4d51-f3a1-12ac8ecc416e"
      },
      "outputs": [
        {
          "name": "stdout",
          "output_type": "stream",
          "text": [
            "nnsight is not detected. Please install via 'pip install nnsight' for nnsight backend.\n"
          ]
        }
      ],
      "source": [
        "try:\n",
        "    # This library is our indicator that the required installs\n",
        "    # need to be done.\n",
        "    import pyvene as pv\n",
        "\n",
        "except ModuleNotFoundError:\n",
        "    !pip install git+https://github.com/stanfordnlp/pyvene.git"
      ]
    },
    {
      "cell_type": "code",
      "execution_count": 2,
      "metadata": {
        "id": "YIphMygCl8oJ"
      },
      "outputs": [],
      "source": [
        "import pandas as pd\n",
        "from transformers import (\n",
        "    AutoModelForCausalLM,\n",
        "    AutoTokenizer,\n",
        "    get_linear_schedule_with_warmup,\n",
        ")\n",
        "import torch\n",
        "import random\n",
        "from sklearn.linear_model import LogisticRegression\n",
        "from sklearn.metrics import f1_score\n",
        "\n",
        "%config InlineBackend.figure_formats = ['svg']\n",
        "from plotnine import (\n",
        "    ggplot,\n",
        "    geom_tile,\n",
        "    aes,\n",
        "    facet_wrap,\n",
        "    theme,\n",
        "    element_text,\n",
        "    geom_bar,\n",
        "    geom_hline,\n",
        "    scale_y_log10,\n",
        "    geom_line,\n",
        "    geom_point,\n",
        "    geom_text,\n",
        "    ggtitle, xlab, ylab,\n",
        "    ggsave\n",
        ")\n",
        "from plotnine.scales import scale_y_reverse, scale_fill_cmap\n",
        "from tqdm import tqdm\n",
        "from collections import namedtuple"
      ]
    },
    {
      "cell_type": "markdown",
      "metadata": {
        "id": "IItwUk2_l8oK"
      },
      "source": [
        "## Load model and data"
      ]
    },
    {
      "cell_type": "code",
      "execution_count": 3,
      "metadata": {
        "id": "yPZ-0VbNl8oK"
      },
      "outputs": [],
      "source": [
        "device = \"cuda:0\" if torch.cuda.is_available() else \"cpu\"\n",
        "model = \"EleutherAI/pythia-70m\" # \"EleutherAI/pythia-6.9B\"\n",
        "tokenizer = AutoTokenizer.from_pretrained(model)\n",
        "tokenizer.pad_token = tokenizer.eos_token\n",
        "gpt = AutoModelForCausalLM.from_pretrained(\n",
        "    model,\n",
        "    revision=\"main\",\n",
        "    torch_dtype=torch.bfloat16 if model == \"EleutherAI/pythia-6.9b\" else torch.float32,\n",
        ").to(device)"
      ]
    },
    {
      "cell_type": "markdown",
      "metadata": {
        "id": "HineH3E5l8oL"
      },
      "source": [
        "We have a list of 100 names for each gender, and we'll filter for names that are one token in length. We'll further filter for examples the model agrees with our labels for, since some of these names might be ambiguous or the model might not have the expected behaviour. This ensures that baseline IIA is 0."
      ]
    },
    {
      "cell_type": "code",
      "execution_count": 5,
      "metadata": {
        "colab": {
          "base_uri": "https://localhost:8080/"
        },
        "id": "dEkrUIt0l8oL",
        "outputId": "009c2c30-7517-4e92-ece1-03d3c6114d0e"
      },
      "outputs": [
        {
          "name": "stdout",
          "output_type": "stream",
          "text": [
            "{'kitchen': ['eat', 'cut', 'cook'], 'bathroom': ['dry', 'wash', 'brush', 'comb', 'clean'], 'bedroom': ['sleep', 'dream', 'rest'], 'office': ['work', 'write', 'type', 'print', 'scan', 'fax', 'email', 'file', 'copy'], 'garden': ['plant', 'water', 'rake', 'trim', 'weed', 'dig']}\n"
          ]
        }
      ],
      "source": [
        "Example = namedtuple(\"Example\", [\"base\", \"src\", \"base_label\", \"src_label\"])\n",
        "\n",
        "names = {\n",
        "    \"kitchen\":\n",
        "    [\"eat\", \"cut\", \"cook\", \"bake\", \"boil\", \"fry\", \"grill\", \"roast\", \"steam\"],\n",
        "    \"bathroom\":\n",
        "    [\"dry\", \"wash\", \"brush\", \"comb\", \"shave\", \"shower\", \"bathe\", \"clean\", \"scrub\", \"wipe\"],\n",
        "    \"bedroom\":\n",
        "    [\"sleep\", \"dream\", \"wake\", \"rest\", \"snore\", \"yawn\", \"stretch\"],\n",
        "    \"office\":\n",
        "    [\"work\", \"write\", \"type\", \"print\", \"scan\", \"fax\", \"email\", \"file\", \"copy\"],\n",
        "    \"garden\":\n",
        "    [\"plant\", \"water\", \"mow\", \"rake\", \"trim\", \"weed\", \"prune\", \"harvest\", \"dig\"]\n",
        "}\n",
        "\n",
        "# filter names that are > 1 token\n",
        "names = {\n",
        "    key: [name for name in names[key] if len(tokenizer.tokenize(name)) == 1]\n",
        "    for key in names\n",
        "}\n",
        "print(names)\n",
        "\n",
        "\n",
        "def sample_example(tokenizer):\n",
        "    # sample labels (not matching)\n",
        "    base_label = random.choice(list(names.keys()))\n",
        "    src_label = random.choice([key for key in names if key != base_label])\n",
        "\n",
        "    # sample names\n",
        "    base_name = random.choice(names[base_label])\n",
        "    src_name = random.choice(names[src_label])\n",
        "\n",
        "    # make pair\n",
        "    base = tokenizer(f\"<|endoftext|> Yann wants to {base_name}. Yann will go to the\", return_tensors=\"pt\")\n",
        "    src = tokenizer(f\"<|endoftext|> Yann wants to {src_name}. Yann will go to the\", return_tensors=\"pt\")\n",
        "    base_label = tokenizer.encode(\" \" + base_label)[0]\n",
        "    src_label = tokenizer.encode(\" \" + src_label)[0]\n",
        "    return Example(base, src, base_label, src_label)"
      ]
    },
    {
      "cell_type": "code",
      "execution_count": 6,
      "metadata": {
        "colab": {
          "base_uri": "https://localhost:8080/"
        },
        "id": "uNUYCZwrl8oN",
        "outputId": "0ee41958-2d01-4f21-e85d-58510d51e39b"
      },
      "outputs": [
        {
          "data": {
            "text/plain": [
              "Example(base={'input_ids': tensor([[   0,  714, 1136, 5605,  281, 1551,   15,  714, 1136,  588,  564,  281,\n",
              "          253]]), 'attention_mask': tensor([[1, 1, 1, 1, 1, 1, 1, 1, 1, 1, 1, 1, 1]])}, src={'input_ids': tensor([[   0,  714, 1136, 5605,  281, 4444,   15,  714, 1136,  588,  564,  281,\n",
              "          253]]), 'attention_mask': tensor([[1, 1, 1, 1, 1, 1, 1, 1, 1, 1, 1, 1, 1]])}, base_label=14098, src_label=10329)"
            ]
          },
          "execution_count": 6,
          "metadata": {},
          "output_type": "execute_result"
        }
      ],
      "source": [
        "sample_example(tokenizer)"
      ]
    },
    {
      "cell_type": "code",
      "execution_count": 7,
      "metadata": {
        "id": "U4ce7J9Gl8oO"
      },
      "outputs": [],
      "source": [
        "def generate_n_doable_examples(n, model, tokenizer):\n",
        "    examples = []\n",
        "    iterator = tqdm(range(n))\n",
        "    while len(examples) < n:\n",
        "        ex = sample_example(tokenizer)\n",
        "        for k, v in ex.base.items():\n",
        "            if v is not None and isinstance(v, torch.Tensor):\n",
        "                ex.base[k] = v.to(model.device)\n",
        "        for k, v in ex.src.items():\n",
        "            if v is not None and isinstance(v, torch.Tensor):\n",
        "                ex.src[k] = v.to(model.device)\n",
        "        logits_base = model(**ex.base).logits[0, -1]\n",
        "        logits_src = model(**ex.src).logits[0, -1]\n",
        "\n",
        "        if (\n",
        "            logits_base[ex.base_label] > logits_base[ex.src_label]\n",
        "            and logits_src[ex.src_label] > logits_src[ex.base_label]\n",
        "        ):\n",
        "            examples.append(ex)\n",
        "            iterator.update(1)\n",
        "    return examples"
      ]
    },
    {
      "cell_type": "code",
      "execution_count": 8,
      "metadata": {
        "colab": {
          "base_uri": "https://localhost:8080/"
        },
        "id": "V_u3J0yUl8oO",
        "outputId": "7ca8824f-22e2-4fd5-ca66-c41f0a0f7d7b"
      },
      "outputs": [
        {
          "name": "stderr",
          "output_type": "stream",
          "text": [
            "  0%|          | 0/100 [00:00<?, ?it/s]c:\\Users\\kjani\\AppData\\Local\\Programs\\Python\\Python310\\lib\\site-packages\\transformers\\models\\gpt_neox\\modeling_gpt_neox.py:487: UserWarning: 1Torch was not compiled with flash attention. (Triggered internally at ..\\aten\\src\\ATen\\native\\transformers\\cuda\\sdp_utils.cpp:263.)\n",
            "100%|██████████| 100/100 [00:10<00:00,  9.97it/s]\n",
            "100%|██████████| 50/50 [00:04<00:00, 11.84it/s]\n"
          ]
        }
      ],
      "source": [
        "# make dataset\n",
        "total_steps = 100\n",
        "trainset = generate_n_doable_examples(total_steps, gpt, tokenizer)\n",
        "evalset = generate_n_doable_examples(50, gpt, tokenizer)"
      ]
    },
    {
      "cell_type": "markdown",
      "metadata": {
        "id": "4N-t8LpVl8oP"
      },
      "source": [
        "## DAS\n",
        "\n",
        "This is the usual 1D DAS setup, training on batch size of 1."
      ]
    },
    {
      "cell_type": "code",
      "execution_count": 9,
      "metadata": {
        "id": "YYXwwghAl8oP"
      },
      "outputs": [],
      "source": [
        "def intervention_config(intervention_site, layer, num_dims=1):\n",
        "    config = pv.IntervenableConfig([\n",
        "        {\n",
        "            \"layer\": layer,\n",
        "            \"component\": intervention_site,\n",
        "            \"intervention_type\": pv.LowRankRotatedSpaceIntervention,\n",
        "            \"low_rank_dimension\": num_dims,\n",
        "        }\n",
        "    ])\n",
        "    return config"
      ]
    },
    {
      "cell_type": "code",
      "execution_count": 10,
      "metadata": {
        "id": "PHFMy1d8l8oP"
      },
      "outputs": [],
      "source": [
        "# loss function\n",
        "loss_fct = torch.nn.CrossEntropyLoss()\n",
        "\n",
        "def calculate_loss(logits, label):\n",
        "    \"\"\"Calculate cross entropy between logits and a single target label (can be batched)\"\"\"\n",
        "    shift_labels = label.to(logits.device)\n",
        "    loss = loss_fct(logits, shift_labels)\n",
        "    return loss"
      ]
    },
    {
      "cell_type": "code",
      "execution_count": 11,
      "metadata": {
        "colab": {
          "base_uri": "https://localhost:8080/",
          "height": 1000
        },
        "id": "tXKP7ZjFl8oQ",
        "outputId": "e11b796d-da79-41a8-e99c-075b011b382c"
      },
      "outputs": [
        {
          "name": "stdout",
          "output_type": "stream",
          "text": [
            "layer: 0, position: 0\n"
          ]
        },
        {
          "name": "stderr",
          "output_type": "stream",
          "text": [
            "100%|██████████| 100/100 [00:05<00:00, 19.73it/s, loss=6.677]\n",
            "100%|██████████| 50/50 [00:01<00:00, 34.90it/s]\n"
          ]
        },
        {
          "name": "stdout",
          "output_type": "stream",
          "text": [
            "iia: 0.000%\n",
            "layer: 0, position: 1\n"
          ]
        },
        {
          "name": "stderr",
          "output_type": "stream",
          "text": [
            "100%|██████████| 100/100 [00:04<00:00, 20.52it/s, loss=6.677]\n",
            "100%|██████████| 50/50 [00:01<00:00, 34.27it/s]\n"
          ]
        },
        {
          "name": "stdout",
          "output_type": "stream",
          "text": [
            "iia: 0.000%\n",
            "layer: 0, position: 2\n"
          ]
        },
        {
          "name": "stderr",
          "output_type": "stream",
          "text": [
            "100%|██████████| 100/100 [00:04<00:00, 20.73it/s, loss=6.677]\n",
            "100%|██████████| 50/50 [00:01<00:00, 34.04it/s]\n"
          ]
        },
        {
          "name": "stdout",
          "output_type": "stream",
          "text": [
            "iia: 0.000%\n",
            "layer: 0, position: 3\n"
          ]
        },
        {
          "name": "stderr",
          "output_type": "stream",
          "text": [
            "100%|██████████| 100/100 [00:04<00:00, 20.29it/s, loss=6.677]\n",
            "100%|██████████| 50/50 [00:01<00:00, 35.18it/s]\n"
          ]
        },
        {
          "name": "stdout",
          "output_type": "stream",
          "text": [
            "iia: 0.000%\n",
            "layer: 0, position: 4\n"
          ]
        },
        {
          "name": "stderr",
          "output_type": "stream",
          "text": [
            "100%|██████████| 100/100 [00:04<00:00, 20.67it/s, loss=6.677]\n",
            "100%|██████████| 50/50 [00:01<00:00, 34.30it/s]\n"
          ]
        },
        {
          "name": "stdout",
          "output_type": "stream",
          "text": [
            "iia: 0.000%\n",
            "layer: 0, position: 5\n"
          ]
        },
        {
          "name": "stderr",
          "output_type": "stream",
          "text": [
            "100%|██████████| 100/100 [00:04<00:00, 20.77it/s, loss=5.005]\n",
            "100%|██████████| 50/50 [00:01<00:00, 33.95it/s]\n"
          ]
        },
        {
          "name": "stdout",
          "output_type": "stream",
          "text": [
            "iia: 44.000%\n",
            "layer: 0, position: 6\n"
          ]
        },
        {
          "name": "stderr",
          "output_type": "stream",
          "text": [
            "100%|██████████| 100/100 [00:04<00:00, 20.87it/s, loss=6.708]\n",
            "100%|██████████| 50/50 [00:01<00:00, 32.68it/s]\n"
          ]
        },
        {
          "name": "stdout",
          "output_type": "stream",
          "text": [
            "iia: 0.000%\n",
            "layer: 0, position: 7\n"
          ]
        },
        {
          "name": "stderr",
          "output_type": "stream",
          "text": [
            "100%|██████████| 100/100 [00:04<00:00, 20.26it/s, loss=6.665]\n",
            "100%|██████████| 50/50 [00:01<00:00, 33.62it/s]\n"
          ]
        },
        {
          "name": "stdout",
          "output_type": "stream",
          "text": [
            "iia: 0.000%\n",
            "layer: 0, position: 8\n"
          ]
        },
        {
          "name": "stderr",
          "output_type": "stream",
          "text": [
            "100%|██████████| 100/100 [00:04<00:00, 20.65it/s, loss=6.682]\n",
            "100%|██████████| 50/50 [00:01<00:00, 35.63it/s]\n"
          ]
        },
        {
          "name": "stdout",
          "output_type": "stream",
          "text": [
            "iia: 0.000%\n",
            "layer: 0, position: 9\n"
          ]
        },
        {
          "name": "stderr",
          "output_type": "stream",
          "text": [
            "100%|██████████| 100/100 [00:04<00:00, 20.21it/s, loss=6.648]\n",
            "100%|██████████| 50/50 [00:01<00:00, 35.38it/s]\n"
          ]
        },
        {
          "name": "stdout",
          "output_type": "stream",
          "text": [
            "iia: 0.000%\n",
            "layer: 0, position: 10\n"
          ]
        },
        {
          "name": "stderr",
          "output_type": "stream",
          "text": [
            "100%|██████████| 100/100 [00:04<00:00, 20.86it/s, loss=6.486]\n",
            "100%|██████████| 50/50 [00:01<00:00, 35.42it/s]\n"
          ]
        },
        {
          "name": "stdout",
          "output_type": "stream",
          "text": [
            "iia: 4.000%\n",
            "layer: 0, position: 11\n"
          ]
        },
        {
          "name": "stderr",
          "output_type": "stream",
          "text": [
            "100%|██████████| 100/100 [00:04<00:00, 20.58it/s, loss=6.556]\n",
            "100%|██████████| 50/50 [00:01<00:00, 34.79it/s]\n"
          ]
        },
        {
          "name": "stdout",
          "output_type": "stream",
          "text": [
            "iia: 6.000%\n",
            "layer: 0, position: 12\n"
          ]
        },
        {
          "name": "stderr",
          "output_type": "stream",
          "text": [
            "100%|██████████| 100/100 [00:04<00:00, 21.43it/s, loss=6.570]\n",
            "100%|██████████| 50/50 [00:01<00:00, 34.67it/s]\n"
          ]
        },
        {
          "name": "stdout",
          "output_type": "stream",
          "text": [
            "iia: 6.000%\n",
            "layer: 1, position: 0\n"
          ]
        },
        {
          "name": "stderr",
          "output_type": "stream",
          "text": [
            "100%|██████████| 100/100 [00:04<00:00, 21.64it/s, loss=6.677]\n",
            "100%|██████████| 50/50 [00:01<00:00, 35.54it/s]\n"
          ]
        },
        {
          "name": "stdout",
          "output_type": "stream",
          "text": [
            "iia: 0.000%\n",
            "layer: 1, position: 1\n"
          ]
        },
        {
          "name": "stderr",
          "output_type": "stream",
          "text": [
            "100%|██████████| 100/100 [00:04<00:00, 22.08it/s, loss=6.677]\n",
            "100%|██████████| 50/50 [00:01<00:00, 31.96it/s]\n"
          ]
        },
        {
          "name": "stdout",
          "output_type": "stream",
          "text": [
            "iia: 0.000%\n",
            "layer: 1, position: 2\n"
          ]
        },
        {
          "name": "stderr",
          "output_type": "stream",
          "text": [
            "100%|██████████| 100/100 [00:04<00:00, 20.85it/s, loss=6.677]\n",
            "100%|██████████| 50/50 [00:01<00:00, 33.61it/s]\n"
          ]
        },
        {
          "name": "stdout",
          "output_type": "stream",
          "text": [
            "iia: 0.000%\n",
            "layer: 1, position: 3\n"
          ]
        },
        {
          "name": "stderr",
          "output_type": "stream",
          "text": [
            "100%|██████████| 100/100 [00:04<00:00, 21.03it/s, loss=6.677]\n",
            "100%|██████████| 50/50 [00:01<00:00, 34.93it/s]\n"
          ]
        },
        {
          "name": "stdout",
          "output_type": "stream",
          "text": [
            "iia: 0.000%\n",
            "layer: 1, position: 4\n"
          ]
        },
        {
          "name": "stderr",
          "output_type": "stream",
          "text": [
            "100%|██████████| 100/100 [00:04<00:00, 21.87it/s, loss=6.677]\n",
            "100%|██████████| 50/50 [00:01<00:00, 36.85it/s]\n"
          ]
        },
        {
          "name": "stdout",
          "output_type": "stream",
          "text": [
            "iia: 0.000%\n",
            "layer: 1, position: 5\n"
          ]
        },
        {
          "name": "stderr",
          "output_type": "stream",
          "text": [
            "100%|██████████| 100/100 [00:04<00:00, 21.19it/s, loss=6.688]\n",
            "100%|██████████| 50/50 [00:01<00:00, 33.99it/s]\n"
          ]
        },
        {
          "name": "stdout",
          "output_type": "stream",
          "text": [
            "iia: 40.000%\n",
            "layer: 1, position: 6\n"
          ]
        },
        {
          "name": "stderr",
          "output_type": "stream",
          "text": [
            "100%|██████████| 100/100 [00:04<00:00, 21.47it/s, loss=6.678]\n",
            "100%|██████████| 50/50 [00:01<00:00, 33.46it/s]\n"
          ]
        },
        {
          "name": "stdout",
          "output_type": "stream",
          "text": [
            "iia: 0.000%\n",
            "layer: 1, position: 7\n"
          ]
        },
        {
          "name": "stderr",
          "output_type": "stream",
          "text": [
            "100%|██████████| 100/100 [00:04<00:00, 21.03it/s, loss=6.698]\n",
            "100%|██████████| 50/50 [00:01<00:00, 35.31it/s]\n"
          ]
        },
        {
          "name": "stdout",
          "output_type": "stream",
          "text": [
            "iia: 0.000%\n",
            "layer: 1, position: 8\n"
          ]
        },
        {
          "name": "stderr",
          "output_type": "stream",
          "text": [
            "100%|██████████| 100/100 [00:04<00:00, 22.39it/s, loss=6.635]\n",
            "100%|██████████| 50/50 [00:01<00:00, 35.61it/s]\n"
          ]
        },
        {
          "name": "stdout",
          "output_type": "stream",
          "text": [
            "iia: 2.000%\n",
            "layer: 1, position: 9\n"
          ]
        },
        {
          "name": "stderr",
          "output_type": "stream",
          "text": [
            "100%|██████████| 100/100 [00:04<00:00, 22.19it/s, loss=6.664]\n",
            "100%|██████████| 50/50 [00:01<00:00, 36.86it/s]\n"
          ]
        },
        {
          "name": "stdout",
          "output_type": "stream",
          "text": [
            "iia: 6.000%\n",
            "layer: 1, position: 10\n"
          ]
        },
        {
          "name": "stderr",
          "output_type": "stream",
          "text": [
            "100%|██████████| 100/100 [00:04<00:00, 22.16it/s, loss=6.538]\n",
            "100%|██████████| 50/50 [00:01<00:00, 35.94it/s]\n"
          ]
        },
        {
          "name": "stdout",
          "output_type": "stream",
          "text": [
            "iia: 6.000%\n",
            "layer: 1, position: 11\n"
          ]
        },
        {
          "name": "stderr",
          "output_type": "stream",
          "text": [
            "100%|██████████| 100/100 [00:04<00:00, 22.34it/s, loss=6.325]\n",
            "100%|██████████| 50/50 [00:01<00:00, 36.44it/s]\n"
          ]
        },
        {
          "name": "stdout",
          "output_type": "stream",
          "text": [
            "iia: 10.000%\n",
            "layer: 1, position: 12\n"
          ]
        },
        {
          "name": "stderr",
          "output_type": "stream",
          "text": [
            "100%|██████████| 100/100 [00:04<00:00, 22.20it/s, loss=6.280]\n",
            "100%|██████████| 50/50 [00:01<00:00, 35.37it/s]\n"
          ]
        },
        {
          "name": "stdout",
          "output_type": "stream",
          "text": [
            "iia: 8.000%\n",
            "layer: 2, position: 0\n"
          ]
        },
        {
          "name": "stderr",
          "output_type": "stream",
          "text": [
            "100%|██████████| 100/100 [00:04<00:00, 20.71it/s, loss=6.677]\n",
            "100%|██████████| 50/50 [00:01<00:00, 44.26it/s]\n"
          ]
        },
        {
          "name": "stdout",
          "output_type": "stream",
          "text": [
            "iia: 0.000%\n",
            "layer: 2, position: 1\n"
          ]
        },
        {
          "name": "stderr",
          "output_type": "stream",
          "text": [
            "100%|██████████| 100/100 [00:03<00:00, 31.08it/s, loss=6.677]\n",
            "100%|██████████| 50/50 [00:00<00:00, 54.61it/s]\n"
          ]
        },
        {
          "name": "stdout",
          "output_type": "stream",
          "text": [
            "iia: 0.000%\n",
            "layer: 2, position: 2\n"
          ]
        },
        {
          "name": "stderr",
          "output_type": "stream",
          "text": [
            "100%|██████████| 100/100 [00:03<00:00, 28.42it/s, loss=6.677]\n",
            "100%|██████████| 50/50 [00:00<00:00, 52.74it/s]\n"
          ]
        },
        {
          "name": "stdout",
          "output_type": "stream",
          "text": [
            "iia: 0.000%\n",
            "layer: 2, position: 3\n"
          ]
        },
        {
          "name": "stderr",
          "output_type": "stream",
          "text": [
            "100%|██████████| 100/100 [00:03<00:00, 29.51it/s, loss=6.677]\n",
            "100%|██████████| 50/50 [00:01<00:00, 48.57it/s]\n"
          ]
        },
        {
          "name": "stdout",
          "output_type": "stream",
          "text": [
            "iia: 0.000%\n",
            "layer: 2, position: 4\n"
          ]
        },
        {
          "name": "stderr",
          "output_type": "stream",
          "text": [
            "100%|██████████| 100/100 [00:03<00:00, 29.81it/s, loss=6.677]\n",
            "100%|██████████| 50/50 [00:01<00:00, 44.26it/s]\n"
          ]
        },
        {
          "name": "stdout",
          "output_type": "stream",
          "text": [
            "iia: 0.000%\n",
            "layer: 2, position: 5\n"
          ]
        },
        {
          "name": "stderr",
          "output_type": "stream",
          "text": [
            "100%|██████████| 100/100 [00:03<00:00, 29.87it/s, loss=5.436]\n",
            "100%|██████████| 50/50 [00:00<00:00, 51.32it/s]\n"
          ]
        },
        {
          "name": "stdout",
          "output_type": "stream",
          "text": [
            "iia: 40.000%\n",
            "layer: 2, position: 6\n"
          ]
        },
        {
          "name": "stderr",
          "output_type": "stream",
          "text": [
            "100%|██████████| 100/100 [00:03<00:00, 30.87it/s, loss=6.696]\n",
            "100%|██████████| 50/50 [00:00<00:00, 54.13it/s]\n"
          ]
        },
        {
          "name": "stdout",
          "output_type": "stream",
          "text": [
            "iia: 0.000%\n",
            "layer: 2, position: 7\n"
          ]
        },
        {
          "name": "stderr",
          "output_type": "stream",
          "text": [
            "100%|██████████| 100/100 [00:03<00:00, 29.43it/s, loss=6.674]\n",
            "100%|██████████| 50/50 [00:01<00:00, 47.89it/s]\n"
          ]
        },
        {
          "name": "stdout",
          "output_type": "stream",
          "text": [
            "iia: 6.000%\n",
            "layer: 2, position: 8\n"
          ]
        },
        {
          "name": "stderr",
          "output_type": "stream",
          "text": [
            "100%|██████████| 100/100 [00:03<00:00, 31.25it/s, loss=6.664]\n",
            "100%|██████████| 50/50 [00:00<00:00, 54.24it/s]\n"
          ]
        },
        {
          "name": "stdout",
          "output_type": "stream",
          "text": [
            "iia: 6.000%\n",
            "layer: 2, position: 9\n"
          ]
        },
        {
          "name": "stderr",
          "output_type": "stream",
          "text": [
            "100%|██████████| 100/100 [00:03<00:00, 32.21it/s, loss=6.657]\n",
            "100%|██████████| 50/50 [00:01<00:00, 49.38it/s]\n"
          ]
        },
        {
          "name": "stdout",
          "output_type": "stream",
          "text": [
            "iia: 6.000%\n",
            "layer: 2, position: 10\n"
          ]
        },
        {
          "name": "stderr",
          "output_type": "stream",
          "text": [
            "100%|██████████| 100/100 [00:03<00:00, 30.65it/s, loss=6.559]\n",
            "100%|██████████| 50/50 [00:00<00:00, 55.50it/s]\n"
          ]
        },
        {
          "name": "stdout",
          "output_type": "stream",
          "text": [
            "iia: 6.000%\n",
            "layer: 2, position: 11\n"
          ]
        },
        {
          "name": "stderr",
          "output_type": "stream",
          "text": [
            "100%|██████████| 100/100 [00:03<00:00, 30.74it/s, loss=6.076]\n",
            "100%|██████████| 50/50 [00:00<00:00, 51.94it/s]\n"
          ]
        },
        {
          "name": "stdout",
          "output_type": "stream",
          "text": [
            "iia: 14.000%\n",
            "layer: 2, position: 12\n"
          ]
        },
        {
          "name": "stderr",
          "output_type": "stream",
          "text": [
            "100%|██████████| 100/100 [00:03<00:00, 30.45it/s, loss=6.090]\n",
            "100%|██████████| 50/50 [00:01<00:00, 46.94it/s]\n"
          ]
        },
        {
          "name": "stdout",
          "output_type": "stream",
          "text": [
            "iia: 20.000%\n",
            "layer: 3, position: 0\n"
          ]
        },
        {
          "name": "stderr",
          "output_type": "stream",
          "text": [
            "100%|██████████| 100/100 [00:03<00:00, 32.19it/s, loss=6.677]\n",
            "100%|██████████| 50/50 [00:01<00:00, 44.58it/s]\n"
          ]
        },
        {
          "name": "stdout",
          "output_type": "stream",
          "text": [
            "iia: 0.000%\n",
            "layer: 3, position: 1\n"
          ]
        },
        {
          "name": "stderr",
          "output_type": "stream",
          "text": [
            "100%|██████████| 100/100 [00:03<00:00, 31.79it/s, loss=6.677]\n",
            "100%|██████████| 50/50 [00:01<00:00, 47.19it/s]\n"
          ]
        },
        {
          "name": "stdout",
          "output_type": "stream",
          "text": [
            "iia: 0.000%\n",
            "layer: 3, position: 2\n"
          ]
        },
        {
          "name": "stderr",
          "output_type": "stream",
          "text": [
            "100%|██████████| 100/100 [00:03<00:00, 31.77it/s, loss=6.677]\n",
            "100%|██████████| 50/50 [00:00<00:00, 51.99it/s]\n"
          ]
        },
        {
          "name": "stdout",
          "output_type": "stream",
          "text": [
            "iia: 0.000%\n",
            "layer: 3, position: 3\n"
          ]
        },
        {
          "name": "stderr",
          "output_type": "stream",
          "text": [
            "100%|██████████| 100/100 [00:03<00:00, 31.89it/s, loss=6.677]\n",
            "100%|██████████| 50/50 [00:01<00:00, 42.27it/s]\n"
          ]
        },
        {
          "name": "stdout",
          "output_type": "stream",
          "text": [
            "iia: 0.000%\n",
            "layer: 3, position: 4\n"
          ]
        },
        {
          "name": "stderr",
          "output_type": "stream",
          "text": [
            "100%|██████████| 100/100 [00:03<00:00, 32.71it/s, loss=6.677]\n",
            "100%|██████████| 50/50 [00:01<00:00, 45.63it/s]\n"
          ]
        },
        {
          "name": "stdout",
          "output_type": "stream",
          "text": [
            "iia: 0.000%\n",
            "layer: 3, position: 5\n"
          ]
        },
        {
          "name": "stderr",
          "output_type": "stream",
          "text": [
            "100%|██████████| 100/100 [00:03<00:00, 30.97it/s, loss=6.605]\n",
            "100%|██████████| 50/50 [00:00<00:00, 50.03it/s]\n"
          ]
        },
        {
          "name": "stdout",
          "output_type": "stream",
          "text": [
            "iia: 12.000%\n",
            "layer: 3, position: 6\n"
          ]
        },
        {
          "name": "stderr",
          "output_type": "stream",
          "text": [
            "100%|██████████| 100/100 [00:03<00:00, 31.66it/s, loss=6.678]\n",
            "100%|██████████| 50/50 [00:00<00:00, 50.30it/s]\n"
          ]
        },
        {
          "name": "stdout",
          "output_type": "stream",
          "text": [
            "iia: 0.000%\n",
            "layer: 3, position: 7\n"
          ]
        },
        {
          "name": "stderr",
          "output_type": "stream",
          "text": [
            "100%|██████████| 100/100 [00:03<00:00, 32.24it/s, loss=6.677]\n",
            "100%|██████████| 50/50 [00:01<00:00, 46.67it/s]\n"
          ]
        },
        {
          "name": "stdout",
          "output_type": "stream",
          "text": [
            "iia: 0.000%\n",
            "layer: 3, position: 8\n"
          ]
        },
        {
          "name": "stderr",
          "output_type": "stream",
          "text": [
            "100%|██████████| 100/100 [00:03<00:00, 32.21it/s, loss=6.677]\n",
            "100%|██████████| 50/50 [00:01<00:00, 49.45it/s]\n"
          ]
        },
        {
          "name": "stdout",
          "output_type": "stream",
          "text": [
            "iia: 0.000%\n",
            "layer: 3, position: 9\n"
          ]
        },
        {
          "name": "stderr",
          "output_type": "stream",
          "text": [
            "100%|██████████| 100/100 [00:03<00:00, 30.80it/s, loss=6.652]\n",
            "100%|██████████| 50/50 [00:01<00:00, 45.50it/s]\n"
          ]
        },
        {
          "name": "stdout",
          "output_type": "stream",
          "text": [
            "iia: 0.000%\n",
            "layer: 3, position: 10\n"
          ]
        },
        {
          "name": "stderr",
          "output_type": "stream",
          "text": [
            "100%|██████████| 100/100 [00:03<00:00, 31.74it/s, loss=6.678]\n",
            "100%|██████████| 50/50 [00:01<00:00, 44.16it/s]\n"
          ]
        },
        {
          "name": "stdout",
          "output_type": "stream",
          "text": [
            "iia: 6.000%\n",
            "layer: 3, position: 11\n"
          ]
        },
        {
          "name": "stderr",
          "output_type": "stream",
          "text": [
            "100%|██████████| 100/100 [00:03<00:00, 31.30it/s, loss=6.471]\n",
            "100%|██████████| 50/50 [00:00<00:00, 50.04it/s]\n"
          ]
        },
        {
          "name": "stdout",
          "output_type": "stream",
          "text": [
            "iia: 8.000%\n",
            "layer: 3, position: 12\n"
          ]
        },
        {
          "name": "stderr",
          "output_type": "stream",
          "text": [
            "100%|██████████| 100/100 [00:03<00:00, 31.61it/s, loss=4.604]\n",
            "100%|██████████| 50/50 [00:01<00:00, 44.61it/s]\n"
          ]
        },
        {
          "name": "stdout",
          "output_type": "stream",
          "text": [
            "iia: 46.000%\n",
            "layer: 4, position: 0\n"
          ]
        },
        {
          "name": "stderr",
          "output_type": "stream",
          "text": [
            "100%|██████████| 100/100 [00:03<00:00, 32.80it/s, loss=6.677]\n",
            "100%|██████████| 50/50 [00:00<00:00, 52.59it/s]\n"
          ]
        },
        {
          "name": "stdout",
          "output_type": "stream",
          "text": [
            "iia: 0.000%\n",
            "layer: 4, position: 1\n"
          ]
        },
        {
          "name": "stderr",
          "output_type": "stream",
          "text": [
            "100%|██████████| 100/100 [00:02<00:00, 34.10it/s, loss=6.677]\n",
            "100%|██████████| 50/50 [00:01<00:00, 48.74it/s]\n"
          ]
        },
        {
          "name": "stdout",
          "output_type": "stream",
          "text": [
            "iia: 0.000%\n",
            "layer: 4, position: 2\n"
          ]
        },
        {
          "name": "stderr",
          "output_type": "stream",
          "text": [
            "100%|██████████| 100/100 [00:02<00:00, 33.85it/s, loss=6.677]\n",
            "100%|██████████| 50/50 [00:01<00:00, 46.02it/s]\n"
          ]
        },
        {
          "name": "stdout",
          "output_type": "stream",
          "text": [
            "iia: 0.000%\n",
            "layer: 4, position: 3\n"
          ]
        },
        {
          "name": "stderr",
          "output_type": "stream",
          "text": [
            "100%|██████████| 100/100 [00:03<00:00, 32.25it/s, loss=6.677]\n",
            "100%|██████████| 50/50 [00:01<00:00, 47.29it/s]\n"
          ]
        },
        {
          "name": "stdout",
          "output_type": "stream",
          "text": [
            "iia: 0.000%\n",
            "layer: 4, position: 4\n"
          ]
        },
        {
          "name": "stderr",
          "output_type": "stream",
          "text": [
            "100%|██████████| 100/100 [00:02<00:00, 34.64it/s, loss=6.677]\n",
            "100%|██████████| 50/50 [00:01<00:00, 44.26it/s]\n"
          ]
        },
        {
          "name": "stdout",
          "output_type": "stream",
          "text": [
            "iia: 0.000%\n",
            "layer: 4, position: 5\n"
          ]
        },
        {
          "name": "stderr",
          "output_type": "stream",
          "text": [
            "100%|██████████| 100/100 [00:02<00:00, 34.66it/s, loss=6.677]\n",
            "100%|██████████| 50/50 [00:00<00:00, 53.91it/s]\n"
          ]
        },
        {
          "name": "stdout",
          "output_type": "stream",
          "text": [
            "iia: 0.000%\n",
            "layer: 4, position: 6\n"
          ]
        },
        {
          "name": "stderr",
          "output_type": "stream",
          "text": [
            "100%|██████████| 100/100 [00:02<00:00, 33.78it/s, loss=6.674]\n",
            "100%|██████████| 50/50 [00:01<00:00, 47.84it/s]\n"
          ]
        },
        {
          "name": "stdout",
          "output_type": "stream",
          "text": [
            "iia: 0.000%\n",
            "layer: 4, position: 7\n"
          ]
        },
        {
          "name": "stderr",
          "output_type": "stream",
          "text": [
            "100%|██████████| 100/100 [00:02<00:00, 34.20it/s, loss=6.677]\n",
            "100%|██████████| 50/50 [00:01<00:00, 49.57it/s]\n"
          ]
        },
        {
          "name": "stdout",
          "output_type": "stream",
          "text": [
            "iia: 0.000%\n",
            "layer: 4, position: 8\n"
          ]
        },
        {
          "name": "stderr",
          "output_type": "stream",
          "text": [
            "100%|██████████| 100/100 [00:02<00:00, 33.44it/s, loss=6.677]\n",
            "100%|██████████| 50/50 [00:01<00:00, 43.12it/s]\n"
          ]
        },
        {
          "name": "stdout",
          "output_type": "stream",
          "text": [
            "iia: 0.000%\n",
            "layer: 4, position: 9\n"
          ]
        },
        {
          "name": "stderr",
          "output_type": "stream",
          "text": [
            "100%|██████████| 100/100 [00:03<00:00, 32.22it/s, loss=6.674]\n",
            "100%|██████████| 50/50 [00:01<00:00, 48.89it/s]\n"
          ]
        },
        {
          "name": "stdout",
          "output_type": "stream",
          "text": [
            "iia: 0.000%\n",
            "layer: 4, position: 10\n"
          ]
        },
        {
          "name": "stderr",
          "output_type": "stream",
          "text": [
            "100%|██████████| 100/100 [00:02<00:00, 34.23it/s, loss=6.622]\n",
            "100%|██████████| 50/50 [00:01<00:00, 45.96it/s]\n"
          ]
        },
        {
          "name": "stdout",
          "output_type": "stream",
          "text": [
            "iia: 6.000%\n",
            "layer: 4, position: 11\n"
          ]
        },
        {
          "name": "stderr",
          "output_type": "stream",
          "text": [
            "100%|██████████| 100/100 [00:02<00:00, 34.27it/s, loss=6.753]\n",
            "100%|██████████| 50/50 [00:01<00:00, 47.68it/s]\n"
          ]
        },
        {
          "name": "stdout",
          "output_type": "stream",
          "text": [
            "iia: 8.000%\n",
            "layer: 4, position: 12\n"
          ]
        },
        {
          "name": "stderr",
          "output_type": "stream",
          "text": [
            "100%|██████████| 100/100 [00:03<00:00, 33.23it/s, loss=4.175]\n",
            "100%|██████████| 50/50 [00:01<00:00, 48.33it/s]\n"
          ]
        },
        {
          "name": "stdout",
          "output_type": "stream",
          "text": [
            "iia: 64.000%\n",
            "layer: 5, position: 0\n"
          ]
        },
        {
          "name": "stderr",
          "output_type": "stream",
          "text": [
            "100%|██████████| 100/100 [00:02<00:00, 36.58it/s, loss=6.677]\n",
            "100%|██████████| 50/50 [00:01<00:00, 44.72it/s]\n"
          ]
        },
        {
          "name": "stdout",
          "output_type": "stream",
          "text": [
            "iia: 0.000%\n",
            "layer: 5, position: 1\n"
          ]
        },
        {
          "name": "stderr",
          "output_type": "stream",
          "text": [
            "100%|██████████| 100/100 [00:02<00:00, 34.47it/s, loss=6.677]\n",
            "100%|██████████| 50/50 [00:00<00:00, 52.33it/s]\n"
          ]
        },
        {
          "name": "stdout",
          "output_type": "stream",
          "text": [
            "iia: 0.000%\n",
            "layer: 5, position: 2\n"
          ]
        },
        {
          "name": "stderr",
          "output_type": "stream",
          "text": [
            "100%|██████████| 100/100 [00:02<00:00, 34.25it/s, loss=6.677]\n",
            "100%|██████████| 50/50 [00:01<00:00, 46.44it/s]\n"
          ]
        },
        {
          "name": "stdout",
          "output_type": "stream",
          "text": [
            "iia: 0.000%\n",
            "layer: 5, position: 3\n"
          ]
        },
        {
          "name": "stderr",
          "output_type": "stream",
          "text": [
            "100%|██████████| 100/100 [00:02<00:00, 36.11it/s, loss=6.677]\n",
            "100%|██████████| 50/50 [00:01<00:00, 45.79it/s]\n"
          ]
        },
        {
          "name": "stdout",
          "output_type": "stream",
          "text": [
            "iia: 0.000%\n",
            "layer: 5, position: 4\n"
          ]
        },
        {
          "name": "stderr",
          "output_type": "stream",
          "text": [
            "100%|██████████| 100/100 [00:02<00:00, 37.33it/s, loss=6.677]\n",
            "100%|██████████| 50/50 [00:01<00:00, 48.33it/s]\n"
          ]
        },
        {
          "name": "stdout",
          "output_type": "stream",
          "text": [
            "iia: 0.000%\n",
            "layer: 5, position: 5\n"
          ]
        },
        {
          "name": "stderr",
          "output_type": "stream",
          "text": [
            "100%|██████████| 100/100 [00:02<00:00, 36.30it/s, loss=6.677]\n",
            "100%|██████████| 50/50 [00:01<00:00, 45.27it/s]\n"
          ]
        },
        {
          "name": "stdout",
          "output_type": "stream",
          "text": [
            "iia: 0.000%\n",
            "layer: 5, position: 6\n"
          ]
        },
        {
          "name": "stderr",
          "output_type": "stream",
          "text": [
            "100%|██████████| 100/100 [00:02<00:00, 35.07it/s, loss=6.677]\n",
            "100%|██████████| 50/50 [00:00<00:00, 50.57it/s]\n"
          ]
        },
        {
          "name": "stdout",
          "output_type": "stream",
          "text": [
            "iia: 0.000%\n",
            "layer: 5, position: 7\n"
          ]
        },
        {
          "name": "stderr",
          "output_type": "stream",
          "text": [
            "100%|██████████| 100/100 [00:02<00:00, 35.08it/s, loss=6.677]\n",
            "100%|██████████| 50/50 [00:01<00:00, 48.21it/s]\n"
          ]
        },
        {
          "name": "stdout",
          "output_type": "stream",
          "text": [
            "iia: 0.000%\n",
            "layer: 5, position: 8\n"
          ]
        },
        {
          "name": "stderr",
          "output_type": "stream",
          "text": [
            "100%|██████████| 100/100 [00:02<00:00, 36.09it/s, loss=6.677]\n",
            "100%|██████████| 50/50 [00:01<00:00, 47.82it/s]\n"
          ]
        },
        {
          "name": "stdout",
          "output_type": "stream",
          "text": [
            "iia: 0.000%\n",
            "layer: 5, position: 9\n"
          ]
        },
        {
          "name": "stderr",
          "output_type": "stream",
          "text": [
            "100%|██████████| 100/100 [00:02<00:00, 35.99it/s, loss=6.677]\n",
            "100%|██████████| 50/50 [00:01<00:00, 44.15it/s]\n"
          ]
        },
        {
          "name": "stdout",
          "output_type": "stream",
          "text": [
            "iia: 0.000%\n",
            "layer: 5, position: 10\n"
          ]
        },
        {
          "name": "stderr",
          "output_type": "stream",
          "text": [
            "100%|██████████| 100/100 [00:02<00:00, 35.63it/s, loss=6.677]\n",
            "100%|██████████| 50/50 [00:00<00:00, 50.00it/s]\n"
          ]
        },
        {
          "name": "stdout",
          "output_type": "stream",
          "text": [
            "iia: 0.000%\n",
            "layer: 5, position: 11\n"
          ]
        },
        {
          "name": "stderr",
          "output_type": "stream",
          "text": [
            "100%|██████████| 100/100 [00:02<00:00, 36.72it/s, loss=6.677]\n",
            "100%|██████████| 50/50 [00:01<00:00, 48.76it/s]\n"
          ]
        },
        {
          "name": "stdout",
          "output_type": "stream",
          "text": [
            "iia: 0.000%\n",
            "layer: 5, position: 12\n"
          ]
        },
        {
          "name": "stderr",
          "output_type": "stream",
          "text": [
            "100%|██████████| 100/100 [00:02<00:00, 36.00it/s, loss=5.999]\n",
            "100%|██████████| 50/50 [00:01<00:00, 48.04it/s]"
          ]
        },
        {
          "name": "stdout",
          "output_type": "stream",
          "text": [
            "iia: 56.000%\n"
          ]
        },
        {
          "name": "stderr",
          "output_type": "stream",
          "text": [
            "\n"
          ]
        }
      ],
      "source": [
        "# intervention settings\n",
        "stats = []\n",
        "num_layers = gpt.config.num_hidden_layers\n",
        "\n",
        "# loop over layers and positions\n",
        "for layer in range(num_layers):\n",
        "    for position in range(13):\n",
        "        print(f\"layer: {layer}, position: {position}\")\n",
        "\n",
        "        # set up intervenable model\n",
        "        config = intervention_config(\"block_output\", layer, 1)\n",
        "        intervenable = pv.IntervenableModel(config, gpt)\n",
        "        intervenable.set_device(device)\n",
        "        intervenable.disable_model_gradients()\n",
        "\n",
        "        # set up optimizer\n",
        "        optimizer_params = []\n",
        "        for k, v in intervenable.interventions.items():\n",
        "            try:\n",
        "                optimizer_params.append({\"params\": v[0].rotate_layer.parameters()})\n",
        "            except:\n",
        "                pass\n",
        "        optimizer = torch.optim.Adam(optimizer_params, lr=1e-3)\n",
        "        scheduler = get_linear_schedule_with_warmup(\n",
        "            optimizer,\n",
        "            num_warmup_steps=int(0.1 * total_steps),\n",
        "            num_training_steps=total_steps,\n",
        "        )\n",
        "\n",
        "        # training loop\n",
        "        iterator = tqdm(trainset)\n",
        "        for example in iterator:\n",
        "            # forward pass\n",
        "            _, counterfactual_outputs = intervenable(\n",
        "                example.base,\n",
        "                [example.src],\n",
        "                {\"sources->base\": position},\n",
        "            )\n",
        "\n",
        "            # loss\n",
        "            logits = counterfactual_outputs.logits[:, -1]\n",
        "            loss = calculate_loss(logits, torch.tensor([example.src_label]).to(device))\n",
        "            iterator.set_postfix({\"loss\": f\"{loss.item():.3f}\"})\n",
        "\n",
        "            # backward\n",
        "            loss.backward()\n",
        "            optimizer.step()\n",
        "            scheduler.step()\n",
        "\n",
        "        # eval\n",
        "        with torch.no_grad():\n",
        "            iia = 0\n",
        "            iterator = tqdm(evalset)\n",
        "            for example in iterator:\n",
        "                # forward\n",
        "                _, counterfactual_outputs = intervenable(\n",
        "                    example.base,\n",
        "                    [example.src],\n",
        "                    {\"sources->base\": position},\n",
        "                )\n",
        "\n",
        "                # calculate iia\n",
        "                logits = counterfactual_outputs.logits[0, -1]\n",
        "                if logits[example.src_label] > logits[example.base_label]:\n",
        "                    iia += 1\n",
        "\n",
        "            # stats\n",
        "            iia = iia / len(evalset)\n",
        "            stats.append({\"layer\": layer, \"position\": position, \"iia\": iia})\n",
        "            print(f\"iia: {iia:.3%}\")\n",
        "df = pd.DataFrame(stats)\n",
        "df.to_csv(f\"./tutorial_data/pyvene_gender_das.csv\")"
      ]
    },
    {
      "cell_type": "markdown",
      "metadata": {
        "id": "GG2EGzf_l8oQ"
      },
      "source": [
        "And this is the plot of IIA. In layers 2 and 3 it seems the gender is represented across positions 1-3, and entirely in position 3 in later layers."
      ]
    },
    {
      "cell_type": "code",
      "execution_count": 87,
      "metadata": {},
      "outputs": [
        {
          "name": "stdout",
          "output_type": "stream",
          "text": [
            "{'input_ids': tensor([[   0,  714, 1136, 5605,  281, 6008,   15,  714, 1136,  588,  564,  281,\n",
            "          253]]), 'attention_mask': tensor([[1, 1, 1, 1, 1, 1, 1, 1, 1, 1, 1, 1, 1]])}\n",
            "{'input_ids': tensor([[  88, 1103]]), 'attention_mask': tensor([[1, 1]])}\n"
          ]
        }
      ],
      "source": [
        "sentence = \"<|endoftext|> Yann wants to eat. Yann will go to the\"\n",
        "tokenized_sentence = tokenizer(sentence, return_tensors=\"pt\")\n",
        "print(tokenized_sentence)\n",
        "\n",
        "word = \"wants\"\n",
        "tokenized_word = tokenizer(word, return_tensors=\"pt\")\n",
        "print(tokenized_word)"
      ]
    },
    {
      "cell_type": "code",
      "execution_count": 15,
      "metadata": {},
      "outputs": [
        {
          "data": {
            "text/plain": [
              "['<|endoftext|>',\n",
              " 'ĠY',\n",
              " 'ann',\n",
              " 'Ġwants',\n",
              " 'Ġto',\n",
              " 'Ġeat',\n",
              " '.',\n",
              " 'ĠY',\n",
              " 'ann',\n",
              " 'Ġwill',\n",
              " 'Ġgo',\n",
              " 'Ġto',\n",
              " 'Ġthe']"
            ]
          },
          "execution_count": 15,
          "metadata": {},
          "output_type": "execute_result"
        }
      ],
      "source": [
        "tokenizer.tokenize(\"<|endoftext|> Yann wants to eat. Yann will go to the\")"
      ]
    },
    {
      "cell_type": "code",
      "execution_count": null,
      "metadata": {},
      "outputs": [],
      "source": []
    },
    {
      "cell_type": "code",
      "execution_count": 17,
      "metadata": {
        "id": "MUce26Krl8oQ"
      },
      "outputs": [
        {
          "name": "stdout",
          "output_type": "stream",
          "text": [
            "   layer  position  iia  pos  IIA\n",
            "0      0         0  0.0    0  0.0\n",
            "1      0         1  0.0    1  0.0\n",
            "2      0         2  0.0    2  0.0\n",
            "3      0         3  0.0    3  0.0\n",
            "4      0         4  0.0    4  0.0\n",
            "<ggplot: (1500 x 1000)>\n"
          ]
        },
        {
          "name": "stderr",
          "output_type": "stream",
          "text": [
            "c:\\Users\\kjani\\AppData\\Local\\Programs\\Python\\Python310\\lib\\site-packages\\plotnine\\ggplot.py:615: PlotnineWarning: Saving 15 x 10 in image.\n",
            "c:\\Users\\kjani\\AppData\\Local\\Programs\\Python\\Python310\\lib\\site-packages\\plotnine\\ggplot.py:616: PlotnineWarning: Filename: ./tutorial_data/pyvene_gender_das.pdf\n"
          ]
        }
      ],
      "source": [
        "df[\"layer\"] = df[\"layer\"].astype(int)\n",
        "df[\"pos\"] = df[\"position\"].astype(int)\n",
        "df[\"IIA\"] = df[\"iia\"].astype(float)\n",
        "\n",
        "custom_labels = [ \"EOS\", \"Y\", \"ann\", \"wants\", \"to\", \"<verb>\", \".\", \"Y\", \"ann\", \"will\", \"go\", \"to\", \"the\"]\n",
        "breaks = range(len(custom_labels))\n",
        "\n",
        "plot = (\n",
        "    ggplot(df, aes(x=\"layer\", y=\"pos\"))\n",
        "    + geom_tile(aes(fill=\"IIA\"))\n",
        "    + scale_fill_cmap(\"Purples\") + xlab(\"layers\")\n",
        "    + scale_y_reverse(\n",
        "        limits = (-0.5, 12.5),\n",
        "        breaks=breaks, labels=custom_labels)\n",
        "    + theme(figure_size=(15, 10)) + ylab(\"\")\n",
        "    + theme(axis_text_y  = element_text(angle = 90, hjust = 1))\n",
        "    + ggtitle(\"Trained Intervention (DAS)\")\n",
        ")\n",
        "ggsave(\n",
        "    plot, filename=f\"./tutorial_data/pyvene_gender_das.pdf\", dpi=200\n",
        ")\n",
        "print(plot)"
      ]
    },
    {
      "cell_type": "markdown",
      "metadata": {
        "id": "-DMod6byl8oQ"
      },
      "source": [
        "## Probing\n",
        "\n",
        "We'll define a dummy intervention `CollectActivation` to collect activations and train a simple probe."
      ]
    },
    {
      "cell_type": "code",
      "execution_count": 18,
      "metadata": {
        "id": "qKT_9ZU6l8oR"
      },
      "outputs": [],
      "source": [
        "def probing_config(intervention_site, layer):\n",
        "    \"\"\"Generate intervention config.\"\"\"\n",
        "\n",
        "    # init\n",
        "    config = pv.IntervenableConfig([{\n",
        "        \"layer\": layer,\n",
        "        \"component\": intervention_site,\n",
        "        \"intervention_type\": pv.CollectIntervention,\n",
        "    }])\n",
        "    return config"
      ]
    },
    {
      "cell_type": "markdown",
      "metadata": {
        "id": "aQJArryol8oR"
      },
      "source": [
        "This is the training loop."
      ]
    },
    {
      "cell_type": "code",
      "execution_count": 19,
      "metadata": {},
      "outputs": [
        {
          "name": "stdout",
          "output_type": "stream",
          "text": [
            "{10329: 0, 8576: 1, 15336: 3, 3906: 4, 14098: 5}\n"
          ]
        }
      ],
      "source": [
        "label_mapping = {10329:0, 8576:1, 15336:3, 3906:4, 14098:5}\n",
        "\n",
        "print(label_mapping)\n"
      ]
    },
    {
      "cell_type": "code",
      "execution_count": 20,
      "metadata": {},
      "outputs": [
        {
          "name": "stdout",
          "output_type": "stream",
          "text": [
            " living\n"
          ]
        }
      ],
      "source": [
        "decoded_word = tokenizer.decode([3811])\n",
        "print(decoded_word)"
      ]
    },
    {
      "cell_type": "code",
      "execution_count": 21,
      "metadata": {
        "id": "edHuUe01l8oR"
      },
      "outputs": [
        {
          "name": "stdout",
          "output_type": "stream",
          "text": [
            "layer: 0, position: 0\n"
          ]
        },
        {
          "name": "stderr",
          "output_type": "stream",
          "text": [
            "100%|██████████| 100/100 [00:01<00:00, 51.39it/s]\n",
            "100%|██████████| 50/50 [00:00<00:00, 54.00it/s]\n"
          ]
        },
        {
          "name": "stdout",
          "output_type": "stream",
          "text": [
            "acc: 31.000%, f1: 0.095\n",
            "layer: 0, position: 1\n"
          ]
        },
        {
          "name": "stderr",
          "output_type": "stream",
          "text": [
            "100%|██████████| 100/100 [00:01<00:00, 53.68it/s]\n",
            "100%|██████████| 50/50 [00:00<00:00, 52.69it/s]\n"
          ]
        },
        {
          "name": "stdout",
          "output_type": "stream",
          "text": [
            "acc: 31.000%, f1: 0.095\n",
            "layer: 0, position: 2\n"
          ]
        },
        {
          "name": "stderr",
          "output_type": "stream",
          "text": [
            "100%|██████████| 100/100 [00:01<00:00, 56.32it/s]\n",
            "100%|██████████| 50/50 [00:00<00:00, 55.57it/s]\n"
          ]
        },
        {
          "name": "stdout",
          "output_type": "stream",
          "text": [
            "acc: 31.000%, f1: 0.095\n",
            "layer: 0, position: 3\n"
          ]
        },
        {
          "name": "stderr",
          "output_type": "stream",
          "text": [
            "100%|██████████| 100/100 [00:01<00:00, 53.21it/s]\n",
            "100%|██████████| 50/50 [00:00<00:00, 56.52it/s]\n"
          ]
        },
        {
          "name": "stdout",
          "output_type": "stream",
          "text": [
            "acc: 31.000%, f1: 0.095\n",
            "layer: 0, position: 4\n"
          ]
        },
        {
          "name": "stderr",
          "output_type": "stream",
          "text": [
            "100%|██████████| 100/100 [00:01<00:00, 54.53it/s]\n",
            "100%|██████████| 50/50 [00:00<00:00, 51.17it/s]\n"
          ]
        },
        {
          "name": "stdout",
          "output_type": "stream",
          "text": [
            "acc: 31.000%, f1: 0.095\n",
            "layer: 0, position: 5\n"
          ]
        },
        {
          "name": "stderr",
          "output_type": "stream",
          "text": [
            "100%|██████████| 100/100 [00:01<00:00, 54.41it/s]\n",
            "100%|██████████| 50/50 [00:00<00:00, 53.31it/s]\n"
          ]
        },
        {
          "name": "stdout",
          "output_type": "stream",
          "text": [
            "acc: 100.000%, f1: 1.000\n",
            "layer: 0, position: 6\n"
          ]
        },
        {
          "name": "stderr",
          "output_type": "stream",
          "text": [
            "100%|██████████| 100/100 [00:01<00:00, 53.82it/s]\n",
            "100%|██████████| 50/50 [00:00<00:00, 55.92it/s]\n"
          ]
        },
        {
          "name": "stdout",
          "output_type": "stream",
          "text": [
            "acc: 98.000%, f1: 0.793\n",
            "layer: 0, position: 7\n"
          ]
        },
        {
          "name": "stderr",
          "output_type": "stream",
          "text": [
            "100%|██████████| 100/100 [00:01<00:00, 52.36it/s]\n",
            "100%|██████████| 50/50 [00:01<00:00, 48.86it/s]\n"
          ]
        },
        {
          "name": "stdout",
          "output_type": "stream",
          "text": [
            "acc: 94.000%, f1: 0.883\n",
            "layer: 0, position: 8\n"
          ]
        },
        {
          "name": "stderr",
          "output_type": "stream",
          "text": [
            "100%|██████████| 100/100 [00:01<00:00, 56.62it/s]\n",
            "100%|██████████| 50/50 [00:00<00:00, 59.87it/s]\n"
          ]
        },
        {
          "name": "stdout",
          "output_type": "stream",
          "text": [
            "acc: 43.000%, f1: 0.272\n",
            "layer: 0, position: 9\n"
          ]
        },
        {
          "name": "stderr",
          "output_type": "stream",
          "text": [
            "100%|██████████| 100/100 [00:01<00:00, 55.35it/s]\n",
            "100%|██████████| 50/50 [00:00<00:00, 53.39it/s]\n"
          ]
        },
        {
          "name": "stdout",
          "output_type": "stream",
          "text": [
            "acc: 91.000%, f1: 0.613\n",
            "layer: 0, position: 10\n"
          ]
        },
        {
          "name": "stderr",
          "output_type": "stream",
          "text": [
            "100%|██████████| 100/100 [00:01<00:00, 54.83it/s]\n",
            "100%|██████████| 50/50 [00:00<00:00, 57.84it/s]\n"
          ]
        },
        {
          "name": "stdout",
          "output_type": "stream",
          "text": [
            "acc: 87.000%, f1: 0.584\n",
            "layer: 0, position: 11\n"
          ]
        },
        {
          "name": "stderr",
          "output_type": "stream",
          "text": [
            "100%|██████████| 100/100 [00:01<00:00, 52.06it/s]\n",
            "100%|██████████| 50/50 [00:00<00:00, 52.08it/s]\n"
          ]
        },
        {
          "name": "stdout",
          "output_type": "stream",
          "text": [
            "acc: 83.000%, f1: 0.561\n",
            "layer: 0, position: 12\n"
          ]
        },
        {
          "name": "stderr",
          "output_type": "stream",
          "text": [
            "100%|██████████| 100/100 [00:01<00:00, 58.22it/s]\n",
            "100%|██████████| 50/50 [00:00<00:00, 55.78it/s]\n"
          ]
        },
        {
          "name": "stdout",
          "output_type": "stream",
          "text": [
            "acc: 83.000%, f1: 0.561\n",
            "layer: 1, position: 0\n"
          ]
        },
        {
          "name": "stderr",
          "output_type": "stream",
          "text": [
            "100%|██████████| 100/100 [00:01<00:00, 54.41it/s]\n",
            "100%|██████████| 50/50 [00:00<00:00, 60.00it/s]\n"
          ]
        },
        {
          "name": "stdout",
          "output_type": "stream",
          "text": [
            "acc: 31.000%, f1: 0.095\n",
            "layer: 1, position: 1\n"
          ]
        },
        {
          "name": "stderr",
          "output_type": "stream",
          "text": [
            "100%|██████████| 100/100 [00:01<00:00, 57.08it/s]\n",
            "100%|██████████| 50/50 [00:00<00:00, 51.77it/s]\n"
          ]
        },
        {
          "name": "stdout",
          "output_type": "stream",
          "text": [
            "acc: 31.000%, f1: 0.095\n",
            "layer: 1, position: 2\n"
          ]
        },
        {
          "name": "stderr",
          "output_type": "stream",
          "text": [
            "100%|██████████| 100/100 [00:01<00:00, 53.83it/s]\n",
            "100%|██████████| 50/50 [00:00<00:00, 60.68it/s]\n"
          ]
        },
        {
          "name": "stdout",
          "output_type": "stream",
          "text": [
            "acc: 31.000%, f1: 0.095\n",
            "layer: 1, position: 3\n"
          ]
        },
        {
          "name": "stderr",
          "output_type": "stream",
          "text": [
            "100%|██████████| 100/100 [00:01<00:00, 53.09it/s]\n",
            "100%|██████████| 50/50 [00:00<00:00, 62.69it/s]\n"
          ]
        },
        {
          "name": "stdout",
          "output_type": "stream",
          "text": [
            "acc: 31.000%, f1: 0.095\n",
            "layer: 1, position: 4\n"
          ]
        },
        {
          "name": "stderr",
          "output_type": "stream",
          "text": [
            "100%|██████████| 100/100 [00:01<00:00, 55.44it/s]\n",
            "100%|██████████| 50/50 [00:00<00:00, 53.42it/s]\n"
          ]
        },
        {
          "name": "stdout",
          "output_type": "stream",
          "text": [
            "acc: 31.000%, f1: 0.095\n",
            "layer: 1, position: 5\n"
          ]
        },
        {
          "name": "stderr",
          "output_type": "stream",
          "text": [
            "100%|██████████| 100/100 [00:01<00:00, 54.52it/s]\n",
            "100%|██████████| 50/50 [00:00<00:00, 52.30it/s]\n"
          ]
        },
        {
          "name": "stdout",
          "output_type": "stream",
          "text": [
            "acc: 100.000%, f1: 1.000\n",
            "layer: 1, position: 6\n"
          ]
        },
        {
          "name": "stderr",
          "output_type": "stream",
          "text": [
            "100%|██████████| 100/100 [00:01<00:00, 53.29it/s]\n",
            "100%|██████████| 50/50 [00:00<00:00, 53.96it/s]\n"
          ]
        },
        {
          "name": "stdout",
          "output_type": "stream",
          "text": [
            "acc: 100.000%, f1: 1.000\n",
            "layer: 1, position: 7\n"
          ]
        },
        {
          "name": "stderr",
          "output_type": "stream",
          "text": [
            "100%|██████████| 100/100 [00:01<00:00, 56.97it/s]\n",
            "100%|██████████| 50/50 [00:00<00:00, 55.31it/s]\n"
          ]
        },
        {
          "name": "stdout",
          "output_type": "stream",
          "text": [
            "acc: 100.000%, f1: 1.000\n",
            "layer: 1, position: 8\n"
          ]
        },
        {
          "name": "stderr",
          "output_type": "stream",
          "text": [
            "100%|██████████| 100/100 [00:01<00:00, 56.66it/s]\n",
            "100%|██████████| 50/50 [00:00<00:00, 53.48it/s]\n"
          ]
        },
        {
          "name": "stdout",
          "output_type": "stream",
          "text": [
            "acc: 93.000%, f1: 0.746\n",
            "layer: 1, position: 9\n"
          ]
        },
        {
          "name": "stderr",
          "output_type": "stream",
          "text": [
            "100%|██████████| 100/100 [00:01<00:00, 53.67it/s]\n",
            "100%|██████████| 50/50 [00:00<00:00, 58.84it/s]\n"
          ]
        },
        {
          "name": "stdout",
          "output_type": "stream",
          "text": [
            "acc: 99.000%, f1: 0.983\n",
            "layer: 1, position: 10\n"
          ]
        },
        {
          "name": "stderr",
          "output_type": "stream",
          "text": [
            "100%|██████████| 100/100 [00:01<00:00, 54.66it/s]\n",
            "100%|██████████| 50/50 [00:00<00:00, 67.62it/s]\n"
          ]
        },
        {
          "name": "stdout",
          "output_type": "stream",
          "text": [
            "acc: 99.000%, f1: 0.983\n",
            "layer: 1, position: 11\n"
          ]
        },
        {
          "name": "stderr",
          "output_type": "stream",
          "text": [
            "100%|██████████| 100/100 [00:01<00:00, 67.00it/s]\n",
            "100%|██████████| 50/50 [00:00<00:00, 52.01it/s]\n"
          ]
        },
        {
          "name": "stdout",
          "output_type": "stream",
          "text": [
            "acc: 100.000%, f1: 1.000\n",
            "layer: 1, position: 12\n"
          ]
        },
        {
          "name": "stderr",
          "output_type": "stream",
          "text": [
            "100%|██████████| 100/100 [00:01<00:00, 55.25it/s]\n",
            "100%|██████████| 50/50 [00:00<00:00, 57.42it/s]\n"
          ]
        },
        {
          "name": "stdout",
          "output_type": "stream",
          "text": [
            "acc: 100.000%, f1: 1.000\n",
            "layer: 2, position: 0\n"
          ]
        },
        {
          "name": "stderr",
          "output_type": "stream",
          "text": [
            "100%|██████████| 100/100 [00:01<00:00, 51.10it/s]\n",
            "100%|██████████| 50/50 [00:00<00:00, 59.51it/s]\n"
          ]
        },
        {
          "name": "stdout",
          "output_type": "stream",
          "text": [
            "acc: 31.000%, f1: 0.095\n",
            "layer: 2, position: 1\n"
          ]
        },
        {
          "name": "stderr",
          "output_type": "stream",
          "text": [
            "100%|██████████| 100/100 [00:01<00:00, 57.96it/s]\n",
            "100%|██████████| 50/50 [00:00<00:00, 52.30it/s]\n"
          ]
        },
        {
          "name": "stdout",
          "output_type": "stream",
          "text": [
            "acc: 31.000%, f1: 0.095\n",
            "layer: 2, position: 2\n"
          ]
        },
        {
          "name": "stderr",
          "output_type": "stream",
          "text": [
            "100%|██████████| 100/100 [00:01<00:00, 50.98it/s]\n",
            "100%|██████████| 50/50 [00:00<00:00, 54.82it/s]\n"
          ]
        },
        {
          "name": "stdout",
          "output_type": "stream",
          "text": [
            "acc: 31.000%, f1: 0.095\n",
            "layer: 2, position: 3\n"
          ]
        },
        {
          "name": "stderr",
          "output_type": "stream",
          "text": [
            "100%|██████████| 100/100 [00:01<00:00, 53.37it/s]\n",
            "100%|██████████| 50/50 [00:00<00:00, 58.93it/s]\n"
          ]
        },
        {
          "name": "stdout",
          "output_type": "stream",
          "text": [
            "acc: 31.000%, f1: 0.095\n",
            "layer: 2, position: 4\n"
          ]
        },
        {
          "name": "stderr",
          "output_type": "stream",
          "text": [
            "100%|██████████| 100/100 [00:01<00:00, 59.99it/s]\n",
            "100%|██████████| 50/50 [00:00<00:00, 54.90it/s]\n"
          ]
        },
        {
          "name": "stdout",
          "output_type": "stream",
          "text": [
            "acc: 31.000%, f1: 0.095\n",
            "layer: 2, position: 5\n"
          ]
        },
        {
          "name": "stderr",
          "output_type": "stream",
          "text": [
            "100%|██████████| 100/100 [00:01<00:00, 51.62it/s]\n",
            "100%|██████████| 50/50 [00:00<00:00, 51.84it/s]\n"
          ]
        },
        {
          "name": "stdout",
          "output_type": "stream",
          "text": [
            "acc: 100.000%, f1: 1.000\n",
            "layer: 2, position: 6\n"
          ]
        },
        {
          "name": "stderr",
          "output_type": "stream",
          "text": [
            "100%|██████████| 100/100 [00:01<00:00, 62.21it/s]\n",
            "c:\\Users\\kjani\\AppData\\Local\\Programs\\Python\\Python310\\lib\\site-packages\\sklearn\\linear_model\\_logistic.py:469: ConvergenceWarning: lbfgs failed to converge (status=1):\n",
            "STOP: TOTAL NO. of ITERATIONS REACHED LIMIT.\n",
            "\n",
            "Increase the number of iterations (max_iter) or scale the data as shown in:\n",
            "    https://scikit-learn.org/stable/modules/preprocessing.html\n",
            "Please also refer to the documentation for alternative solver options:\n",
            "    https://scikit-learn.org/stable/modules/linear_model.html#logistic-regression\n",
            "100%|██████████| 50/50 [00:00<00:00, 59.09it/s]\n"
          ]
        },
        {
          "name": "stdout",
          "output_type": "stream",
          "text": [
            "acc: 100.000%, f1: 1.000\n",
            "layer: 2, position: 7\n"
          ]
        },
        {
          "name": "stderr",
          "output_type": "stream",
          "text": [
            "100%|██████████| 100/100 [00:01<00:00, 54.34it/s]\n",
            "100%|██████████| 50/50 [00:00<00:00, 56.48it/s]\n"
          ]
        },
        {
          "name": "stdout",
          "output_type": "stream",
          "text": [
            "acc: 100.000%, f1: 1.000\n",
            "layer: 2, position: 8\n"
          ]
        },
        {
          "name": "stderr",
          "output_type": "stream",
          "text": [
            "100%|██████████| 100/100 [00:01<00:00, 52.87it/s]\n",
            "100%|██████████| 50/50 [00:00<00:00, 58.35it/s]\n"
          ]
        },
        {
          "name": "stdout",
          "output_type": "stream",
          "text": [
            "acc: 100.000%, f1: 1.000\n",
            "layer: 2, position: 9\n"
          ]
        },
        {
          "name": "stderr",
          "output_type": "stream",
          "text": [
            "100%|██████████| 100/100 [00:01<00:00, 53.17it/s]\n",
            "100%|██████████| 50/50 [00:00<00:00, 68.34it/s]\n"
          ]
        },
        {
          "name": "stdout",
          "output_type": "stream",
          "text": [
            "acc: 100.000%, f1: 1.000\n",
            "layer: 2, position: 10\n"
          ]
        },
        {
          "name": "stderr",
          "output_type": "stream",
          "text": [
            "100%|██████████| 100/100 [00:01<00:00, 68.76it/s]\n",
            "100%|██████████| 50/50 [00:00<00:00, 54.55it/s]\n"
          ]
        },
        {
          "name": "stdout",
          "output_type": "stream",
          "text": [
            "acc: 100.000%, f1: 1.000\n",
            "layer: 2, position: 11\n"
          ]
        },
        {
          "name": "stderr",
          "output_type": "stream",
          "text": [
            "100%|██████████| 100/100 [00:01<00:00, 56.61it/s]\n",
            "100%|██████████| 50/50 [00:00<00:00, 56.03it/s]\n"
          ]
        },
        {
          "name": "stdout",
          "output_type": "stream",
          "text": [
            "acc: 100.000%, f1: 1.000\n",
            "layer: 2, position: 12\n"
          ]
        },
        {
          "name": "stderr",
          "output_type": "stream",
          "text": [
            "100%|██████████| 100/100 [00:01<00:00, 57.83it/s]\n",
            "100%|██████████| 50/50 [00:00<00:00, 51.23it/s]\n"
          ]
        },
        {
          "name": "stdout",
          "output_type": "stream",
          "text": [
            "acc: 100.000%, f1: 1.000\n",
            "layer: 3, position: 0\n"
          ]
        },
        {
          "name": "stderr",
          "output_type": "stream",
          "text": [
            "100%|██████████| 100/100 [00:01<00:00, 51.61it/s]\n",
            "100%|██████████| 50/50 [00:00<00:00, 54.85it/s]\n"
          ]
        },
        {
          "name": "stdout",
          "output_type": "stream",
          "text": [
            "acc: 31.000%, f1: 0.095\n",
            "layer: 3, position: 1\n"
          ]
        },
        {
          "name": "stderr",
          "output_type": "stream",
          "text": [
            "100%|██████████| 100/100 [00:01<00:00, 51.77it/s]\n",
            "100%|██████████| 50/50 [00:00<00:00, 58.15it/s]\n"
          ]
        },
        {
          "name": "stdout",
          "output_type": "stream",
          "text": [
            "acc: 31.000%, f1: 0.095\n",
            "layer: 3, position: 2\n"
          ]
        },
        {
          "name": "stderr",
          "output_type": "stream",
          "text": [
            "100%|██████████| 100/100 [00:01<00:00, 54.61it/s]\n",
            "100%|██████████| 50/50 [00:00<00:00, 51.36it/s]\n"
          ]
        },
        {
          "name": "stdout",
          "output_type": "stream",
          "text": [
            "acc: 31.000%, f1: 0.095\n",
            "layer: 3, position: 3\n"
          ]
        },
        {
          "name": "stderr",
          "output_type": "stream",
          "text": [
            "100%|██████████| 100/100 [00:01<00:00, 55.90it/s]\n",
            "100%|██████████| 50/50 [00:00<00:00, 53.59it/s]\n"
          ]
        },
        {
          "name": "stdout",
          "output_type": "stream",
          "text": [
            "acc: 31.000%, f1: 0.095\n",
            "layer: 3, position: 4\n"
          ]
        },
        {
          "name": "stderr",
          "output_type": "stream",
          "text": [
            "100%|██████████| 100/100 [00:01<00:00, 51.42it/s]\n",
            "100%|██████████| 50/50 [00:00<00:00, 52.02it/s]\n"
          ]
        },
        {
          "name": "stdout",
          "output_type": "stream",
          "text": [
            "acc: 31.000%, f1: 0.095\n",
            "layer: 3, position: 5\n"
          ]
        },
        {
          "name": "stderr",
          "output_type": "stream",
          "text": [
            "100%|██████████| 100/100 [00:01<00:00, 51.03it/s]\n",
            "100%|██████████| 50/50 [00:00<00:00, 50.08it/s]\n"
          ]
        },
        {
          "name": "stdout",
          "output_type": "stream",
          "text": [
            "acc: 100.000%, f1: 1.000\n",
            "layer: 3, position: 6\n"
          ]
        },
        {
          "name": "stderr",
          "output_type": "stream",
          "text": [
            "100%|██████████| 100/100 [00:01<00:00, 54.00it/s]\n",
            "c:\\Users\\kjani\\AppData\\Local\\Programs\\Python\\Python310\\lib\\site-packages\\sklearn\\linear_model\\_logistic.py:469: ConvergenceWarning: lbfgs failed to converge (status=1):\n",
            "STOP: TOTAL NO. of ITERATIONS REACHED LIMIT.\n",
            "\n",
            "Increase the number of iterations (max_iter) or scale the data as shown in:\n",
            "    https://scikit-learn.org/stable/modules/preprocessing.html\n",
            "Please also refer to the documentation for alternative solver options:\n",
            "    https://scikit-learn.org/stable/modules/linear_model.html#logistic-regression\n",
            "100%|██████████| 50/50 [00:00<00:00, 51.43it/s]\n"
          ]
        },
        {
          "name": "stdout",
          "output_type": "stream",
          "text": [
            "acc: 100.000%, f1: 1.000\n",
            "layer: 3, position: 7\n"
          ]
        },
        {
          "name": "stderr",
          "output_type": "stream",
          "text": [
            "100%|██████████| 100/100 [00:01<00:00, 53.96it/s]\n",
            "100%|██████████| 50/50 [00:00<00:00, 55.26it/s]\n"
          ]
        },
        {
          "name": "stdout",
          "output_type": "stream",
          "text": [
            "acc: 100.000%, f1: 1.000\n",
            "layer: 3, position: 8\n"
          ]
        },
        {
          "name": "stderr",
          "output_type": "stream",
          "text": [
            "100%|██████████| 100/100 [00:02<00:00, 49.14it/s]\n",
            "100%|██████████| 50/50 [00:00<00:00, 61.98it/s]\n"
          ]
        },
        {
          "name": "stdout",
          "output_type": "stream",
          "text": [
            "acc: 100.000%, f1: 1.000\n",
            "layer: 3, position: 9\n"
          ]
        },
        {
          "name": "stderr",
          "output_type": "stream",
          "text": [
            "100%|██████████| 100/100 [00:01<00:00, 55.35it/s]\n",
            "100%|██████████| 50/50 [00:00<00:00, 55.18it/s]\n"
          ]
        },
        {
          "name": "stdout",
          "output_type": "stream",
          "text": [
            "acc: 100.000%, f1: 1.000\n",
            "layer: 3, position: 10\n"
          ]
        },
        {
          "name": "stderr",
          "output_type": "stream",
          "text": [
            "100%|██████████| 100/100 [00:01<00:00, 50.51it/s]\n",
            "100%|██████████| 50/50 [00:00<00:00, 54.77it/s]\n"
          ]
        },
        {
          "name": "stdout",
          "output_type": "stream",
          "text": [
            "acc: 100.000%, f1: 1.000\n",
            "layer: 3, position: 11\n"
          ]
        },
        {
          "name": "stderr",
          "output_type": "stream",
          "text": [
            "100%|██████████| 100/100 [00:01<00:00, 57.09it/s]\n",
            "100%|██████████| 50/50 [00:00<00:00, 52.07it/s]\n"
          ]
        },
        {
          "name": "stdout",
          "output_type": "stream",
          "text": [
            "acc: 100.000%, f1: 1.000\n",
            "layer: 3, position: 12\n"
          ]
        },
        {
          "name": "stderr",
          "output_type": "stream",
          "text": [
            "100%|██████████| 100/100 [00:01<00:00, 54.98it/s]\n",
            "100%|██████████| 50/50 [00:00<00:00, 54.13it/s]\n"
          ]
        },
        {
          "name": "stdout",
          "output_type": "stream",
          "text": [
            "acc: 100.000%, f1: 1.000\n",
            "layer: 4, position: 0\n"
          ]
        },
        {
          "name": "stderr",
          "output_type": "stream",
          "text": [
            "100%|██████████| 100/100 [00:01<00:00, 53.08it/s]\n",
            "100%|██████████| 50/50 [00:00<00:00, 50.52it/s]\n"
          ]
        },
        {
          "name": "stdout",
          "output_type": "stream",
          "text": [
            "acc: 31.000%, f1: 0.095\n",
            "layer: 4, position: 1\n"
          ]
        },
        {
          "name": "stderr",
          "output_type": "stream",
          "text": [
            "100%|██████████| 100/100 [00:01<00:00, 53.90it/s]\n",
            "100%|██████████| 50/50 [00:00<00:00, 56.77it/s]\n"
          ]
        },
        {
          "name": "stdout",
          "output_type": "stream",
          "text": [
            "acc: 31.000%, f1: 0.095\n",
            "layer: 4, position: 2\n"
          ]
        },
        {
          "name": "stderr",
          "output_type": "stream",
          "text": [
            "100%|██████████| 100/100 [00:01<00:00, 53.96it/s]\n",
            "100%|██████████| 50/50 [00:00<00:00, 50.64it/s]\n"
          ]
        },
        {
          "name": "stdout",
          "output_type": "stream",
          "text": [
            "acc: 31.000%, f1: 0.095\n",
            "layer: 4, position: 3\n"
          ]
        },
        {
          "name": "stderr",
          "output_type": "stream",
          "text": [
            "100%|██████████| 100/100 [00:01<00:00, 53.75it/s]\n",
            "100%|██████████| 50/50 [00:00<00:00, 59.92it/s]\n"
          ]
        },
        {
          "name": "stdout",
          "output_type": "stream",
          "text": [
            "acc: 31.000%, f1: 0.095\n",
            "layer: 4, position: 4\n"
          ]
        },
        {
          "name": "stderr",
          "output_type": "stream",
          "text": [
            "100%|██████████| 100/100 [00:01<00:00, 61.43it/s]\n",
            "100%|██████████| 50/50 [00:00<00:00, 58.26it/s]\n"
          ]
        },
        {
          "name": "stdout",
          "output_type": "stream",
          "text": [
            "acc: 31.000%, f1: 0.095\n",
            "layer: 4, position: 5\n"
          ]
        },
        {
          "name": "stderr",
          "output_type": "stream",
          "text": [
            "100%|██████████| 100/100 [00:01<00:00, 60.07it/s]\n",
            "100%|██████████| 50/50 [00:00<00:00, 58.86it/s]\n"
          ]
        },
        {
          "name": "stdout",
          "output_type": "stream",
          "text": [
            "acc: 100.000%, f1: 1.000\n",
            "layer: 4, position: 6\n"
          ]
        },
        {
          "name": "stderr",
          "output_type": "stream",
          "text": [
            "100%|██████████| 100/100 [00:01<00:00, 52.66it/s]\n",
            "100%|██████████| 50/50 [00:00<00:00, 52.50it/s]\n"
          ]
        },
        {
          "name": "stdout",
          "output_type": "stream",
          "text": [
            "acc: 100.000%, f1: 1.000\n",
            "layer: 4, position: 7\n"
          ]
        },
        {
          "name": "stderr",
          "output_type": "stream",
          "text": [
            "100%|██████████| 100/100 [00:01<00:00, 52.10it/s]\n",
            "100%|██████████| 50/50 [00:00<00:00, 50.77it/s]\n"
          ]
        },
        {
          "name": "stdout",
          "output_type": "stream",
          "text": [
            "acc: 100.000%, f1: 1.000\n",
            "layer: 4, position: 8\n"
          ]
        },
        {
          "name": "stderr",
          "output_type": "stream",
          "text": [
            "100%|██████████| 100/100 [00:01<00:00, 53.28it/s]\n",
            "100%|██████████| 50/50 [00:00<00:00, 51.00it/s]\n"
          ]
        },
        {
          "name": "stdout",
          "output_type": "stream",
          "text": [
            "acc: 100.000%, f1: 1.000\n",
            "layer: 4, position: 9\n"
          ]
        },
        {
          "name": "stderr",
          "output_type": "stream",
          "text": [
            "100%|██████████| 100/100 [00:01<00:00, 52.55it/s]\n",
            "100%|██████████| 50/50 [00:00<00:00, 53.34it/s]\n"
          ]
        },
        {
          "name": "stdout",
          "output_type": "stream",
          "text": [
            "acc: 100.000%, f1: 1.000\n",
            "layer: 4, position: 10\n"
          ]
        },
        {
          "name": "stderr",
          "output_type": "stream",
          "text": [
            "100%|██████████| 100/100 [00:01<00:00, 54.63it/s]\n",
            "100%|██████████| 50/50 [00:00<00:00, 63.47it/s]\n"
          ]
        },
        {
          "name": "stdout",
          "output_type": "stream",
          "text": [
            "acc: 100.000%, f1: 1.000\n",
            "layer: 4, position: 11\n"
          ]
        },
        {
          "name": "stderr",
          "output_type": "stream",
          "text": [
            "100%|██████████| 100/100 [00:01<00:00, 53.53it/s]\n",
            "100%|██████████| 50/50 [00:01<00:00, 47.57it/s]\n"
          ]
        },
        {
          "name": "stdout",
          "output_type": "stream",
          "text": [
            "acc: 100.000%, f1: 1.000\n",
            "layer: 4, position: 12\n"
          ]
        },
        {
          "name": "stderr",
          "output_type": "stream",
          "text": [
            "100%|██████████| 100/100 [00:01<00:00, 52.25it/s]\n",
            "100%|██████████| 50/50 [00:00<00:00, 57.09it/s]\n"
          ]
        },
        {
          "name": "stdout",
          "output_type": "stream",
          "text": [
            "acc: 100.000%, f1: 1.000\n",
            "layer: 5, position: 0\n"
          ]
        },
        {
          "name": "stderr",
          "output_type": "stream",
          "text": [
            "100%|██████████| 100/100 [00:01<00:00, 54.77it/s]\n",
            "100%|██████████| 50/50 [00:00<00:00, 58.79it/s]\n"
          ]
        },
        {
          "name": "stdout",
          "output_type": "stream",
          "text": [
            "acc: 31.000%, f1: 0.095\n",
            "layer: 5, position: 1\n"
          ]
        },
        {
          "name": "stderr",
          "output_type": "stream",
          "text": [
            "100%|██████████| 100/100 [00:01<00:00, 55.84it/s]\n",
            "100%|██████████| 50/50 [00:00<00:00, 51.62it/s]\n"
          ]
        },
        {
          "name": "stdout",
          "output_type": "stream",
          "text": [
            "acc: 31.000%, f1: 0.095\n",
            "layer: 5, position: 2\n"
          ]
        },
        {
          "name": "stderr",
          "output_type": "stream",
          "text": [
            "100%|██████████| 100/100 [00:01<00:00, 56.22it/s]\n",
            "100%|██████████| 50/50 [00:00<00:00, 53.78it/s]\n"
          ]
        },
        {
          "name": "stdout",
          "output_type": "stream",
          "text": [
            "acc: 31.000%, f1: 0.095\n",
            "layer: 5, position: 3\n"
          ]
        },
        {
          "name": "stderr",
          "output_type": "stream",
          "text": [
            "100%|██████████| 100/100 [00:01<00:00, 54.40it/s]\n",
            "100%|██████████| 50/50 [00:00<00:00, 50.48it/s]\n"
          ]
        },
        {
          "name": "stdout",
          "output_type": "stream",
          "text": [
            "acc: 31.000%, f1: 0.095\n",
            "layer: 5, position: 4\n"
          ]
        },
        {
          "name": "stderr",
          "output_type": "stream",
          "text": [
            "100%|██████████| 100/100 [00:01<00:00, 60.72it/s]\n",
            "100%|██████████| 50/50 [00:00<00:00, 57.06it/s]\n"
          ]
        },
        {
          "name": "stdout",
          "output_type": "stream",
          "text": [
            "acc: 31.000%, f1: 0.095\n",
            "layer: 5, position: 5\n"
          ]
        },
        {
          "name": "stderr",
          "output_type": "stream",
          "text": [
            "100%|██████████| 100/100 [00:01<00:00, 56.45it/s]\n",
            "100%|██████████| 50/50 [00:01<00:00, 49.29it/s]\n"
          ]
        },
        {
          "name": "stdout",
          "output_type": "stream",
          "text": [
            "acc: 100.000%, f1: 1.000\n",
            "layer: 5, position: 6\n"
          ]
        },
        {
          "name": "stderr",
          "output_type": "stream",
          "text": [
            "100%|██████████| 100/100 [00:01<00:00, 54.54it/s]\n",
            "100%|██████████| 50/50 [00:00<00:00, 58.10it/s]\n"
          ]
        },
        {
          "name": "stdout",
          "output_type": "stream",
          "text": [
            "acc: 100.000%, f1: 1.000\n",
            "layer: 5, position: 7\n"
          ]
        },
        {
          "name": "stderr",
          "output_type": "stream",
          "text": [
            "100%|██████████| 100/100 [00:01<00:00, 53.62it/s]\n",
            "100%|██████████| 50/50 [00:00<00:00, 58.89it/s]\n"
          ]
        },
        {
          "name": "stdout",
          "output_type": "stream",
          "text": [
            "acc: 100.000%, f1: 1.000\n",
            "layer: 5, position: 8\n"
          ]
        },
        {
          "name": "stderr",
          "output_type": "stream",
          "text": [
            "100%|██████████| 100/100 [00:01<00:00, 53.61it/s]\n",
            "100%|██████████| 50/50 [00:01<00:00, 49.05it/s]\n"
          ]
        },
        {
          "name": "stdout",
          "output_type": "stream",
          "text": [
            "acc: 100.000%, f1: 1.000\n",
            "layer: 5, position: 9\n"
          ]
        },
        {
          "name": "stderr",
          "output_type": "stream",
          "text": [
            "100%|██████████| 100/100 [00:01<00:00, 53.90it/s]\n",
            "100%|██████████| 50/50 [00:00<00:00, 60.41it/s]\n"
          ]
        },
        {
          "name": "stdout",
          "output_type": "stream",
          "text": [
            "acc: 100.000%, f1: 1.000\n",
            "layer: 5, position: 10\n"
          ]
        },
        {
          "name": "stderr",
          "output_type": "stream",
          "text": [
            "100%|██████████| 100/100 [00:01<00:00, 56.26it/s]\n",
            "100%|██████████| 50/50 [00:00<00:00, 56.10it/s]\n"
          ]
        },
        {
          "name": "stdout",
          "output_type": "stream",
          "text": [
            "acc: 100.000%, f1: 1.000\n",
            "layer: 5, position: 11\n"
          ]
        },
        {
          "name": "stderr",
          "output_type": "stream",
          "text": [
            "100%|██████████| 100/100 [00:01<00:00, 55.61it/s]\n",
            "100%|██████████| 50/50 [00:00<00:00, 57.90it/s]\n"
          ]
        },
        {
          "name": "stdout",
          "output_type": "stream",
          "text": [
            "acc: 100.000%, f1: 1.000\n",
            "layer: 5, position: 12\n"
          ]
        },
        {
          "name": "stderr",
          "output_type": "stream",
          "text": [
            "100%|██████████| 100/100 [00:01<00:00, 53.99it/s]\n",
            "100%|██████████| 50/50 [00:00<00:00, 50.81it/s]"
          ]
        },
        {
          "name": "stdout",
          "output_type": "stream",
          "text": [
            "acc: 100.000%, f1: 1.000\n"
          ]
        },
        {
          "name": "stderr",
          "output_type": "stream",
          "text": [
            "\n"
          ]
        }
      ],
      "source": [
        "# intervention settings\n",
        "stats = []\n",
        "num_layers = gpt.config.num_hidden_layers\n",
        "\n",
        "\n",
        "# loop over layers and positions\n",
        "with torch.no_grad():\n",
        "    for layer in range(num_layers):\n",
        "        for position in range(13):\n",
        "            print(f\"layer: {layer}, position: {position}\")\n",
        "\n",
        "            # set up intervenable model\n",
        "            config = probing_config(\"block_output\", layer)\n",
        "            intervenable = pv.IntervenableModel(config, gpt)\n",
        "            intervenable.set_device(device)\n",
        "            intervenable.disable_model_gradients()\n",
        "\n",
        "            # training loop\n",
        "            activations, labels = [], []\n",
        "            iterator = tqdm(trainset)\n",
        "            for example in iterator:\n",
        "                # forward pass\n",
        "                base_outputs, _ = intervenable(\n",
        "                    example.base,\n",
        "                    unit_locations={\"base\": position},\n",
        "                )\n",
        "                base_activations = base_outputs[1][0]\n",
        "\n",
        "                src_outputs, _ = intervenable(\n",
        "                    example.src,\n",
        "                    unit_locations={\"base\": position},\n",
        "                )\n",
        "                src_activations = src_outputs[1][0]\n",
        "\n",
        "                # collect activation\n",
        "                activations.extend(\n",
        "                    [base_activations.detach()[0].cpu().numpy(), src_activations.detach()[0].cpu().numpy()]\n",
        "                )\n",
        "                labels.extend([example.base_label, example.src_label])\n",
        "            labels = [label_mapping[label] for label in labels]\n",
        "\n",
        "            # train logistic regression\n",
        "            lr = LogisticRegression(random_state=42, max_iter=1000).fit(\n",
        "                activations, labels\n",
        "            )\n",
        "\n",
        "            # eval\n",
        "            activations, labels = [], []\n",
        "            iterator = tqdm(evalset)\n",
        "            for example in iterator:\n",
        "                # forward pass\n",
        "                base_outputs, _ = intervenable(\n",
        "                    example.base,\n",
        "                    unit_locations={\"base\": position},\n",
        "                )\n",
        "                base_activations = base_outputs[1][0]\n",
        "\n",
        "                src_outputs, _ = intervenable(\n",
        "                    example.src,\n",
        "                    unit_locations={\"base\": position},\n",
        "                )\n",
        "                src_activations = src_outputs[1][0]\n",
        "\n",
        "                # collect activation\n",
        "                activations.extend(\n",
        "                    [base_activations.detach()[0].cpu().numpy(), src_activations.detach()[0].cpu().numpy()]\n",
        "                )\n",
        "                labels.extend([example.base_label, example.src_label])\n",
        "            labels = [label_mapping[label] for label in labels]\n",
        "\n",
        "            # stats\n",
        "            acc = lr.score(activations, labels)\n",
        "            f1 = f1_score(labels, lr.predict(activations), average='macro')\n",
        "            stats.append({\"layer\": layer, \"position\": position, \"acc\": acc, \"f1\": f1})\n",
        "            print(f\"acc: {acc:.3%}, f1: {f1:.3f}\")\n",
        "df = pd.DataFrame(stats)\n",
        "df.to_csv(f\"./tutorial_data/pyvene_gender_probe.csv\")"
      ]
    },
    {
      "cell_type": "markdown",
      "metadata": {
        "id": "bTU3rWeBl8oR"
      },
      "source": [
        "And the probe accuracy plot is below. Note the extremely high accuracy at all positions at and after the name! Early layers at later positions are better but it saturates much before the IIA for DAS. This shows how unreliable probes are for tracing causal effect."
      ]
    },
    {
      "cell_type": "code",
      "execution_count": 23,
      "metadata": {
        "id": "Jni07pQcl8oS"
      },
      "outputs": [
        {
          "name": "stderr",
          "output_type": "stream",
          "text": [
            "c:\\Users\\kjani\\AppData\\Local\\Programs\\Python\\Python310\\lib\\site-packages\\plotnine\\ggplot.py:615: PlotnineWarning: Saving 15 x 10 in image.\n",
            "c:\\Users\\kjani\\AppData\\Local\\Programs\\Python\\Python310\\lib\\site-packages\\plotnine\\ggplot.py:616: PlotnineWarning: Filename: ./tutorial_data/pyvene_gender_probe.pdf\n"
          ]
        },
        {
          "name": "stdout",
          "output_type": "stream",
          "text": [
            "<ggplot: (1500 x 1000)>\n"
          ]
        }
      ],
      "source": [
        "df = pd.read_csv(f\"./tutorial_data/pyvene_gender_probe.csv\")\n",
        "df[\"layer\"] = df[\"layer\"].astype(int)\n",
        "df[\"pos\"] = df[\"position\"].astype(int)\n",
        "df[\"ACC\"] = df[\"acc\"].astype(float)\n",
        "\n",
        "custom_labels = [ \"EOS\", \"Y\", \"ann\", \"wants\", \"to\", \"<verb>\", \".\", \"Y\", \"ann\", \"will\", \"go\", \"to\", \"the\"]\n",
        "breaks = range(len(custom_labels))\n",
        "\n",
        "plot = (\n",
        "    ggplot(df, aes(x=\"layer\", y=\"pos\", fill=\"ACC\"))\n",
        "    + geom_tile()\n",
        "    + scale_fill_cmap(\"Reds\") + xlab(\"layers\")\n",
        "    + scale_y_reverse(\n",
        "        limits = (-0.5, 12.5),\n",
        "        breaks=breaks, labels=custom_labels)\n",
        "    + theme(figure_size=(15, 10)) + ylab(\"\")\n",
        "    + theme(axis_text_y  = element_text(angle = 90, hjust = 1))\n",
        "    + ggtitle(\"Trained Linear Probe\")\n",
        ")\n",
        "ggsave(\n",
        "    plot, filename=f\"./tutorial_data/pyvene_gender_probe.pdf\", dpi=200\n",
        ")\n",
        "print(plot)\n"
      ]
    },
    {
      "cell_type": "markdown",
      "metadata": {
        "id": "l4yDRQ-Ol8oS"
      },
      "source": [
        "_______________________________________"
      ]
    },
    {
      "cell_type": "code",
      "execution_count": null,
      "metadata": {},
      "outputs": [],
      "source": [
        "import pandas as pd\n",
        "from transformers import AutoTokenizer\n",
        "from datasets import load_dataset\n",
        "\n",
        "# Załadowanie zbioru danych\n",
        "dataset = load_dataset(\"tasksource/babi_nli\", \"agents-motivations\")\n",
        "train_data = pd.DataFrame(dataset['train'])\n",
        "test_data = pd.DataFrame(dataset['test'])\n",
        "\n",
        "# Filtrowanie danych tylko z etykietą \"0\" (not-entailed)\n",
        "filtered_train_data = train_data[train_data['label'] == 0]\n",
        "filtered_test_data = test_data[test_data['label'] == 0]\n",
        "\n",
        "# Tokenizer\n",
        "tokenizer = AutoTokenizer.from_pretrained(\"EleutherAI/pythia-70m\")\n",
        "tokenizer.pad_token = tokenizer.eos_token\n",
        "\n",
        "# Funkcja do ekstrakcji przykładów\n",
        "def extract_room_examples(data):\n",
        "    examples = []\n",
        "    rooms = [\"kitchen\", \"garden\", \"bedroom\"]  # Lista dostępnych pomieszczeń\n",
        "    \n",
        "    for _, row in data.iterrows():\n",
        "        context = row['premise']  # Kontekst\n",
        "        hypothesis = row['hypothesis']  # Hipoteza\n",
        "        \n",
        "        # Jeśli hipoteza zawiera pomieszczenie\n",
        "        if any(room in hypothesis for room in rooms):\n",
        "            room = [room for room in rooms if room in hypothesis][0]  # Wybór pomieszczenia z hipotezy\n",
        "            # Sprawdzamy, czy kontekst nie zawiera pomieszczenia\n",
        "            if not any(room in context for room in rooms):\n",
        "                # Przygotowujemy przykład\n",
        "                example = (context + \" \" + hypothesis.split(\"to the\")[0] + \"to the \", room)  # Dodajemy tylko do miejsca \"to the\"\n",
        "                examples.append(example)\n",
        "    \n",
        "    return examples\n",
        "\n",
        "# Przygotowanie przykładów\n",
        "train_examples = extract_room_examples(filtered_train_data)\n",
        "test_examples = extract_room_examples(filtered_test_data)\n",
        "\n",
        "# Sprawdzamy przykłady\n",
        "print(\"Przykłady do treningu:\")\n",
        "for example in train_examples[:5]:  # Wyświetlamy tylko pierwsze 5 przykładów\n",
        "    print(f\"Kontekst: {example[0]}\")\n",
        "    print(f\"Pomieszczenie: {example[1]}\")\n",
        "    print(\"-\" * 50)\n",
        "\n",
        "print(\"\\nPrzykłady do testu:\")\n",
        "for example in test_examples[:5]:  # Wyświetlamy tylko pierwsze 5 przykładów\n",
        "    print(f\"Kontekst: {example[0]}\")\n",
        "    print(f\"Pomieszczenie: {example[1]}\")\n",
        "    print(\"-\" * 50)\n",
        "\n",
        "print(len(train_examples), len(test_examples))\n"
      ]
    },
    {
      "cell_type": "code",
      "execution_count": null,
      "metadata": {},
      "outputs": [],
      "source": [
        "def get_hidden_representations(model, tokenizer, examples):\n",
        "    hidden_representations = []\n",
        "    \n",
        "    # Tokenizujemy i przechodzimy przez dane\n",
        "    for context, room in examples:\n",
        "        # Tokenizacja kontekstu i pomieszczenia\n",
        "        inputs = tokenizer(context + \" \" + room, return_tensors=\"pt\", padding=True, truncation=True)\n",
        "        \n",
        "        # Uzyskanie ukrytych reprezentacji\n",
        "        with torch.no_grad():\n",
        "            outputs = model(**inputs, output_hidden_states=True)\n",
        "            hidden_states = outputs.hidden_states  # Uzyskiwanie wszystkich warstw\n",
        "            \n",
        "        # Zbieramy reprezentacje dla każdego tokena w każdej warstwie\n",
        "        for layer_idx, hidden_state in enumerate(hidden_states):  # Iterowanie przez warstwy\n",
        "            for pos, token_repr in enumerate(hidden_state[0]):  # Iterowanie przez tokeny\n",
        "                hidden_representations.append({\n",
        "                    \"layer\": layer_idx,  # Numer warstwy\n",
        "                    \"position\": pos,     # Pozycja tokenu\n",
        "                    \"IIA\": token_repr.mean().item(),  # Reprezentacja ukryta (średnia wartość dla tokenu)\n",
        "                    \"room\": room  # Dodajemy nazwę pomieszczenia do danych\n",
        "                })\n",
        "    \n",
        "    return hidden_representations\n",
        "\n",
        "# Załaduj model\n",
        "model = AutoModel.from_pretrained(\"EleutherAI/pythia-410m\")\n",
        "\n",
        "# Zbieranie reprezentacji ukrytych\n",
        "hidden_representations = get_hidden_representations(model, tokenizer, train_examples)\n",
        "\n",
        "# Tworzymy DataFrame z reprezentacjami ukrytymi\n",
        "df = pd.DataFrame(hidden_representations)\n",
        "\n",
        "# Przygotowanie wykresu\n",
        "df[\"layer\"] = df[\"layer\"].astype(int)\n",
        "df[\"pos\"] = df[\"position\"].astype(int)\n",
        "df[\"IIA\"] = df[\"IIA\"].astype(float)\n",
        "\n",
        "# Przygotowanie unikalnych tokenów w kontekście (przykłady do analizy)\n",
        "tokens = sorted(df['room'].unique())  # Unikalne pomieszczenia w posortowanej kolejności\n",
        "custom_labels = tokens  # Etykiety osi Y\n",
        "breaks = list(range(len(tokens)))  # Odpowiednia liczba przerw na osi Y\n",
        "\n",
        "# Tworzenie wykresu\n",
        "plot = (\n",
        "    ggplot(df, aes(x=\"layer\", y=\"room\"))  # Używamy `room` jako osi Y\n",
        "    + geom_tile(aes(fill=\"IIA\"))  # Kolorowanie na podstawie wartości IIA\n",
        "    + scale_fill_cmap(\"Purples\")  # Skala kolorów\n",
        "    + xlab(\"layers\")  # Etykieta osi X\n",
        "    + scale_y_discrete(  # Używamy skali dyskretnej dla osi Y, ponieważ mamy tokeny\n",
        "        breaks=tokens,  # Przerwy odpowiadające tokenom\n",
        "        labels=custom_labels  # Etykiety odpowiadające tokenom\n",
        "    )\n",
        "    + theme(figure_size=(5, 3))  # Rozmiar wykresu\n",
        "    + ylab(\"\")  # Bez etykiety osi Y\n",
        "    + theme(axis_text_y=element_text(angle=90, hjust=1))  # Obrót etykiet osi Y\n",
        "    + ggtitle(\"Trained Intervention (DAS)\")  # Tytuł wykresu\n",
        ")\n",
        "\n",
        "# Zapisanie wykresu do pliku\n",
        "ggsave(plot, filename=\"./tutorial_data/pyvene_room_das.pdf\", dpi=200)\n",
        "\n",
        "# Wyświetlenie wykresu\n",
        "print(plot)"
      ]
    },
    {
      "cell_type": "markdown",
      "metadata": {},
      "source": [
        "_____________________"
      ]
    },
    {
      "cell_type": "code",
      "execution_count": null,
      "metadata": {},
      "outputs": [],
      "source": []
    }
  ],
  "metadata": {
    "colab": {
      "provenance": []
    },
    "kernelspec": {
      "display_name": "Python 3",
      "language": "python",
      "name": "python3"
    },
    "language_info": {
      "codemirror_mode": {
        "name": "ipython",
        "version": 3
      },
      "file_extension": ".py",
      "mimetype": "text/x-python",
      "name": "python",
      "nbconvert_exporter": "python",
      "pygments_lexer": "ipython3",
      "version": "3.10.4"
    }
  },
  "nbformat": 4,
  "nbformat_minor": 0
}
