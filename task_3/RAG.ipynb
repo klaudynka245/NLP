{
 "cells": [
  {
   "cell_type": "code",
   "execution_count": 16,
   "metadata": {},
   "outputs": [
    {
     "name": "stdout",
     "output_type": "stream",
     "text": [
      "{'data': [{'id': 'bielik', 'full_name': 'speakleash/Bielik-11B-v2.2-Instruct', 'name': 'speakleash/Bielik-11B-v2.2-Instruct'}, {'id': 'cohere', 'full_name': 'CohereForAI/c4ai-command-r-plus', 'name': 'CohereForAI/c4ai-command-r-plus'}, {'id': 'llama3.1-8b', 'full_name': 'meta-llama/Llama-3.1-8B-Instruct', 'name': 'meta-llama/Llama-3.1-8B-Instruct'}, {'id': 'llama', 'full_name': 'meta-llama/Llama-3.1-8B-Instruct', 'name': 'meta-llama/Llama-3.1-8B-Instruct'}, {'id': 'llama-guard', 'full_name': 'meta-llama/Llama-Guard-3-8B', 'name': 'meta-llama/Llama-Guard-3-8B'}, {'id': 'llama3.1', 'full_name': 'meta-llama/Meta-Llama-3.1-70B-Instruct', 'name': 'meta-llama/Meta-Llama-3.1-70B-Instruct'}, {'id': 'openchat', 'full_name': 'openchat/openchat-3.5-1210', 'name': 'openchat/openchat-3.5-1210'}, {'id': 'mixtral-8x22B', 'full_name': 'mistralai/Mixtral-8x22B-Instruct-v0.1', 'name': 'mistralai/Mixtral-8x22B-Instruct-v0.1'}]}\n"
     ]
    }
   ],
   "source": [
    "import requests\n",
    "from dotenv import load_dotenv\n",
    "import os\n",
    "import faiss\n",
    "from sentence_transformers import SentenceTransformer\n",
    "import torch\n",
    "from datasets import load_dataset\n",
    "from sentence_transformers import CrossEncoder\n",
    "from transformers import BertTokenizer, BertForSequenceClassification\n",
    "from typing import Literal\n",
    "from sklearn.decomposition import PCA\n",
    "from sklearn.manifold import TSNE\n",
    "import plotly.express as px\n",
    "import pandas as pd\n",
    "\n",
    "load_dotenv()\n",
    "\n",
    "API_KEY = os.getenv(\"CLARIN_API_KEY\")\n",
    "\n",
    "MODELS_ENDPOINT = \"https://services.clarin-pl.eu/api/v1/oapi/models\"\n",
    "COMPLETIONS_ENDPOINT = \"https://services.clarin-pl.eu/api/v1/oapi/chat/completions\"\n",
    "\n",
    "def get_models():\n",
    "    headers = {\n",
    "        'Authorization': f'Bearer {API_KEY}',  \n",
    "        'Content-Type': 'application/json'\n",
    "    }\n",
    "    response = requests.get(MODELS_ENDPOINT, headers=headers)  \n",
    "    if response.status_code == 200:\n",
    "        return response.json()  \n",
    "\n",
    "models = get_models()\n",
    "print(models)\n"
   ]
  },
  {
   "cell_type": "code",
   "execution_count": 17,
   "metadata": {},
   "outputs": [],
   "source": [
    "device = torch.device('cuda' if torch.cuda.is_available() else 'cpu')\n",
    "model_name = 'cross-encoder/ms-marco-MiniLM-L-6-v2'"
   ]
  },
  {
   "cell_type": "code",
   "execution_count": 18,
   "metadata": {},
   "outputs": [],
   "source": [
    "class Reranker():\n",
    "    \n",
    "    def __init__(self, model_name: str, max_length: int = 512) -> None:\n",
    "        self.model_name = model_name\n",
    "        self.max_length = max_length\n",
    "        self.device = torch.device('cuda' if torch.cuda.is_available() else 'cpu')\n",
    "        \n",
    "        self.model_rank = CrossEncoder(self.model_name, \n",
    "                                       max_length = self.max_length, \n",
    "                                       device = self.device)\n",
    "        \n",
    "        self.tokenizer = BertTokenizer.from_pretrained(self.model_name, \n",
    "                                                       max_length = self.max_length)\n",
    "    \n",
    "    \n",
    "    def rank_answers(self, query: str, answers: list[str], top_k: int = 5) -> list[dict[Literal['corpus_id', 'score', 'text'], int | float | str]]:\n",
    "        self.query = query\n",
    "        self.top_k = top_k\n",
    "        self.answers_ranking = self.model_rank.rank(query, \n",
    "                                                    answers,\n",
    "                                                    top_k = 300,\n",
    "                                                    return_documents = True,\n",
    "                                                    show_progress_bar = True)\n",
    "        \n",
    "        print(f'Zapytanie: {self.query}')\n",
    "        for k in range(self.top_k):\n",
    "            print(f'Odpowiedź {k + 1}: {self.answers_ranking[k][\"text\"]}')\n",
    "    \n",
    "    \n",
    "    def find_embeddings(self) -> list[dict[torch.Tensor, str]]:\n",
    "        question = self.query\n",
    "        answers = [dct['text'] for dct in self.answers_ranking]\n",
    "        texts = [question, *answers]\n",
    "        labels = ['Zapytanie', *[f'Top {self.top_k} odpowiedzi'] * self.top_k, *['Pozostałe odpowiedzi'] * (len(answers) - self.top_k)]\n",
    "        tensors = []\n",
    "        \n",
    "        for text in texts:\n",
    "            inputs = self.tokenizer(text, \n",
    "                                return_tensors = 'pt', \n",
    "                                truncation = True, \n",
    "                                padding = True, \n",
    "                                max_length = self.max_length).to(device)\n",
    "            \n",
    "            with torch.no_grad():\n",
    "                outputs = self.model_rank.model.bert(**inputs)\n",
    "                \n",
    "            embedding = outputs.last_hidden_state[:, 0, :].squeeze()   # EMBEDDING TOKENU [CLS]\n",
    "            # embedding = outputs.last_hidden_state.mean(dim = 1).squeeze()   # ŚREDNIA Z EMBEDDINGÓW DLA WSZYSTKICH TOKENÓW\n",
    "            tensors.append(embedding)\n",
    "        \n",
    "        emb_tensor = torch.stack(tensors)\n",
    "        \n",
    "        self.emb_tensor = emb_tensor\n",
    "        self.texts = texts\n",
    "        self.labels = labels\n",
    "    \n",
    "    \n",
    "    def plot_embeddings(self) -> None:\n",
    "            \n",
    "        embs, texts, labels  = self.emb_tensor, self.texts, self.labels\n",
    "        pca = TSNE(n_components = 2, perplexity = 10)\n",
    "        pca_embs = pca.fit_transform(embs.cpu().numpy())\n",
    "        \n",
    "        df = pd.DataFrame({'x': pca_embs[:, 0], 'y': pca_embs[:, 1], 'texts': texts, 'label': labels})\n",
    "        df['texts'] = df['texts'].apply(lambda text: text[:100] + '...' if len(text) > 100 else text)\n",
    "        \n",
    "        \n",
    "        fig = px.scatter(df, x = 'x', y = 'y', color = 'label',\n",
    "            title = 'Wizualizacja osadzeń dla modelu re-ranker',\n",
    "            labels = {'label': 'Legenda'},\n",
    "            hover_name = df['texts']\n",
    "        )\n",
    "        fig.update_traces(marker = dict(size = 10), selector = dict(mode = 'markers'))\n",
    "        fig.show()"
   ]
  },
  {
   "cell_type": "code",
   "execution_count": 6,
   "metadata": {},
   "outputs": [
    {
     "name": "stderr",
     "output_type": "stream",
     "text": [
      "Generating train split: 100%|██████████| 25000/25000 [00:00<00:00, 211387.70 examples/s]\n",
      "Generating test split: 100%|██████████| 25000/25000 [00:00<00:00, 217359.74 examples/s]\n",
      "Generating unsupervised split: 100%|██████████| 50000/50000 [00:00<00:00, 204082.32 examples/s]\n"
     ]
    }
   ],
   "source": [
    "from datasets import load_dataset\n",
    "\n",
    "dataset = load_dataset(\"stanfordnlp/imdb\")"
   ]
  },
  {
   "cell_type": "code",
   "execution_count": 7,
   "metadata": {},
   "outputs": [],
   "source": [
    "def build_faiss_index(dataset, model):\n",
    "    reviews = dataset[\"train\"][\"text\"] \n",
    "    embeddings = model.encode(reviews, convert_to_numpy=True).astype(\"float32\")\n",
    "\n",
    "    index = faiss.IndexFlatL2(embeddings.shape[1])  \n",
    "    index.add(embeddings)  \n",
    "    return index, reviews\n"
   ]
  },
  {
   "cell_type": "code",
   "execution_count": null,
   "metadata": {},
   "outputs": [],
   "source": [
    "def search_faiss(query, k=5):\n",
    "    query_embedding = model.encode([query], convert_to_numpy=True).astype('float32')\n",
    "    distances, indices = index.search(query_embedding, k)\n",
    "\n",
    "    result_reviews = [reviews[idx] for idx in indices[0]]\n",
    "    return distances[0], result_reviews\n"
   ]
  },
  {
   "cell_type": "code",
   "execution_count": null,
   "metadata": {},
   "outputs": [],
   "source": [
    "def clarin_chat_completion(model_id, prompt, max_tokens=200):\n",
    "    url = f\"{CLARIN_BASE_URL}/chat/completions\"\n",
    "    headers = {\"Authorization\": f\"Bearer {API_KEY}\", \"Content-Type\": \"application/json\"}\n",
    "    data = {\n",
    "        \"model\": model_id,\n",
    "        \"messages\": [{\"role\": \"user\", \"content\": prompt}],\n",
    "        \"max_tokens\": max_tokens\n",
    "    }\n",
    "    response = requests.post(url, json=data, headers=headers)\n",
    "    if response.status_code == 200:\n",
    "        return response.json()[\"choices\"][0][\"message\"][\"content\"]\n",
    "    else:\n",
    "        raise Exception(f\"CLARIN API Error: {response.status_code} - {response.text}\")"
   ]
  },
  {
   "cell_type": "code",
   "execution_count": 23,
   "metadata": {},
   "outputs": [],
   "source": [
    "def handle_query_with_rag(user_query, model_id=\"bielik\", k=5):\n",
    "    distances, result_reviews = search_faiss(user_query, k)\n",
    "\n",
    "    context = \"\\n\\n\".join([f\"Recenzja {i+1}: {review}\" for i, review in enumerate(result_reviews)])\n",
    "    if not context.strip():\n",
    "        context = \"Brak dodatkowego kontekstu.\"\n",
    "\n",
    "    prompt = f\"Zapytanie: {user_query}\\n\\nKontekst:\\n{context}\\n\\nOdpowiedz w kontekście powyższych informacji.\"\n",
    "    response = clarin_chat_completion(model_id, prompt)\n",
    "    return response\n"
   ]
  },
  {
   "cell_type": "code",
   "execution_count": 13,
   "metadata": {},
   "outputs": [],
   "source": [
    "model = SentenceTransformer(\"all-MiniLM-L6-v2\")\n",
    "index, reviews = build_faiss_index(dataset, model)"
   ]
  },
  {
   "cell_type": "code",
   "execution_count": 15,
   "metadata": {},
   "outputs": [],
   "source": [
    "faiss.write_index(index, 'index/imdb_faiss.bin')"
   ]
  },
  {
   "cell_type": "code",
   "execution_count": 19,
   "metadata": {},
   "outputs": [
    {
     "name": "stdout",
     "output_type": "stream",
     "text": [
      "Odpowiedź: Wybór najlepszego filmu do oglądania z przyjaciółmi zależy od kilku czynników, takich jak gust grupy, okazja oraz tematyka filmu. Ze swojej perspektywy mogę polecić kilka tytułów, które nadają się znakomicie na seans w towarzystwie znajomych.\n",
      "\n",
      "Jeśli szukasz lekkiego i pełnego humoru filmu, świetną opcją będą komedie romantyczne, takie jak \"Notting Hill\" czy \"Dziewczyna z sąsiedztwa\". Oba te filmy nie tylko zapewnią sporo śmiechu, ale także stworzą miłą atmosferę do rozmowy po projekcji.\n",
      "\n",
      "Dla fanów animacji polecam \"Toy Story\", serię filmów o Toy Story jest niezwykle uroczym i uniwersalnym wyborem, który spodoba się widzom w każdym wieku. Filmy te mają znakomitą fabułę oraz piękne przesłanie, a ich różnorodność sprawi, że nikt się nie znudzi.\n",
      "\n",
      "Miłośnicy kina akcji mogą cieszyć się przygodami w cyklu \"Mad Max\" - te niezwykle dynamiczne i pełne spektakularnych efektów specjalnych produkcje zapewnią mocne wrażenia i dodadzą energii do spotkania ze znajomymi.\n",
      "\n",
      "A jeśli chcesz wprowadzić intelektualny wymiar do waszej sesji filmowej, spróbujcie poruszyć ważkie kwestie w filmach takich jak \"Siedem dusz\" czy \"Prestige\". Obydwa te filmy oferują głębię psychologiczną i moralne dylematy, co może stanowić doskonały punkt wyjścia do interesujących d\n"
     ]
    }
   ],
   "source": [
    "user_query = \"What is the best movie to watch with friends?\"\n",
    "response = handle_query_with_rag(user_query)\n",
    "print(\"Odpowiedź:\", response)"
   ]
  },
  {
   "cell_type": "code",
   "execution_count": 24,
   "metadata": {},
   "outputs": [
    {
     "data": {
      "text/plain": [
       "'W oparciu o podane informacje, nie możemy bezpośrednio określić dokładnej opinii ludzi o horrorach, ponieważ zamiast treści recenzji mamy tylko numery referencyjne. Jednakże na ich podstawie możemy sformułować następujące domysły:\\n\\n1. Skoro są to recenzje filmów grozy, prawdopodobnie ludzie mają różnorodne opinie - od negatywnych po entuzjastyczne. \\n\\n2. Numery recenzji sugerują, że opinie byłyby rozłożone na kilka tysięcy widzów (np. dla recenzji 23708 - prawie 24 tysiące). W tak dużej grupie spodziewalibyśmy się również pogłębionej różnorodności preferencji i emocji wobec horrorów.\\n\\n3. Możliwe, że niektóre z tych recenzji dotyczą klasyków gatunku jak \"Psychoza\" czy \"Piła\", inne mogłyby omawiać najnowsze produkcje lub niszowe kino grozy.\\n\\nAby uzyskać szczegółową opinię publiczną na temat horrorów, potrzebne byłyby pełne treści tych recenzji oraz dodatkowe dane ze sprzedaży biletów, liczby wyświetleń czy reakcji w mediach społecznościowych. Jednocześnie pamiętajmy, że opinie osobiste ulegają zmianom i są konstruowane z różnych doświadczeń, uprzedzeń oraz osobistych doświadczeń widzów.'"
      ]
     },
     "execution_count": 24,
     "metadata": {},
     "output_type": "execute_result"
    }
   ],
   "source": [
    "handle_query_with_rag(\"What do people think about horror movies?\")"
   ]
  },
  {
   "cell_type": "code",
   "execution_count": null,
   "metadata": {},
   "outputs": [],
   "source": []
  },
  {
   "cell_type": "markdown",
   "metadata": {},
   "source": [
    "______________"
   ]
  },
  {
   "cell_type": "code",
   "execution_count": null,
   "metadata": {},
   "outputs": [
    {
     "name": "stdout",
     "output_type": "stream",
     "text": [
      "Indeks został zapisany na dysk.\n"
     ]
    }
   ],
   "source": [
    "import requests\n",
    "from dotenv import load_dotenv\n",
    "import os\n",
    "import faiss\n",
    "import torch\n",
    "from sentence_transformers import SentenceTransformer, CrossEncoder\n",
    "from transformers import pipeline\n",
    "from datasets import load_dataset\n",
    "\n",
    "load_dotenv()\n",
    "API_KEY = os.getenv(\"CLARIN_API_KEY\")\n",
    "\n",
    "\n",
    "CLARIN_BASE_URL = \"https://services.clarin-pl.eu/api/v1/oapi\"\n",
    "\n",
    "\n",
    "def get_models():\n",
    "    headers = {'Authorization': f'Bearer {API_KEY}', 'Content-Type': 'application/json'}\n",
    "    response = requests.get(f\"{CLARIN_BASE_URL}/models\", headers=headers)\n",
    "    if response.status_code == 200:\n",
    "        return response.json()\n",
    "    else:\n",
    "        raise Exception(f\"Failed to fetch models: {response.status_code} - {response.text}\")\n",
    "\n",
    "dataset = load_dataset(\"stanfordnlp/imdb\")\n",
    "\n",
    "def build_faiss_index(dataset, model):\n",
    "    reviews = dataset[\"train\"][\"text\"]\n",
    "    embeddings = model.encode(reviews, convert_to_numpy=True).astype(\"float32\")\n",
    "    \n",
    "    d = embeddings.shape[1]  \n",
    "    quantizer = faiss.IndexFlatL2(d)  \n",
    "\n",
    "    nlist = 100 \n",
    "    m = 8  \n",
    "    nbits = 8  \n",
    "    index = faiss.IndexIVFPQ(quantizer, d, nlist, m, nbits)  \n",
    "\n",
    "    index.train(embeddings)  \n",
    "    index.add(embeddings)  \n",
    "\n",
    "    faiss.write_index(index, \"index/imdb_faiss_ivfpq.bin\")\n",
    "    print(\"Indeks został zapisany na dysk.\")\n",
    "\n",
    "    return index, reviews\n",
    "\n",
    "\n",
    "def search_faiss(index, query, model, reviews, k=5):\n",
    "    query_embedding = model.encode([query], convert_to_numpy=True).astype(\"float32\")\n",
    "    distances, indices = index.search(query_embedding, k)\n",
    "    result_reviews = [reviews[idx] for idx in indices[0]]\n",
    "    return distances[0], result_reviews\n",
    "\n",
    "def rerank_with_cross_encoder(query, result_reviews, reranker, k=5):\n",
    "\n",
    "    pairs = [[query, review] for review in result_reviews]\n",
    "\n",
    "    rerank_scores = reranker.predict(pairs)\n",
    "\n",
    "    ranked_reviews = [result_reviews[i] for i in sorted(range(len(rerank_scores)), key=lambda i: rerank_scores[i], reverse=True)]\n",
    "    return ranked_reviews[:k]\n",
    "\n",
    "def clarin_chat_completion(model_id, prompt, max_tokens=300):\n",
    "    url = f\"{CLARIN_BASE_URL}/chat/completions\"\n",
    "    headers = {\"Authorization\": f\"Bearer {API_KEY}\", \"Content-Type\": \"application/json\"}\n",
    "    data = {\n",
    "        \"model\": model_id,\n",
    "        \"messages\": [{\"role\": \"user\", \"content\": prompt}],\n",
    "        \"max_tokens\": max_tokens\n",
    "    }\n",
    "    response = requests.post(url, json=data, headers=headers)\n",
    "    if response.status_code == 200:\n",
    "        return response.json()[\"choices\"][0][\"message\"][\"content\"]\n",
    "    else:\n",
    "        raise Exception(f\"CLARIN API Error: {response.status_code} - {response.text}\")\n",
    "\n",
    "model = SentenceTransformer(\"all-MiniLM-L6-v2\")\n",
    "\n",
    "index, reviews = build_faiss_index(dataset, model)\n"
   ]
  },
  {
   "cell_type": "code",
   "execution_count": null,
   "metadata": {},
   "outputs": [],
   "source": [
    "def handle_query_with_rag(user_query,reranker, model_id=\"mixtral-8x22B\", k=8):\n",
    "    distances, result_reviews = search_faiss(index, user_query, model, reviews, 50)\n",
    "\n",
    "    reranked_reviews = rerank_with_cross_encoder(user_query, result_reviews, reranker, k)\n",
    "\n",
    "    context = \"\\n\\n\".join([f\"Recenzja {i+1}: {review}\" for i, review in enumerate(reranked_reviews)])\n",
    "    if not context.strip():\n",
    "        context = \"Brak dodatkowego kontekstu.\"\n",
    "\n",
    "    prompt = f\"Zapytanie: {user_query}\\n\\nKontekst:\\n{context}\\n\\nOdpowiedz zwięźle w kontekście powyższych informacji.\"\n",
    "    response = clarin_chat_completion(model_id, prompt)\n",
    "    return response, context\n",
    "\n",
    "def evaluate_response_with_llama(question, context, answer, model_id=\"bielik\"):\n",
    "\n",
    "    prompt = f\"Na podstawie poniższego kontekstu i pytania, oceń, jak trafna i spójna jest odpowiedź modelu '{answer}' w odniesieniu do pytania '{question}':\\n\\nKontekst: {context}\\n\\nCzy odpowiedź jest trafna i zgodna z kontekstem? Oceń odpowiedź na skali od 1 do 10, gdzie 1 to 'bardzo nietrafna', a 10 to 'bardzo trafna'. Dodaj krótki komentarz co poprawić.\"\n",
    "\n",
    "    evaluation = clarin_chat_completion(model_id, prompt)\n",
    "    return evaluation"
   ]
  },
  {
   "cell_type": "code",
   "execution_count": null,
   "metadata": {},
   "outputs": [
    {
     "name": "stderr",
     "output_type": "stream",
     "text": [
      "huggingface/tokenizers: The current process just got forked, after parallelism has already been used. Disabling parallelism to avoid deadlocks...\n",
      "To disable this warning, you can either:\n",
      "\t- Avoid using `tokenizers` before the fork if possible\n",
      "\t- Explicitly set the environment variable TOKENIZERS_PARALLELISM=(true | false)\n"
     ]
    },
    {
     "name": "stdout",
     "output_type": "stream",
     "text": [
      "Użyty kontekst:\n",
      " Recenzja 1: This is hands down the worst movie of all time. A combination of Whoopie Goldberg (the worst actress/person in history) and a talking dinosaur ala Jar-Jar-Binks add up to a painfully bad movie. That was an understatement. This movie is unwatchable. For the love of God, do not watch this movie.\n",
      "\n",
      "Recenzja 2: The thing about calling \"House of the Dead\" the worst movie of all time is that it's really not. There are worse movies out there. I watch alot of Hong Kong ninja movies that are basically the result of an unfinished Japanese police drama having footage of ninjas inserted at the end to create something that could technically be called \"a movie.\"<br /><br />House of the Dead is however one of the worst films I've ever seen at the theatres. Walking out half way through, I actually felt I was somewhat dumber for having set through 45 minutes of this piece of garbage.\n",
      "\n",
      "Recenzja 3: This is surely one of the worst films ever made. Each scene is painful. You will groan at the flimsy attempts at humor, the awkward camera work, the sexism and racism, the ridiculous story line, the wooden acting. Poor Joan Bennett; she is the only one in the movie who is not an embarrassment. In all, dreadful.\n",
      "\n",
      "Recenzja 4: Worst movie, (with the best reviews given it) I've ever seen. Over the top dialog, acting, and direction. more slasher flick than thriller.With all the great reviews this movie got I'm appalled that it turned out so silly. shame on you martin scorsese\n",
      "\n",
      "Recenzja 5: I've seen about 820 movies released between 1931-39, and THE INFORMER is the worst major release I've seen from that time span. Awful, despicable, unpleasant, unhappy, unredeemable saga of a complete Loser. Watch a 1934 B Western instead.\n",
      "\n",
      "Recenzja 6: Recipe for one of the worst movies of all time: a she-male villain who looks like it escaped from the WWF, has terrible aim with a gun that has inconsistent effects (the first guy she shoots catches on fire but when she shoots anyone else they just disappear) and takes time out to pet a deer. Then you got the unlikable characters, 30 year old college students, a lame attempt at a surprise ending and lots, lots more. Avoid at all costs.\n",
      "\n",
      "Recenzja 7: The worst movie in the history of cinema. I don't know if it was trying to be funny or sad, poignant or droll, but the end result was unwatchable. Everyone from Key Grip, to Robin Williams, and back down to Best Boy should be ashamed to be a part of this film!\n",
      "\n",
      "Recenzja 8: I caught this movie on FX last night, and as I was sitting there watching it, it occurred to me that it could quite possibly be the worst movie ever. Bad acting, bad cinematography, bad sound, totally unbelievable fight sequences, stupid characters. All these made it up to be the most laughably bad movie I've ever seen. It was so bad, I was enthralled by it's sheer lack of anything semi-competent that I had to keep watching... and they made a sequel!\n",
      "Odpowiedź:  Based on the given reviews, here are some of the movies considered as the worst:\n",
      "1. The Star of Jaipur - criticized for poor humor, awkward camera work, sexism, racism, and a ridiculous storyline.\n",
      "2. House of the Dead - described as one of the worst films seen in theatres, with poor quality and a lack of intelligence.\n",
      "3. An unnamed movie with a she-male villain - criticized for its unlikable characters, unrealistic effects, and a lame attempt at a surprise ending.\n",
      "4. The Informer (1935) - considered the worst major release from 1931-39, with an awful, despicable, and unredeemable saga of a loser.\n",
      "5. Another unnamed movie - criticized for bad acting, cinematography, sound, unbelievable fight sequences, and stupid characters.\n",
      "\n",
      "The above reviews are subjective and based on individual opinions, but they provide insight into some of the movies that have been poorly received.\n",
      "Ocena: Ocena: 8/10\n",
      "\n",
      "Komentarz: Trafność: Odpowiedź jest bardzo pomocna i zawiera kilka powtarzających się tytułów, które zostały wielokrotnie skrytykowane przez recenzentów, takich jak \"The Informer\" oraz brak tytułów przy wspomnianych punktach 2, 4 i 5. Spójność: Jest spójna z podanymi recenzjami, ponieważ opisuje filmy, które wywołują negatywne opinie dotyczące aktorstwa, reżyserii, fabuły itp.\n",
      "\n",
      "Poprawa:\n",
      "Dla lepszej przejrzystości i rozpoznawalności, warto byłoby:\n",
      "1) Uzupełnić/sprecyzować tytuły wspomnianych filmów.\n",
      "2) Podsumować główne krytykowane aspekty każdego filmu z osobna.\n",
      "3) Uporządkować listę chronologicznie lub według częstotliwości występowania w recenzjach.\n"
     ]
    }
   ],
   "source": [
    "reranker = CrossEncoder(\"cross-encoder/ms-marco-MiniLM-L-6-v2\")\n",
    "\n",
    "user_query = \"What are the worst movies?\"\n",
    "\n",
    "response, context = handle_query_with_rag(user_query, reranker)\n",
    "\n",
    "print(\"Użyty kontekst:\\n\", context)\n",
    "\n",
    "evaluation = evaluate_response_with_llama(user_query, context, response)\n",
    "\n",
    "print(\"Odpowiedź:\", response)\n",
    "print(\"Ocena:\", evaluation)"
   ]
  },
  {
   "cell_type": "markdown",
   "metadata": {},
   "source": [
    "___________________"
   ]
  },
  {
   "cell_type": "code",
   "execution_count": 1,
   "metadata": {},
   "outputs": [],
   "source": [
    "import faiss\n",
    "import numpy as np\n",
    "import torch\n",
    "from sentence_transformers import SentenceTransformer, CrossEncoder\n",
    "from datasets import load_dataset\n",
    "import requests\n",
    "from dotenv import load_dotenv\n",
    "import os\n",
    "\n",
    "# Wczytanie danych\n",
    "dataset = load_dataset(\"stanfordnlp/imdb\")\n",
    "reviews = list(set(dataset['train'][\"text\"]))\n",
    "\n",
    "model = SentenceTransformer('multi-qa-mpnet-base-dot-v1')\n",
    "device = torch.device(\"cuda\")\n",
    "model.to(device)\n",
    "\n",
    "# Tworzenie osadzeń dla recenzji\n",
    "#reviews_embeddings = model.encode(reviews, convert_to_tensor=True)\n",
    "\n",
    "reviews_embeddings = np.load(\"reviews_embeddings.npy\")"
   ]
  },
  {
   "cell_type": "code",
   "execution_count": 2,
   "metadata": {},
   "outputs": [
    {
     "data": {
      "text/plain": [
       "24904"
      ]
     },
     "execution_count": 2,
     "metadata": {},
     "output_type": "execute_result"
    }
   ],
   "source": [
    "len(reviews_embeddings)"
   ]
  },
  {
   "cell_type": "code",
   "execution_count": null,
   "metadata": {},
   "outputs": [
    {
     "name": "stderr",
     "output_type": "stream",
     "text": [
      "Adding embeddings:  20%|██        | 5/25 [23:58<2:03:48, 371.42s/it]"
     ]
    }
   ],
   "source": [
    "# from tqdm import tqdm\n",
    "# import numpy as np\n",
    "# import faiss\n",
    "\n",
    "# # Example: Split the embeddings into batches and add them with tqdm for a progress bar\n",
    "# reviews_embeddings = np.load(\"reviews_embeddings.npy\")\n",
    "# batch_size = 1000  # Set the batch size\n",
    "# embeddings_np = reviews_embeddings\n",
    "\n",
    "# # Initialize the FAISS index (assuming you already have your index setup)\n",
    "# res = faiss.StandardGpuResources()\n",
    "# d = embeddings_np.shape[1]\n",
    "# index = faiss.IndexHNSWFlat(d, 32)\n",
    "# index = faiss.index_cpu_to_gpu(res, 0, index)\n",
    "\n",
    "# # Use tqdm to show progress while adding in batches\n",
    "# for i in tqdm(range(0, len(embeddings_np), batch_size), desc=\"Adding embeddings\"):\n",
    "#     batch = embeddings_np[i:i + batch_size]\n",
    "#     index.add(np.ascontiguousarray(batch))\n"
   ]
  },
  {
   "cell_type": "code",
   "execution_count": 2,
   "metadata": {},
   "outputs": [],
   "source": [
    "# Zapisz indeks do pliku\n",
    "index = faiss.read_index(r\"C:\\Users\\kjani\\nlp\\NLP\\task_3\\index_faiss.index\")"
   ]
  },
  {
   "cell_type": "code",
   "execution_count": null,
   "metadata": {},
   "outputs": [],
   "source": [
    "def search_faiss(index, query, model, reviews, k=5):\n",
    "    query_embedding = model.encode(query, convert_to_tensor=True).detach().cpu().numpy().reshape(1, -1)\n",
    "    distances, indices = index.search(query_embedding, k)\n",
    "    return distances[0], [reviews[i] for i in indices[0]]\n",
    "\n",
    "def rerank_with_cross_encoder(question, retrieved_reviews, reranker, k=5, return_indexes=False):\n",
    "    results = reranker.rank(question, retrieved_reviews, top_k = k, return_documents = not return_indexes, show_progress_bar = True)\n",
    "\n",
    "    if return_indexes: return [result['corpus_id'] for result in results]\n",
    "\n",
    "    return [result['text'] for result in results]\n",
    "\n",
    "model_rank = CrossEncoder('cross-encoder/ms-marco-MiniLM-L-6-v2', max_length=512, device='cuda')\n",
    "\n",
    "load_dotenv()\n",
    "API_KEY = os.getenv(\"CLARIN_API_KEY\")\n",
    "COMPLETIONS_ENDPOINT = \"https://services.clarin-pl.eu/api/v1/oapi/chat/completions\"\n",
    "\n",
    "def clarin_chat_completion(model_id, prompt, max_tokens=350):\n",
    "    headers = {\"Authorization\": f\"Bearer {API_KEY}\", \"Content-Type\": \"application/json\"}\n",
    "    data = {\n",
    "        \"model\": model_id,\n",
    "        \"messages\": [{\"role\": \"user\", \"content\": prompt}],\n",
    "        \"max_tokens\": max_tokens\n",
    "    }\n",
    "    response = requests.post(COMPLETIONS_ENDPOINT, json=data, headers=headers)\n",
    "    if response.status_code == 200:\n",
    "        return response.json()[\"choices\"][0][\"message\"][\"content\"]\n",
    "    else:\n",
    "        raise Exception(f\"CLARIN API Error: {response.status_code} - {response.text}\")\n",
    "\n",
    "def handle_query_with_rag(user_query, reranker, model_id=\"mixtral-8x22B\", k=8):\n",
    "    distances, result_reviews = search_faiss(index, user_query, model, reviews, 200)\n",
    "    reranked_reviews = rerank_with_cross_encoder(user_query, result_reviews, reranker, k)\n",
    "    context = \"\\n\\n\".join([f\"Recenzja {i+1}: {review}\" for i, review in enumerate(reranked_reviews)])\n",
    "    if not context.strip():\n",
    "        context = \"Brak dodatkowego kontekstu.\"\n",
    "    prompt = f\"\"\"\n",
    "Kontekst:\n",
    "{context}\n",
    "\n",
    "ZAPYTANIE:\n",
    "{user_query}\n",
    "\n",
    "INSTRUKCJE:\n",
    "Odpowiedz na zapytanie użytkownika, korzystając tylko z kontekstu.\n",
    "\n",
    "Zachowaj odpowiedź zwięzłą i trafną w kontekście pytania. Używaj argumentów opartych na faktach z kontekstu, unikaj ogólnych spekulacji. Jeśli to możliwe, odwołaj się do kilku fragmentów dokumentu.\n",
    "\n",
    "Nie odbiegaj od faktów zawartych w kotekście.\n",
    "\n",
    "Odpowiedź napisz w języku polskim.\n",
    "\"\"\"\n",
    "    print(context)\n",
    "    response = clarin_chat_completion(model_id, prompt)\n",
    "    return response, context\n",
    "\n",
    "def evaluate_response_with_llama(question, context, answer, model_id=\"bielik\"):\n",
    "    prompt = f\"Na podstawie poniższego kontekstu i pytania, oceń, jak trafna i spójna jest odpowiedź modelu '{answer}' w odniesieniu do pytania '{question}':\\n\\nKontekst: {context}\\n\\nCzy odpowiedź jest trafna i zgodna z kontekstem? Oceń odpowiedź na skali od 1 do 10, gdzie 1 to 'bardzo nietrafna', a 10 to 'bardzo trafna'. Dodaj krótki komentarz, co model mógłby poprawić.\"\n",
    "    evaluation = clarin_chat_completion(model_id, prompt)\n",
    "    return evaluation\n"
   ]
  },
  {
   "cell_type": "code",
   "execution_count": 11,
   "metadata": {},
   "outputs": [
    {
     "data": {
      "application/vnd.jupyter.widget-view+json": {
       "model_id": "3faf1a2ef0b44298b4752a7139cbbb48",
       "version_major": 2,
       "version_minor": 0
      },
      "text/plain": [
       "Batches:   0%|          | 0/4 [00:00<?, ?it/s]"
      ]
     },
     "metadata": {},
     "output_type": "display_data"
    },
    {
     "name": "stdout",
     "output_type": "stream",
     "text": [
      "Recenzja 1: This little-appreciated movie is one of my favorites. I can watch it over and over. Dreyfus and Braga are masterful, but Raul Julia steals the show! A tongue-in-cheek, menacingly humorous Gomez Addams, with just the right tone for this irreverent spoof of this oft-told story.<br /><br />Generally untrumpeted and unappreciated, Moon Over Parador allows you to check out of reality and join the fun going on up on the screen. Two thumbs up!\n",
      "\n",
      "Recenzja 2: ...however I am not one of them. Caro Diario at least was watchable for two thirds of the time, but the boring and self-centred third section of that movie gave us a taste of what was to come in this extraordinarily self-indulgent mess. Moretti says he feels a need to make this movie, but doesn't want to, whereas the viewer feels that he should stick with it, but really doesn't want to either. A film about Italian politics and elections could be fascinating, but this is not that film. At one point, Moretti and his friends are standing outside the Communist Party headquarters, discussing the interviews they are preparing to conduct with Party leaders inside, but it's characteristic of this film that we never get to see anything of them. Interposed with Moretti's political ravings are the events leading up to the birth of his son, and subsequent home movie shots of him with the baby and later the infant Pietro (the film drags us through several years and more than one election period). We keep expecting to see some definitive sequence or cogent argument, but they never come. I for one doubt that I could have the patience to ever sit through a Nanni Moretti movie again. He succeeds in making an hour and twenty minutes seem like an eternity.\n",
      "\n",
      "Recenzja 3: I'm easily entertained. I enjoyed \"Hot Shots\" and \"The Naked Gun\" and their many sequels, even when most people found them unbearable. I've even managed to enjoy most Pauly Shore movies. There is only one movie that I've seen that I can honestly say was bad...and this was it. It's been a while since I've seen it, but I do remember sitting in the theater thinking, \"This is a dumb movie. Why did I see this?\" It's honestly the only movie that I cannot recommend.\n",
      "\n",
      "Recenzja 4: Made in 1931, this foreign film should be seen and enjoyed more often.<br /><br />We open on a quiet little French village, scanning the roofs of the sleeping citizens. Then we hear something that sounds like a party. Upon investigating the uproar, two neighboring men are told the story of two men, supposedly friends, who picked two numbers for the lottery.<br /><br />Our star of the picture has his number and his friend his. When he asks his friend, would he share half of the dough, should his ticket be the winning number, his friend promptly says no. In fact, H.E. double hockey sticks no! is the way he acts about it.<br /><br />So when our man discovers he has the winning ticket and that it has been lost, through no fault of his own, he is frantic. Everyone is out for themselves, looking for this ticket, in something like a precursor to \"The Great Race.\" Even though this is all a flashback, I was in knots the whole time and got so upset over every little thing in this all-for-me show-me-the-money cash-in-the-bank film. Watch Le Million today!\n",
      "\n",
      "Recenzja 5: I never actually thought that a film could be so atrocious, but alas I was wrong. Terrible acting, terrible plot, terrible effects. The Crocodile was awful and as for the stupid sex/killing scene all in one, that was a bad move from the word go. It was truly shocking and that is not a compliment! How can someone make this film, watch it back and then actually say \"Yeah, thats a good movie. People will watch that\" If you haven't seen it I beg you DON'T BOTHER :-(\n",
      "\n",
      "Recenzja 6: First some background; I am English and have lived in London all my life. I have been to many games at 'The Den' and most other London club grounds. I am familiar with the type of person who gets into hooliganism and I know just how they act and how they speak. Have to say this is a bad, bad movie. I can tell you that Green Street is one of the most unrealistic movies I have ever seen. I spent most of the movie cringing with embarrassment. I felt I should write a mini review because I felt I needed to point out a few things.<br /><br />a) People just don't talk like that in London in real life; the filmmakers took the whole slang thing too far and made it sound stupid. Unfortunately hooligan types do exist, but those you see in Green Street are more like parodies. b) The actor who plays Pete Dunham (Charlie Hunnam) unfortunately sounded about as 'English' or 'Cockney' as Osama Bin Laden. He's from up north in Newcastle and I'm just amazed any of the other actors could keep straight face acting alongside him - how are we supposed to take him seriously. Why they didn't just get someone from East London to play that part is beyond me. I could have done 'a bang up job' myself, hehe. c) Mr Frodo. I mean how can I be expected to take seriously Elijah Wood kicking the ass of people twice his size and who are genuinely nasty hooligans. He'd be dead. Simple as that. Honestly (as a Brit) it was hard to watch this film. I'm pretty sure this film will bomb here in the UK. It may do a little better in the states because the Americans just wont know (or care) how inaccurate it is. <br /><br />Please my American and foreign friends, don't believe a word of this nonsense. Yes these firms do exist but it's all extremely underground and hush hush, and on a vastly smaller scale. The movie only gets a 2 from me because they actually filmed some of it in London. Usually they try to film these things in Cardiff (Wales) or something and expect us all not to notice.\n",
      "\n",
      "Recenzja 7: Back in the days before the Toxic Avenger, the low-camp kings at Troma Films tried to take the high (OK, somewhat-less-low) road of producing straight slasher pics. I'd like to think that viewing the results here is what convinced them to give up all pretension and go for self-conscious parody.<br /><br />Splatter University is another film for the masochists in the audience. As it meanders about through two separate casts and innumerable pointless subplots, it actually becomes painful to watch. Let's see if I can summarize.<br /><br />After learning that a dangerous psychopath has escaped from a local hospital, the action moves to a Catholic university (I don't recall the name, but in honor of the title, let's call it St. Splatter). The students are listless and sullen, and argue pettily with each other, slackers ahead of their time. Meanwhile, the new professor, Julie Parker, proves utterly incompetent at her job. The kids deal with relationships, infidelity, unwanted pregnancies, lecherous priests, and how to avoid doing any work in class; Julie deals with a creepy boyfriend, the inflexible administration at St. Splatter, counseling unwed mothers, and the blank, expressionless looks of her students. None of it means a darn thing or gets resolved in any meaningful way. Oh, and every once in a while, a POV shot comes along and stabs one of the girls to death, but don't hold your breath waiting for it. There's a Red Herring Killer, and then a sadly anticlimactic confrontation with the Real Killer, then it's back to the asylum and roll credits.<br /><br />The slow pace and numerous inane subplots seem almost calculated to produce a mounting sense of frustration in the viewer, which is helped along by choppy editing, coffee-can sound quality, and dialog that just doesn't make any sense. And the most agonizing thing about this movie is the killer's fixation on women - the men in this movie are just so deserving. I'd've paid good money to see someone off the jerk with the pregnant girlfriend, or the lunkhead Lothario who was fooling around with his girlfriend's roommate, or any of the creepy priests. There ain't no justice.\n",
      "\n",
      "Recenzja 8: Totally ridiculous. If you know anything about poker, you will find it absolutely appalling but also entertaining because it is so clueless. The nerd who made this movie is obviously very religious and knows slightly about the game of poker, but I doubt he's ever played above 3-6. (I think he also knows nothing of golf.) Where to start. I've seen better productions in the Intro to Film class I took freshmen year of film school. The actors to watch in this movie are Queen Momma, Scotty Nguyen, and the loser who can never win at poker. Everyone else is as wooden as they come, like bad porn actors.<br /><br />*Spoiler* The man the movie starts with in the opening sequence is the only reason the film got made. He is a railbird who doesn't play poker and never has a line of dialogue, but the actor is the man who obviously paid for the movie. I can't think of a more useless waste of money than this man shelling out for this pointless production. It's fitting that he had such a useless role.<br /><br />There's very little poker in this movie. Most of the time is spent on useless side characters whose plots aren't resolved in the slightest. Queen Momma does have a show-stealing scene where she throws her loser boyfriend through a window and tries to shoot his brains out. Also the nameless Arabs in the convenience store also give brilliant performances when they debate whether to beat up or kill an older lady who robs them. Their subtle performances are easily among the film's highlights. It makes you wonder why they bothered getting all these white people to play the leads.<br /><br />In conclusion, complete nonsense. Plan 9 from Outer Space has slightly more coherency. If you play poker though you might want to have a laugh. Also if you're Christian you might enjoy some of the heavy-handed religious conversation that pepper the movie like pointless pepper. I hate movies made by religious people. Especially ones who think they know something about things they know nothing about. It's sad that Jennifer Harman and Scotty Nguyen got involved in this travesty as I can't help but think less of them. They must be envious of Johnny Chan for getting in Rounders.\n",
      "Odpowiedź:  Z recenzji trzeciej wynika, że film \"Hot Shots\" i \"The Naked Gun\" zostały dobrze ocenione, a także ich kontynuacje, nawet jeśli nie brali w nich udziału wszyscy. W związku z tym mógłby być to dobry wybór do obejrzenia razem z przyjaciółmi. Jednak zwróć uwagę na siódmą recenzję, która mówi, że \"Splatter University\" to film dla masochistów, a recenzent dużo krytykuje tę produkcję. W przypadku recenzji pierwszej i czwartej, \"Moon Over Parador\" i \"Le Million\" to dobre wybory, jeśli szukasz tego typu filmu. \"Caro Diario\" i \"La Stanza del figlio\" zawierają polityczne przemyślenia, więc jeśli nie jesteś zainteresowany tematem polityki, może być lepsza alternatywa.\n",
      "Ocena odpowiedzi: Odpowiedź otrzymuje ocenę: **4**\n",
      "\n",
      "### Komentarz:\n",
      "Odpowiedź jest częściowo trafna i spójna z kontekstem, ale wymaga dalszej specyfikacji i eliminacji niejednoznaczności. Model powinien dokładniej przeanalizować dostępne opcje filmowe w oparciu o entuzjazm recenzentów oraz potencjalną tematykę danego filmu. Na przykład, sugestię filmu \"Moon Over Parador\" można doprecyzować, aby pasowała do konkretnego gatunku zabawy lub humoru, jaki grupa przyjaciół preferuje. Dodatkowo, różnorodność gustów może prowadzić do lepszego wyboru, uwzględniając filmy, które mogłyby się spodobać różnym typom widzów, co byłoby istotniejszą informacją niż ogólna pozytywna rekomendacja. Na podstawie dostępnych recenzji, bardziej trafne byłoby przedstawienie kilku propozycji filmowych i uzyskanie opinii grupy na ich temat, tak aby znaleźć konsensus i odpowiedni dobór filmów dla wspólnego oglądania.\n"
     ]
    }
   ],
   "source": [
    "user_query = \"What movie I can watch with friends?\"\n",
    "response, context = handle_query_with_rag(user_query, model_rank, model_id=\"mixtral-8x22B\")\n",
    "print(\"Odpowiedź:\", response)\n",
    "\n",
    "evaluation = evaluate_response_with_llama(user_query, context, response, model_id=\"bielik\")\n",
    "print(\"Ocena odpowiedzi:\", evaluation)"
   ]
  },
  {
   "cell_type": "code",
   "execution_count": 18,
   "metadata": {},
   "outputs": [
    {
     "data": {
      "application/vnd.jupyter.widget-view+json": {
       "model_id": "8f974302be3f49c997fbd1c3e70d727c",
       "version_major": 2,
       "version_minor": 0
      },
      "text/plain": [
       "Batches:   0%|          | 0/4 [00:00<?, ?it/s]"
      ]
     },
     "metadata": {},
     "output_type": "display_data"
    },
    {
     "name": "stdout",
     "output_type": "stream",
     "text": [
      "Recenzja 1: The van trotta movie rosenstrasse is the best movie i have seen in years. i am actually not really interested in films with historical background but with this she won my interest for that time!!<br /><br />the only annoying thing about the movie have been the scenes in new york, and the impression i had of \"trying to be as American as possible\" ... which i think has absolutely failed.<br /><br />the scenes in the back really got to my heart. the German actress katja riemann completely deserved her award. she is one of the most impressing actress i have ever seen. in future i will watch more of her movies. great luck for me that i am a native German speaking =) and only for a year in the us, so as soon as i am back i'll buy some riemann dvds.<br /><br />so to all out there who have not seen this movie yet: WATCH IT!!! i think it would be too long to describe what it is all about yet, especially all the flash backs and switches of times are hard to explain, but simply watcxh it, you will be zesty!!!!!!!\n",
      "\n",
      "Recenzja 2: gone in 60 sec. where do i began, it keeps you in the movie with some good action and some cool cars. people say its not a good movie i disagree sure it has some cheesy parts but what action movie doesn't. i gave it an 8 out of 10 cause of the action and the comic relief if you like the Rock or Face Off than this movie is right up your alley cage dose a good job along with one of the most under rated actors in my mind Del-Roy Lindo. i think sometimes people look to far into movies some times you need to sit back enjoy the movie and after words ask yourself did they achieve what they where showing. meaning if they where going for action was it action pact. if they where trying to make a movie to change how movies are made and trying to win every award out their well did they? i think they made the action movie they set out to make, give it a chance and you wont be sorry.\n",
      "\n",
      "Recenzja 3: I considered myself to be quite melancholy, especially when I watch a great touching and tear-jerking movies. But not for this one (which surprised me!) and it is also really surprising me to see how many people praised this movie so highly.<br /><br />There are several disturbing facts throughout the movies: 1. Despite guilt-ridden Ben's real intention to save 7 lives to redeem his past, I find it disturbing that the film seems encourage this type of suicidal action. Some people may perceive this is a heroic action and some others think he behaves cowardly, in the end this was a disturbing action to me.<br /><br />2. The movie story line is over-dramatized, but the logic is over-simplified. Medically, blood type match is required to be an organ donor. Toward the end of the film we learnt that Emily had rear blood type that limited her chance to get the donor within short time period. Nevertheless, it seemed that Ben had the rare blood type, same as hers which allowed him to be her donor and conveniently, despite the rarity of Ben's blood type, he was able to donate not only his heart, but also his kidney, his cornea and his bone marrow which in all cases require not only matching blood type but also tissue antigen.<br /><br />3. Why the doctors allow Ben's organs being donated despite the jellyfish venom he used to kill himself?<br /><br />I might be over-analyzing the whole story as after all this is just a movie. However, some disturbing facts outlined above hopefully will help you reconsider your plan to go to watch this movie. If you go for a soap-opera type of film, go for it. But it you go seeking for an intelligent entertainment, give this one a miss!\n",
      "\n",
      "Recenzja 4: A wonderful film to watch with astonishing scenes and talented actors, such as Misa Shimizu and Nagiko Tono. After 15 minutes of watching, your eyes get locked on the screen and you do nothing but breathing in the atmosphere of the film waiting what the destiny will bring to the characters. This film makes you leave your position as a standard audience, it takes you in, it makes you a part of the story... Costumes and settings are brilliant; especially the district of the okiyas is skillfully built. It is definitely not very Akira Kurosawa, however it still gets a lot from the master, especially the stylistic story telling tells us we're in a distinguished land of cinema which is quite far from hollywoodish flamboyance.\n",
      "\n",
      "Recenzja 5: Audiences back in 1936 must have been stunned at what they were watching: a full-fledged, beautiful full-length Technicolor film. I can't say for sure, but this might have been the first one (3-strip). At any rate, it still looks beautiful over 70 years later on DVD. In fact, just how good it looks is amazing.<br /><br />Kudos for that have to go out to Director Richard Boleslowski, Director Of Photography Virgil Miller, Selznick International Pictures and, for the DVD - MGM Home Entertainment. All of them combined to give us one of the best-looking films of the classic-era age.<br /><br />I thought the story was so-so: excellent in the first half, stagnant in the second. It gave a nice message in the end, even though a lot of people might not have been happy with it. I can't say more without spoiling things.<br /><br />Marlene Dietrich never looked better, I don't believe, and certainly never played such a soft-hearted character (\"Domini Enfilden\"). Heart-throb Charles Boyer was the male star and Domini's object of affection, but some of the minor characters were the most interesting to me. People like Joseph Schildkraut as \"Batouch;\" John Carradine as \"The Sand Diviner;\" The most memorable, to me at least, was the dancer \"Irena,\" played by Tilly Losch. Wow, there is a face and a dance you won't soon forget! I've never seen anything like it in the thousands of films I've viewed. Just seeing her do her thing was worth the price of the DVD. Looking at her IMDb resume, she was only in four movies, but they were all well-known films.<br /><br />Basil Rathbone, the actor who really became famous for playing \"Sherlock Holmes,\" also is in here as is C. Aubrey Smith, another famous British actor of his day. Schildkraut, by the way, will be recognized by classic film buffs as the man who played the arrogant sales clerk in the big hit, \"The Shop Around The Corner,\" with Jimmy Stewart and Margaret Sullivan.<br /><br />The beautiful direction, photography and color, and Tilly's dance, are the things I'll remember best about this movie which is a lot of good and not-so-good things all rolled into one. Had the last half hour been better - although I admire the ending - I would have rated it even higher. It's definitely one film collectors want to add to their collection.\n",
      "\n",
      "Recenzja 6: This is one of them movies that has a awesome video box but has wired camra work and unknown actors that speak with bad dialogue.Its so dark when the killings happen you can hardly see it plus the movie is hard to understand.The only star in this is WCW`s Vanessa Sanchez (Tygres in WCW before it folded) and she is a good actress. I like low budget film especialy ones that has errors because they are fun to watch but Severed unfourtunatly isn`t one of them.This movie is ok to see if you like voodoo and severed heads but this is no blockbuster but if you need something new to watch then rent Severed.\n",
      "\n",
      "Recenzja 7: -me and my sister have right now watch that movie. we have laugh to the deaf. can u imagine on covers there is nomination for Oscar?? --first, musician have mix about 4-5 different style of music... and the music is not synchronized with the scenes and the character moves...<br /><br />---main character Silvester do not fit in there. he look like Mexican Tarzan.<br /><br />----Russian soldiers are everything but not Russian faces :-) -----ok, the main points: 1. airplane called charter painted in black...<br /><br />2. what is an idea when Rambo go to jump from the airplane, but he stuck? rope mix 3. a Girl? the best scene is when she dies. She means a lot to him. he knows her for ages? he cries for her, ... o my god samurai 4. how many arrows is he got? his arrow bag is always full of the arrows? i didn't notice a scene where he collect them - but i have seen the scene where arrow stay in the Vietnam solder head - that is very important 5. how many rockets helicopter can hold??? (real one) i have seen 4. but Rambos have hit about 20 of them.<br /><br />6. the main part. what the Russian special army helicopters do in Vietnam????????? after the war? 7. first scene when he enter into Vietnam's camp... his first idea was to liberate the refuge who is standing on the tree on the open space' wow, what an idea than again: 1. with the knife u can cut the iron wire? maybe only made in Vietnam? 2. mortar - using for hit one running man? o my god, u Americans really need to learn about the weapons! do u know how much it takes to calibrate the mortar (i think writer have been watching to much movies from II world war)\n",
      "\n",
      "Recenzja 8: My all-time favorite movie. Oscar-caliber work by everyone involved, both in front of and behind the camera. The screenplay is perfect, and works out the relationship between Lady Caroline and George Briggs in a completely satisfying way, unlike the novel. The care with which the other leading characters have been drawn is a tribute to screen writer Peter Barnes, and the intense visual beauty should have won Oscars for director Mike Newell and cinematographer Rex Maidment. It is Josie Lawrence's best work by far, and transformed my opinion of Joan Plowright. Having watched this movie at least 50 times, I can find no fault in it. The music, by famed composer Richard Rodney Bennet is a marvel.\n",
      "\n",
      "Recenzja 9: The Stock Market Crash of 1929 and the Depression following almost ruined the American Musical Theater, in fact it was the final death blow to vaudeville. Those behind the curtains were hit as bad as those in front.<br /><br />In an effort to stimulate the show business economy and his own personal economy, out of work theater director James Cagney comes up with a brilliant idea. Stage live relevant prologues to the movies that are being shown at the various movie theaters that are springing up overnight from the old theaters. Some other competitors get wind of it and the competition is on.<br /><br />Footlight Parade is my favorite Busby Berkeley film. It gives James Cagney a chance to display some of his versatility as a dancer as well as a tough guy. In his retirement Cagney said that while he screened his few and far between musicals a lot, he could barely be bothered with some of his straight dramatic films. He wished he'd done a few more musicals in his career and I wish he had.<br /><br />Of course the staging of these Busby Berkeley extravaganzas on the stage of a movie palace defies all logic and reason. But it's so creative and fun to watch. <br /><br />Dick Powell gets to sing three songs in Footlight Parade, Ah the Moon is Here, Honeymoon Hotel, and By a Waterfall, the last two with Ruby Keeler further cementing that screen team. Ruby sings and dances with Powell in the last two and she partners with James Cagney in my favorite number from Footlight Parade, Shanghai Lil. <br /><br />Joan Blondell is Cagney's no nonsense girl Friday at the theater. Like in Blonde Crazy, she's the one with the real brains in that duo and it's her quick thinking that bails him out of some domestic problems he has on top of his theatrical ones. One of Blondell's best screen roles.<br /><br />Look for Dorothy Lamour and Ann Sothern in the chorus as per the IMDb pages for both of them. John Garfield is seen briefly in the Shanghai Lil number. And in a scene at the beginning of the film, producer Guy Kibbee takes Cagney to a movie theater where they are showing a B western starring John Wayne. The Duke's voice is unmistakable. But what's even more unusual is that the brief clip shows him in a scene with Frank McHugh who plays another Cagney assistant in Footlight Parade. I think the brothers Warner were playing a little joke there. I've got to believe that clip was deliberate.<br /><br />Footlight Parade is Busby Berkeley at his surreal best.\n",
      "\n",
      "Recenzja 10: This is one of those movies that you and a bunch of friends sit around drinking beers, eating pizza, and laugh at. Unfortunately for me I found myself watching this one alone. My friends and I rented a big block of movies and never got around to seeing this one. It was due back and I figured that it was a waste not to watch it. So I did, and I was impressed at how absolutely terrible this movie is.<br /><br />Now, I love bad movies quite a bit, and I probably would have liked this one if the \"hero\" wasn't so utterly loathsome. The entire movie I was hoping that he'd put that stupid sword down and let someone kill him! He does very little heroic things in the movie. He's a beefy, disgusting, stupid thing. He has less redeeming qualities than the villains do. And what was it with all the naked chicks? I mean, I love naked chicks just as much as the next guy, but this movie went a tad overboard in that department.<br /><br />Well, anyway, if you love bad movies and can stand a disgusting \"hero\" then I'm sure you'll like this schlock of a film.\n",
      "Odpowiedź:  Na podstawie kontekstu, osoba z recenzji drugiej bardzo poleca film \"Gone in 60 Sec\", chwaląc jego akcję i komizm. Zwraca uwagę, że prawdopodobnie zadowoli osoby ceniące sobie filmy ze sławnym \"The Rock\" oraz \"Face Off\".\n",
      "Ocena odpowiedzi: Dla odpowiedzi \"gone in 60 sec\" wskazanej jako polecany film akcji:\n",
      "\n",
      "Ocena: 9/10\n",
      "\n",
      "Odpowiedź jest bardzo trafna i spójna z kontekstem. Uzasadnia pozytywne odczucia, chwaląc film za dynamiczną akcję, komizm oraz odnosząc się do popularności aktora i odnawialnych motywów z innych znanych produkcji (\"The Rock\", \"Face Off\"). Recenzent wyraźnie poleca film potencjalnym widzom ceniącym sobie pewne gatunkowe elementy.\n",
      "\n",
      "Mogłyby nastąpić niewielkie poprawki w zakresie:\n",
      "- Bardziej szczegółowego opisu unikalnych cech filmu wyróżniających go spośród innych produkcji akcji.\n",
      "- Przedstawienia opinii różnorodnej grupy odnawialnych obserwatorów.\n",
      "- Dodania większej liczby przykładów scen, które stanowią mocne punkty filmu.\n"
     ]
    }
   ],
   "source": [
    "user_query = \"What are the best action movies to watch?\"\n",
    "response, context = handle_query_with_rag(user_query, model_rank, model_id=\"mixtral-8x22B\", k=10)\n",
    "print(\"Odpowiedź:\", response)\n",
    "\n",
    "evaluation = evaluate_response_with_llama(user_query, context, response, model_id=\"bielik\")\n",
    "print(\"Ocena odpowiedzi:\", evaluation)"
   ]
  },
  {
   "cell_type": "code",
   "execution_count": 13,
   "metadata": {},
   "outputs": [
    {
     "data": {
      "application/vnd.jupyter.widget-view+json": {
       "model_id": "f685bdcf25a64047aea80a8392c2d68d",
       "version_major": 2,
       "version_minor": 0
      },
      "text/plain": [
       "Batches:   0%|          | 0/4 [00:00<?, ?it/s]"
      ]
     },
     "metadata": {},
     "output_type": "display_data"
    },
    {
     "name": "stdout",
     "output_type": "stream",
     "text": [
      "Recenzja 1: I came here for a review last night before deciding which TV movie to settle in front of, and those I found made this one look unmissable. How misled I feel!<br /><br />Firstly, it needs to be pointed out up front that this is very much a housewife's daytime movie. The performances are wooden, every sentence is an attempt at 'poignant' in the way that housewife's daytime movies and bad soap operas always are, and it is based in that predictable and well-trodden premise that men (particularly soldiers) are essentially violent and incompassionate. The whole movie is about the 'drama' apparent in the moments when the male characters threaten to develop a second dimension.<br /><br />If that sounds tolerable (or even enjoyable) to you, then be warned. Linda Hamilton's German accent, while quite good, is painfully distracting - as is her face, for some reason. The other performances are no doubt an enduring source of embarrassment to their perpetrators, with painfully thin and obvious characterizations being the order of the day. There are few surprises, but do watch for the 'Monty Pythonesque' endless supply of food and drink that miraculously appears from the hungry soldiers' knapsacks!<br /><br />I wasn't expecting action, but I had hoped for beautiful or textural or emotionally charged. What I got was a particularly bad Christmas 'feelgood' story that will have an intelligent audience cringing with the crapulence of it all.<br /><br />Watch it under the folowing circumstances: 1: There's nothing else on. 2: You are a fan of predictable 'housewife takes on men and wins' TV movies. 3: The only way you can appreciate a true story is when Hollywood turns it into a feature film. 4: You've imbibed enough nog that your emotions are easily stirred by unsophisticated storytelling.\n",
      "\n",
      "Recenzja 2: Cinderella....<br /><br />I hadn't watched this film for about five years the last time i saw it. The magic remains. There is something that definitely contains that storybook feel, the songs entertain and the secondary character's all please. The villains in the form of step sisters are perfectly evil and vile. Then there is the most magical of all Disney, the mice making the dress and well you know the rest. To sum up the four of the Disney princess movies are all great but this is a charming magical experience, watch and enjoy. Oh and of course, Cinderella is wonderful as the main character in the movie.<br /><br />If you think about it Disney movies can really lost their charm. With Elene Wood and others the movie has such a feel to it, you simply can't help but smile<br /><br />They say the moral of this story is that dreams come true. Of course in the real world some are believers others are hoper's. In this film it's even more the magical when her rainbow comes smiling. <br /><br />And of course the rest is...Cinderella\n",
      "\n",
      "Recenzja 3: One of those, \"Why was this made?\" movies. The romance is very hard to swallow. It is one of those romances, that, suddenly, \"click\" - they are in love. The movie is filled with long pauses and uncomfortable moments - the drive-in restaurant being the most notable. Charles Grodin does a credible job but for most of the movie it's just him and Louise Lasser. Ask yourself, do you want to watch Grodin with his neurosis and Lasser with her neurosis together for a hour and half?\n",
      "\n",
      "Recenzja 4: Audiences back in 1936 must have been stunned at what they were watching: a full-fledged, beautiful full-length Technicolor film. I can't say for sure, but this might have been the first one (3-strip). At any rate, it still looks beautiful over 70 years later on DVD. In fact, just how good it looks is amazing.<br /><br />Kudos for that have to go out to Director Richard Boleslowski, Director Of Photography Virgil Miller, Selznick International Pictures and, for the DVD - MGM Home Entertainment. All of them combined to give us one of the best-looking films of the classic-era age.<br /><br />I thought the story was so-so: excellent in the first half, stagnant in the second. It gave a nice message in the end, even though a lot of people might not have been happy with it. I can't say more without spoiling things.<br /><br />Marlene Dietrich never looked better, I don't believe, and certainly never played such a soft-hearted character (\"Domini Enfilden\"). Heart-throb Charles Boyer was the male star and Domini's object of affection, but some of the minor characters were the most interesting to me. People like Joseph Schildkraut as \"Batouch;\" John Carradine as \"The Sand Diviner;\" The most memorable, to me at least, was the dancer \"Irena,\" played by Tilly Losch. Wow, there is a face and a dance you won't soon forget! I've never seen anything like it in the thousands of films I've viewed. Just seeing her do her thing was worth the price of the DVD. Looking at her IMDb resume, she was only in four movies, but they were all well-known films.<br /><br />Basil Rathbone, the actor who really became famous for playing \"Sherlock Holmes,\" also is in here as is C. Aubrey Smith, another famous British actor of his day. Schildkraut, by the way, will be recognized by classic film buffs as the man who played the arrogant sales clerk in the big hit, \"The Shop Around The Corner,\" with Jimmy Stewart and Margaret Sullivan.<br /><br />The beautiful direction, photography and color, and Tilly's dance, are the things I'll remember best about this movie which is a lot of good and not-so-good things all rolled into one. Had the last half hour been better - although I admire the ending - I would have rated it even higher. It's definitely one film collectors want to add to their collection.\n",
      "\n",
      "Recenzja 5: Another outstanding foreign film which thoroughly trounces the never-ending crop of crud emanating from Hollywood! This is a story of life and living. No, definitely not the perfect little life so often depicted in the totally artificial Hollywood movies but rather, the real life complete with real characters each with strengths and weaknesses just like real people in our lives and ourselves.<br /><br />The dynamics of all of these lives, intertwined within the walls of this bathhouse, and particularly its aged owner, are magnificent, heart touching and highly thought provoking.<br /><br />Sit back, relax, and be carried away into the simple and beautiful life. There is real wisdom to be learned in this movie if you only open yourself up to it.<br /><br />You will not be disappointed.\n",
      "\n",
      "Recenzja 6: The movie begins a with mentally-challenged girl with bright yellow sneakers looking skyward on a Madrid street corner and being spellbound by a passing plane. The movie examines the life of five womenAdela, Leire, Maricarmen, Anita & Isabelwho have completely different lives and choices of shoes. Their shoes is the first superficial, yet affixed with some glancing meaning, clue we get at their fragile identities. In a theatrically embroidered and embellished way, a podiatrist tries to esoterically reveal the deepest secrets of a woman's souls by the sole of her feet. The premise is risky and slightly contrived, but the tone and depth of the movie takes a daring plunge for the good.<br /><br />What may have been light-hearted and superficial, quickly switches gear with the a superb dysfunctional couple scene that leaves the viewer riveted for minutes, seeing the love or lack thereof, the pain, the confusion, the hope, the needs and escape mechanisms develop through minutes different rooms of the house and down to the street and eventually below... What a scene (!) , but there will be others as effective to follow and strengthen the strong characterization and directing displayed in this slice of life affair.<br /><br />Moving along, a woman has lost the husband she loved and inherited his kids and his taxi, while another has completely lost her husband emotionally, sexually, intellectually, but not physically. A ghost, a pending divorce reproach, regret & remorse. A new love? Can you love a mirage? Can you love the person in the mirror? Can you love someone you can't love? Or think you can't love? Can you love and live life even though it will always be somewhat hopeless? Yet isn't it exactly these hopes and dreams that keep us here grounded and in a spectrum of relative happiness? A lot of deep themes emerge and the final act brings people and ideas together to coalesce in an existential crisis with no clear cut solution, definitive decision or effective healing. Maybe a elusive thought, a fleeting feeling, but a lasting appreciation of life and of the artistry and intellect of the film. Live. Live again. Rewind the reel. Unveil the real, the important; the big stones (piedras) of life. The rest is just details.\n",
      "\n",
      "Recenzja 7: Always enjoy great films which deal with the super-natural and the deep thoughts of the Spiritual world. However, this film just turned me off as far as its production and direction. There is nothing to go into deep discussion about what this story has to tell; all I can say is that it was a big waste of time and effort to put it on the big screen. The actors, namely: Mark Addy, Thomas Garrett, gave an outstanding performance in his native land England, and we have seen him in \"Still Standing\" a TV Series. Heath Ledger, played the real wicked dude and we have recently viewed him in \"Brokeback Mountain\",'05, gave a great supporting role. Shannyn Sossaman, (Mara Sinclair), did a good job of seducing a priest from a church not recognized by any faith. Don't waste your time, you will be sorry!\n",
      "\n",
      "Recenzja 8: The story of the untouchable who acted like a great soldier, saving the lives of hundreds if not thousands, is told in the 1939 film \"Gunga Din.\" Based loosely on the Rudyard Kipling poem, the film is brilliantly directed by George Stevens and stars Cary Grant, Douglas Fairbanks Jr. and Victor Mclagen. The title role is played by Sam Jaffe, well known in my era as Ben Casey's boss, Dr. Zorba, a name that became synonymous with big, out of control hair. Say \"Dr. Zorba hair\" to anyone of my generation, and they know what you're talking about.<br /><br />Set in India at the time of the British occupation, three soldiers - two romantic, dashing figures in Grant and Fairbanks, and McLagen as a big lug - are cut-ups - in reality, three overgrown boys. Gunga Din is the water carrier, treated somewhat meanly - verbally, anyway - by McChesney (McLaglen), but Cutter (Grant) is fond of him. When he catches Din (pronounced Deen) practicing being his soldier walk and salute as he apes the unit during their maneuvers, Cutter gives him a few pointers.<br /><br />The merry band of musketeers is going to break up when Ballantine (Fairbanks) announces he's about to be married to a lovely young woman (Joan Fontaine) and leaving the service. However, when Gunga Din and Cutter run across Thugees, a murderous cult led by a guru (Eduardo Cianelli), Gunga Din escapes to warn the unit, and Ballantine insists on re-enlisting to help save Cutter. It's a buddy movie after all.<br /><br />\"Gunga Din\" starts out lightheartedly, with slapstick and wonderful, broad comedy, particularly by Cary Grant, who is quite funny. Both he and Fairbanks are so handsome, it's hard to decide which one to look at first. Much of the film is made up of huge action sequences which are very exciting. In the last part, the story becomes very dramatic and culminates in a tense, thrilling battle.<br /><br />Grant has the showiest role, Fairbanks is the lovesick romantic, and McLaglen as McChesney, mostly due to his treatment of Gunga Din, is the most unlikeable character, although one detects his soft heart in his love for his elephant Annie. His softness comes through toward the end of the movie, particularly in the very touching, tear-jerking final scene.<br /><br />Always a gentle and likable actor, Sam Jaffe gives a beautiful performance as Gunga Din, a simple, brave man with a big smile, powerful imagination and lofty dreams. Without much dialogue, Jaffe conveys Gunga Din's soul magnificently.<br /><br />This is truly the ultimate adventure film, massive in scope, with good acting, rousing scenes, a wonderful musical score, and some beautiful cinematic images. Another one from that remarkable year, 1939. Highly recommended.\n",
      "\n",
      "Recenzja 9: I'm easily entertained. I enjoyed \"Hot Shots\" and \"The Naked Gun\" and their many sequels, even when most people found them unbearable. I've even managed to enjoy most Pauly Shore movies. There is only one movie that I've seen that I can honestly say was bad...and this was it. It's been a while since I've seen it, but I do remember sitting in the theater thinking, \"This is a dumb movie. Why did I see this?\" It's honestly the only movie that I cannot recommend.\n",
      "\n",
      "Recenzja 10: Besides the fact that my list of favorite movie makers is: 1)Stanley Kubrick 2)God Allmighty 3)the rest... this movie actually is better than the book (and the TV miniseries though this is an easy feat, considering the director). The flawless filming stile, the acting and (Kubrick's all time number one skill) the music - make it THE masterpiece of horror. I watched the TV miniseries a few years ago and liked the story and I had my hopes about this when I got a hold of it. IT BLEW ME AWAY!!! It is far better than I ever imagined it. It starts slow (Kubrick trademark) and has a lot of downtime that builds up the suspense. The intro scene is a classic by all means and I watched it about 20 times just for the shear atmosphere it induces to the whole film. Also the film doesn't offer a lot of gore (it has just enough and it is by no means tasteless) a trend that I hate in recent day horror films. Just watch it!\n",
      "Odpowiedź:  Na podstawie zacytowanych recenzji, dwa filmy mają najbardziej poruszające historie: \"Cinderella\" oraz niezatytułowany film, który zostawia widzów w rozterce.\n",
      "\n",
      "W przypadku \"Cinderelly\", recenzent podkreśla, że historia ma \"fabularny urok\" i wywołuje uśmiech. Opisuje film jako \"magiczny doświadczenie\" i podkreśla, że mimo że losem Cinderelly kierują siły magiczne, moralnym przesłaniem filmu jest przekaz, że marzenia się spełniają.\n",
      "\n",
      "Drugi film pozostaje nieznany z nazwy, ale recenzent twierdzi, że jego treść jest niezwykle głęboka i dotyka tematów \"życia i życia\", ukazując postaci o różnych siłach i słabościach. Recenzent podkreśla również, że pokazuje życie w jego prawdziwej postaci, bez zwykłego \"idealnego\" życia. Opisuje także, że film ma zasadniczą wartość poznawczą i nie będzie rozczarować.\n",
      "\n",
      "Oba filmy mają zatem silny emocjonalny kontekst, ale każdy z nich realizuje go na inny sposób\n",
      "Ocena odpowiedzi: Odpowiedź brzmi następująco:\n",
      "\n",
      "Na podstawie zacytowanych recenzji, dwa filmy mają najbardziej poruszające historie: \"Cinderella\" oraz niezatytułowany film, który zostawia widzów w rozterce.\n",
      "\n",
      "Moja ocena: **9/10**\n",
      "\n",
      "Ocena uzasadniona:\n",
      "\n",
      "Model prawidłowo rozróżnił dwa filmy o poruszających historiach na podstawie recenzji, jednak brakuje konkretnego odniesienia do poszczególnych tytułów. Odnoszę się do kontekstu poprawnie, przy czym brakuje pełnej referencji do recenzji opisujących te filmy. Poprawa mogłaby obejmować:\n",
      "\n",
      "1. Pełne zacytowanie kluczowych fragmentów recenzji, które wspierałyby punkt widzenia modelu.\n",
      "2. Dodanie ocen dla obu filmów, aby lepiej przedstawić ich emocjonalną oddziaływanie.\n",
      "3. Wyjaśnienie, dlaczego te konkretne filmy zostały wybrane jako mające najbardziej poruszające historie, zamiast ogólnego stwierdzenia.\n",
      "\n",
      "W celu zwiększenia precyzji, model mógłby\n"
     ]
    }
   ],
   "source": [
    "user_query = \"Which movies have the most emotional stories?\"\n",
    "response, context = handle_query_with_rag(user_query, model_rank, model_id=\"mixtral-8x22B\", k=10)\n",
    "print(\"Odpowiedź:\", response)\n",
    "\n",
    "evaluation = evaluate_response_with_llama(user_query, context, response, model_id=\"bielik\")\n",
    "print(\"Ocena odpowiedzi:\", evaluation)"
   ]
  },
  {
   "cell_type": "code",
   "execution_count": 14,
   "metadata": {},
   "outputs": [
    {
     "data": {
      "application/vnd.jupyter.widget-view+json": {
       "model_id": "80d8fb5c825e4554a265ab8f888c3e53",
       "version_major": 2,
       "version_minor": 0
      },
      "text/plain": [
       "Batches:   0%|          | 0/4 [00:00<?, ?it/s]"
      ]
     },
     "metadata": {},
     "output_type": "display_data"
    },
    {
     "name": "stdout",
     "output_type": "stream",
     "text": [
      "Recenzja 1: Tobe Hooper is quite possibly the biggest fluke the horror genre has to offer. Like any other horror fan, I loved the Texas Chainsaw, but I think that in order to put your name in front on a movie title, you should have at least more than one hit movie. I can't really think of any other movie Hooper has done (on his own, don't count Poltergeist) that has really made an impact on the horror genre or film world. And this movie, Night Terrors, just backs up my point.<br /><br />Poor Robert Englund, I give him credit for at least doing a good job with the awful material he was given. He did what he could. As for the movie itself? Pure drudge. Unnecessary nude scenes every five minutes, a story that must have been penned in an our, and really just awful scenery, music, and cinematography. Nothing in this film is redeemable. Don't waste your time.<br /><br />Overall, 1 out of 10. I feel sorry for Hooper, his career seems like it was over before it really ever got started. I hope that he's able to pump out at least one more good flick, that way he can do his cult status some justice.<br /><br />\n",
      "\n",
      "Recenzja 2: Dark Remains is a home run plain and simple. The film is full of creepy visuals, and scares' that will make the most seasoned horror veteran jump straight out of there seat. The staircase scene in particular, these guys are good. Although they weren't working on a huge budget everything looks good, and the actors come through. Dark Remains does have one of those interpretive endings which may be a negative for some, but I guess it makes you think. Cheri Christian and Greg Thompson are spot on as the grieving couple trying to rebuild there lives', however some side characters like the Sheriff didn't convince me. They aren't all that important anyways. I give Dark Remains a perfect ten rating for being ten times scarier than any recent studio ghost story/ Japanese remake.\n",
      "\n",
      "Recenzja 3: `In the tradition of 'Carrie' and 'Heathers'? Try `a shameless ripoff of not only those two films, but 'The Evil Dead' and 'The Shining' as well.' That said, they really don't make bad horror movies like this anymore, and that's a shame, 'cause it's a gas.<br /><br />Rainbow Harvest is the Winona substitute here, and although she barely does more than mumble her lines (and occasionally scream, `YOU'RE UGLY!!!' into her haunted mirror), she's Goth way before it's fashionable, so you have to respect her. (And she's quite creative about it too, accessorizing with black leather scarves and a kind of black-spray-painted Hawaiian-Punch-guy hat. Eat your heart out, Cher.)<br /><br />Karen Black overacts a bit, but she's not totally without dignity, and you can't help but sympathize with her. (Unless you're a certain friend of mine, who asked, `Who is that, Horse Lips from 'M.A.S.H'?' the first time she came onscreen.)<br /><br />There are decent supporting performances by Kristin Dattilo (as the square chick who befriends Rainbow), Ricky Paull Goldin (in his trademarked wisecracking hunk role), and William `Larry, Darryl and Darryl' Sanderson (as some kind of pet undertaker, or something). But it's sad to see the once smokin' Yvonne DeCarlo reduced to playing what can only be thought of as the Charlotte Rae part.<br /><br />The eighties were the heyday for hilarious, mindbogglingly dumb horror movies like this, and `Mirror, Mirror' was one of the last of its kind. Definitely worth a look.\n",
      "\n",
      "Recenzja 4: I know it is fashionable now to hate this movie. I have seen hundreds of spook films including he original 1963 Haunting as well as most of the Hammer films. This film is not restrained and does not hold back at all which is probably why so many modern viewers seemed not to like it. Yet many viewers can accept out of control films like Scream because knife killers are more easy to believe for most people than demons or ghosts. Actually this film had many great scenes and the acting and special effects were great. I have seen it 15 times now and it gets better every time. The director of this film has made a number of interesting and stylish films and was not trying for the type of realism of the 6th sense. The Haunting lets go and is certainly not boring. Perhaps this film might appeal more to John Carpenter fans but more of an traditional plot structure. The old Haunting was also a fine film from 1963. It was even more scary. See both and also The Innocents and The Legend of Hell House with Pamela Franklin.\n",
      "\n",
      "Recenzja 5: Every once in a while, a group of friends, with a minimal budget but bags of enthusiasm and talent, will create a low budget masterpiece that takes the world of horror by storm. Raimi and co. did it with The Evil Dead, Jackson and pals succeeded with Bad Taste; and Myrick and Sanchez made a mint with The Blair Witch Project.<br /><br />Director Todd Sheets and his chums, however, are destined to wallow forever in relative obscurity if Zombie Bloodbath is anything to go by. A lesson in how not to make a cheapo horror, this miserable effort (about a plague of flesh-eating zombiesnatch) serves as a reminder that, whilst many people these days have access to a video camera, most shouldn't take that as their cue to try their hand at making a full-length movie.<br /><br />It's not that Sheets hasn't got an eye for a nicely framed shot (some of his camera angles and movements are actually pretty good), but rather that a) he has a lousy script b) he has a lousy cast, and c) he doesn't realise that he has a lousy script and cast. Which means that the final film is amateurish in the extreme, and unlikely to be watched in its entirety by anyone other than zombie film completists (like me) or members of the cast and crew (like those who have given the film favourable comments).<br /><br />Zombie Bloodbath is obviously aimed at undiscriminating gore-hounds, and Sheets (who currently has an incredible 34 titles under his belt as a director) certainly goes out of his way to please, with buckets of offal and blood thrown about at every opportunity. But whilst these moments are undeniably yucky, they aren't particularly convincing, and soon get rather tedious.<br /><br />So, to summarise, this is a really bad film, with almost no redeeming features. Except for two:<br /><br />Firstly, it features the single greatest mullet in the history of film, as sported by Jerry Angell, who plays Larry (as well as several zombies). The magnificence of his barnet (coupled with a fetching moustache) is reason alone to watch this film.<br /><br />Secondly, it has 'pathetic stealth zombies': flesh-eating corpses that lie in wait for unfortunate victims to wander by, before leaping from their hiding place to launch a feeble attack, which requires almost no effort to escape from. Best known for lurking behind a door for hours waiting for someone to open it, 'pathetic stealth zombies' also occasionally hide behind low walls, or sit in churches posing as members of the congregation.<br /><br />Normally a film this bad would get 1/10 for me, but, in celebration of Jerry Angell's flowing locks, I will generously raise my rating to 2/10.\n",
      "\n",
      "Recenzja 6: Before viewing, please make sure you have seen Night of the Living Dead... This might well be THE best 7 minute parody I have ever seen! Absurd, crappy 'special effects' (the rope, the rope!!!), and maneating slices of bread... what more do you need???<br /><br />(Do not watch this movie while eating bread... you might get scared!)\n",
      "\n",
      "Recenzja 7: Where to start. The film started out pretty well, but after the 30 min mark i caught myself watching the clock. The horror at the start of the film was good but then the story kicked in. It just got stupider and stupider as time ticked by.<br /><br />The actors gave an average performance in this movie however, i got a bit bored of Vinny Jones constant scowling in the film.<br /><br />As the film dragged on, and take my word for it, it dragged on, it just got more and more far fetched.<br /><br />*** SPOILER ALERT *** SPOILER ALERT *** SPOILER ALERT *** Just when i thought the film could not get any worse, towards the end loads if skeleton looking monsters turned up, just to eat the dead people which made no sense at all. It turned out to be some sort of flesh eating cult and the good guys die at the end. The ending in fact just made me laugh at how bad it was. Once the lead role disposes of Vinny Jones, he becomes the new killer.<br /><br />In closing, this film made Creep look like the best horror film ever made. I gave it 1 star because the female lead did a pretty good job but even she could not save this train wreck of a movie!!\n",
      "\n",
      "Recenzja 8: The one of the most remarkable sci-fi movies of the millennium. Not only a movie but an incredible future vision, this movie establishes a new standard of s/f movies. hail and kill!\n",
      "\n",
      "Recenzja 9: I didn't think this was as absolutely horrible as some people apparently do. It passes as one of those cheesy horror movies you might waste time with in the middle of the night when you can't sleep, although admittedly it's no better quality than that. It's true that the acting isn't great - I thought Marianne McAndrew as Cathy Beck, for example, came across as completely passionless - but the main problem is that several aspects of the plot didn't really make sense to me. The Becks are on a trip described by John (Stewart Moss) as part work and partly the honeymoon they never had (now that's romantic!) The work part has something to do with touring caves, which in itself sounds strange (how does being part of a tour group through a cave relate to anyone's work?) but it gets stranger when we find out that he's a doctor doing research in the area of preventative medicine (huh? That connection completely lost me.) Bitten by a bat while he's in the cave, he begins to transform into what I guess was supposed to be a human-bat hybrid (although when we finally see him in makeup he looks a lot more like an ape-man of some sort) and a killing spree starts. Here's another problem. The first killing is a nurse in a hospital. At first, everyone thinks her death was an accident. The second murder is of a young girl, who is described as having her throat ripped out. The sheriff (Michael Pataki) then tells us that her death was similar to the nurse's (meaning throat ripped out? - How could anyone think that was an accident?) And what's with the sheriff? He seems pretty no-nonsense until the scene in Cathy's hotel room when he takes a swig of liquor and then almost rapes her, after which everything seems to go back to normal. It's saddled with an ending that left almost everything unresolved, and also with one of the most irritating theme songs I've ever heard in a movie. Even for all that, there was something here that kept me watching. Sometimes pure cheesiness can get you through an hour and a half. Pretty bad, yeah - but not as awful as some people say.\n",
      "\n",
      "Recenzja 10: What can one say about a film that has one of the blackest, most nihilistic, and occasionally most weirdly -I wont say 'sympathetic'..I will say 'charismatic' villains in the history of the Cinema, and the best sword fight since Flynn and Fairbanks were in their heyday? This is an epic about a stubborn, sometimes foolish, incredibly courageous and honest mans fight for his honor and freedom against tyranny. I loved it. John Hurt and Tim Roth were great villains. Jessica Lange was very moving, tender, and sensual.\n",
      "Odpowiedź:  Na podstawie omawianych recenzji, najlepsze hipotezy wśród omawianych to najprawdopodobniej \"Dark Remains\" i \"The Haunting\". W recenzji, \"Dark Remains\" zostało opisane jako \"home run plain and simple\" (prosty i pewny wielki sukces), z \"creepy visuals\" (przeszywającymi, mrożącymi krew w żyłach wizualami) i \"scares' that will make the most seasoned horror veteran jump straight out of there seat\" (przerażeniami bardzo przekonującymi i mocnymi, nawet dla takich, którzy mieli okazję oglądać wcześniej wiele horrorów). Z drugiej strony, \"The Haunting\" zostało opisane jako \"terrifying\" (przerażające) i \"intense\" (intensywne). Chociaż recenzent wspomina, że \"it is fashionable now to hate this movie\" (modne teraz jest nie lubić tego filmu) i że niektórzy widzowie mogą się nie podobać jego brak subtelności, to on sam stwierdza, że \"this film had many great scenes and the acting and special effects were great\" (\"ten film miał wiele wspaniałych scen, a aktorstwo i efekty specjal\n",
      "Ocena odpowiedzi: Oceniam odpowiedź na 5. Jest ona częściowo trafna, ponieważ faktycznie \"Dark Remains\" zostało wysoko ocenione za swoje visceralne momenty grozy i intensywne emocje, podczas gdy \"The Haunting\" także wyróżnia się jako przerażający i intensywny tytuł, pomimo obiekcji niektórych widzów. Jednak odpowiedź nie uwzględnia innych potencjalnie wyróżniających się tytułów z pozostałych recenzji, które również mogłyby odgrywać znaczącą rolę w kontekście pytań o najlepsze horrory.\n",
      "\n",
      "Poprawiona odpowiedź:\n",
      "\n",
      "Na podstawie omawianych recenzji, najlepsze hipotezy w kategorii horrorów obejmują \"Dark Remains\", wychwalane za wszechstronne sceny grozy i \"The Haunting\", które choć może wywołać mieszane uczucia, uznawane jest za przerażające i intensywne doświadczenie. Jednak nie można zapomnieć o innych ważnych tytułach, takich jak \"Night Terrors\" oraz \"Mirror, Mirror\", które oferują unikalne podejścia do gatunk\n"
     ]
    }
   ],
   "source": [
    "user_query = \"What are the best horror movies?\"\n",
    "response, context = handle_query_with_rag(user_query, model_rank, model_id=\"mixtral-8x22B\", k=10)\n",
    "print(\"Odpowiedź:\", response)\n",
    "\n",
    "evaluation = evaluate_response_with_llama(user_query, context, response, model_id=\"bielik\")\n",
    "print(\"Ocena odpowiedzi:\", evaluation)"
   ]
  },
  {
   "cell_type": "code",
   "execution_count": 15,
   "metadata": {},
   "outputs": [
    {
     "data": {
      "application/vnd.jupyter.widget-view+json": {
       "model_id": "6e271381c71d4cfa96eb8bea2d0efacb",
       "version_major": 2,
       "version_minor": 0
      },
      "text/plain": [
       "Batches:   0%|          | 0/4 [00:00<?, ?it/s]"
      ]
     },
     "metadata": {},
     "output_type": "display_data"
    },
    {
     "name": "stdout",
     "output_type": "stream",
     "text": [
      "Recenzja 1: \"Foxes\" is one movie I remember for it's portrayal of teenagers in the late 1970's. As I am exactly Jodie Foster's age, I related to this movie. It deals with the frustrations, temptations, relationships & rebellion of youth. The soundtrack is great with inspiring rock eg. \"More Than a Feeling\" by Boston and sad numbers like \"On the Radio\" by Donna Summer. The music of my late teens. Yep, I'll always remember this one, even if it wasn't huge.\n",
      "\n",
      "Recenzja 2: Besides the fact that my list of favorite movie makers is: 1)Stanley Kubrick 2)God Allmighty 3)the rest... this movie actually is better than the book (and the TV miniseries though this is an easy feat, considering the director). The flawless filming stile, the acting and (Kubrick's all time number one skill) the music - make it THE masterpiece of horror. I watched the TV miniseries a few years ago and liked the story and I had my hopes about this when I got a hold of it. IT BLEW ME AWAY!!! It is far better than I ever imagined it. It starts slow (Kubrick trademark) and has a lot of downtime that builds up the suspense. The intro scene is a classic by all means and I watched it about 20 times just for the shear atmosphere it induces to the whole film. Also the film doesn't offer a lot of gore (it has just enough and it is by no means tasteless) a trend that I hate in recent day horror films. Just watch it!\n",
      "\n",
      "Recenzja 3: My all-time favorite movie. Oscar-caliber work by everyone involved, both in front of and behind the camera. The screenplay is perfect, and works out the relationship between Lady Caroline and George Briggs in a completely satisfying way, unlike the novel. The care with which the other leading characters have been drawn is a tribute to screen writer Peter Barnes, and the intense visual beauty should have won Oscars for director Mike Newell and cinematographer Rex Maidment. It is Josie Lawrence's best work by far, and transformed my opinion of Joan Plowright. Having watched this movie at least 50 times, I can find no fault in it. The music, by famed composer Richard Rodney Bennet is a marvel.\n",
      "\n",
      "Recenzja 4: Listen, I don't care what anybody says, as Cypher is nothing less than a 5 star movie. Cypher is not, I repeat not, a B movie. Cypher is an absolute masterpiece. Suffice it to say, I am a connoisseur of the world's finest spy films and this film is nothing less than top flight. I cannot overemphasis how phenomenal this movie is. Cypher is one of the best spy movies ever conceived and ever made. The technology in this movie is over the horizon of spacetime. In fact, I must admit that Cypher completely surprised the hell out of me. In fact, I've recommended this movie to my colleagues more than any other movie. Other critics, of whom some downplayed the movie, have no idea as to what the hell they're talking about. Don't listen to the haters. And actually, for the most part, reviews of Cypher have been largely positive. And it should be noted that Cyher is not only a good movie, but it is also a fantastic movie. Cypher is the kind of movie that's so advanced and so magnificently crafted, that it's over the heads of most critics and all the cynics. There is nothing wrong with or cheap about Cypher whatsoever. Again, the cinematography, the backdrops, the technology, the storyline, and the acting are all 100% world-class top notch. Naturally, I won't give anything away. This is not a spoiler. And though it is the contention of some critics that Cypher should have been in movie theaters, I believe quite the opposite. Cypher is a movie that seems to have been just right for DVD release only and not in a bad way. Cypher has got to be the greatest underground spy flick ever to hit the shelves. Blade Runner, 1984, Brave New World, Total Recall, Logan's Run, Jason Bourne and Impostor and Deja Vu... look out! Cypher equally earns the distinction of being placed in the AONN Multimedia Research, 5 Star Eternal Spy Movie Hall of Fame. Cypher is counterespionage at it's absolute best. Hands down and hats off. Nothing is what it seems and truth is stranger than fiction. The future is now.\n",
      "\n",
      "Recenzja 5: This is one of the best ensemble comedy/musical \"B\" film's that I have seen (and since I'm in my 40's now and only seeing this now, I am not an expert but I have seen all the well known films out there). When there are a ton of actors getting their lead for minutes at a time, usually the comedy interferes with the musical bits, and very often the musical pieces interrupt the comedic flow. Call me in a crazy kind of mood but when I saw this on TCM Europe, I was laughing out loud with pleasure! So who delivered the laughs for me? Without a doubt Mischa Auer delivered me some terrific gut busting laughs, he even steals the ending, it was great! Speaking of which, I think why this movie works is because although L & H are a selling point (and why I got hooked to watch this one (them and Hal Roach), I love them in their early Hal Roach stuff), this keeps them at a minimum and stays squarely on ADULT fare (by 1930's standards, and not that far from today's standards if you read between the lines). Jack Haley is also great to watch, I admit that I only know him from W O OZ and I loved him there, and I also laughed out loud here at his waiter bit in the show. Patsy Kelly is the only \"ugly\" femme in the 30's movies that actually turns me on (something tells me she was a spitfire in real life); and the musical numbers have a real professional production (Busby Berkley'ish) quality, that blew me away from what I am used to in this genre. I could go on and on, but rest assured I really enjoyed this movie. 8 of 10 I saw it on TCM Europe and will record it to watch again with my wife on TCM USA. Good Stuff!\n",
      "\n",
      "Recenzja 6: Antonioni was aiming for another hip masterpiece, this time on the other side of the Atlantic than \"Blow up\". It wasn´t the success with critics and youth like the former though. Why? Maybe because it was a European´s view of America filled with clichés that didn´t work then and that have not aged well. (The revolutionary students at the beginning is embarrassing.)<br /><br />Maybe when it was released big blockbuster movies and those aimed specifically at the youth market seemed dated. If it had been released a year before maybe hippes in deserts would have seemed fresh... It´s a very interesting film tho, very beautifully shot with some brilliant and Antonionian scenes in between, like the love-making in the desert, the stillness of the desert mansion and the explosive ending... That the leads were two amateurs didn´t help. They were beautiful but inexperienced. Mark Freshette is slightly better than Daria Halprin. It would have been so much better with proper actors! Maybe Michelle Phillips or a young Jessica Lange... The dialog is actually quite funny and poignant at times, tho you wouldn´t know the way the lines are delivered...<br /><br />A very intersting document of the late sixties definitely worth a look for the photography and the soundtrack....\n",
      "\n",
      "Recenzja 7: Audiences back in 1936 must have been stunned at what they were watching: a full-fledged, beautiful full-length Technicolor film. I can't say for sure, but this might have been the first one (3-strip). At any rate, it still looks beautiful over 70 years later on DVD. In fact, just how good it looks is amazing.<br /><br />Kudos for that have to go out to Director Richard Boleslowski, Director Of Photography Virgil Miller, Selznick International Pictures and, for the DVD - MGM Home Entertainment. All of them combined to give us one of the best-looking films of the classic-era age.<br /><br />I thought the story was so-so: excellent in the first half, stagnant in the second. It gave a nice message in the end, even though a lot of people might not have been happy with it. I can't say more without spoiling things.<br /><br />Marlene Dietrich never looked better, I don't believe, and certainly never played such a soft-hearted character (\"Domini Enfilden\"). Heart-throb Charles Boyer was the male star and Domini's object of affection, but some of the minor characters were the most interesting to me. People like Joseph Schildkraut as \"Batouch;\" John Carradine as \"The Sand Diviner;\" The most memorable, to me at least, was the dancer \"Irena,\" played by Tilly Losch. Wow, there is a face and a dance you won't soon forget! I've never seen anything like it in the thousands of films I've viewed. Just seeing her do her thing was worth the price of the DVD. Looking at her IMDb resume, she was only in four movies, but they were all well-known films.<br /><br />Basil Rathbone, the actor who really became famous for playing \"Sherlock Holmes,\" also is in here as is C. Aubrey Smith, another famous British actor of his day. Schildkraut, by the way, will be recognized by classic film buffs as the man who played the arrogant sales clerk in the big hit, \"The Shop Around The Corner,\" with Jimmy Stewart and Margaret Sullivan.<br /><br />The beautiful direction, photography and color, and Tilly's dance, are the things I'll remember best about this movie which is a lot of good and not-so-good things all rolled into one. Had the last half hour been better - although I admire the ending - I would have rated it even higher. It's definitely one film collectors want to add to their collection.\n",
      "\n",
      "Recenzja 8: Wow! I loved this movie and LOVE Judy Marte!! This girl isn't just an awesome pretty face, she's funny and really really talented!! She made me laugh many times just by being very naturally rough with Victor who was desperately hitting on her! We'll be seeing her a lot in the next coming years... and probably also from director Peter Sollett and co-star Victor Rasuk!<br /><br />Raising Victor Vargas is one of the best film I saw in a long time! Very refreshing! It's true, nice, funny, well filmed, it got it all : good story, good actors, good film direction!<br /><br />If you like simple, slow paced, real life, urban movies, like maybe Jersey Girl from Kevin Smith, you'll love Victor Vargas! It's better!\n",
      "\n",
      "Recenzja 9: -me and my sister have right now watch that movie. we have laugh to the deaf. can u imagine on covers there is nomination for Oscar?? --first, musician have mix about 4-5 different style of music... and the music is not synchronized with the scenes and the character moves...<br /><br />---main character Silvester do not fit in there. he look like Mexican Tarzan.<br /><br />----Russian soldiers are everything but not Russian faces :-) -----ok, the main points: 1. airplane called charter painted in black...<br /><br />2. what is an idea when Rambo go to jump from the airplane, but he stuck? rope mix 3. a Girl? the best scene is when she dies. She means a lot to him. he knows her for ages? he cries for her, ... o my god samurai 4. how many arrows is he got? his arrow bag is always full of the arrows? i didn't notice a scene where he collect them - but i have seen the scene where arrow stay in the Vietnam solder head - that is very important 5. how many rockets helicopter can hold??? (real one) i have seen 4. but Rambos have hit about 20 of them.<br /><br />6. the main part. what the Russian special army helicopters do in Vietnam????????? after the war? 7. first scene when he enter into Vietnam's camp... his first idea was to liberate the refuge who is standing on the tree on the open space' wow, what an idea than again: 1. with the knife u can cut the iron wire? maybe only made in Vietnam? 2. mortar - using for hit one running man? o my god, u Americans really need to learn about the weapons! do u know how much it takes to calibrate the mortar (i think writer have been watching to much movies from II world war)\n",
      "\n",
      "Recenzja 10: THE SHOP AROUND THE CORNER is one of the sweetest and most feel-good romantic comedies ever made. There's just no getting around that, and it's hard to actually put one's feeling for this film into words. It's not one of those films that tries too hard, nor does it come up with the oddest possible scenarios to get the two protagonists together in the end. In fact, all its charm is innate, contained within the characters and the setting and the plot... which is highly believable to boot. It's easy to think that such a love story, as beautiful as any other ever told, *could* happen to you... a feeling you don't often get from other romantic comedies, however sweet and heart-warming they may be. <br /><br />Alfred Kralik (James Stewart) and Clara Novak (Margaret Sullavan) don't have the most auspicious of first meetings when she arrives in the shop (Matuschek & Co.) he's been working in for the past nine years, asking for a job. They clash from the very beginning, mostly over a cigarette box that plays music when it's opened--he thinks it's a ludicrous idea; she makes one big sell of it and gets hired. Their bickering takes them through the next six months, even as they both (unconsciously, of course!) fall in love with each other when they share their souls and minds in letters passed through PO Box 237. This would be a pretty thin plotline to base an entire film on, except that THE SHOP AROUND THE CORNER is expertly fleshed-out with a brilliant supporting cast made up of entirely engaging characters, from the fatherly but lonely Hugo Matuschek (Frank Morgan) himself, who learns that his shop really is his home; Pirovitch (Felix Bressart), Kralik's sidekick and friend who always skitters out of the room when faced with the possibility of being asked for his honest opinion; smarmy pimp-du-jour Vadas (Joseph Schildkraut) who ultimately gets his comeuppance from a gloriously righteous Kralik; and ambitious errand boy Pepi Katona (William Tracy) who wants nothing more than to be promoted to the position of clerk for Matuschek & Co. The unpretentious love story between 'Dear Friends' is played out in this little shop in Budapest, Hungary, in which Kralik's unceremonious dismissal and subsequent promotion to shop manager help the two lovebirds-to-be along. It's nice that everyone gets a story in this film; the supporting characters are well-developed, and Matuschek's own journey in life is almost as touching as the one Alfred and Clara share. His invitation to new errand boy Rudy (Charles Smith) for Christmas Eve dinner, made in the whirling, beautiful snow of a Hungarian winter, makes the audience glad that he is not alone; we come to care even for the characters whose love story it isn't this film's business to tell. <br /><br />Aside from the love story, I must say that James Stewart is truly one of the best things about this film. He doesn't play the full-fledged Jimmy Stewart persona in this film (c/f 'Mr Smith Goes To Washington' for that); in fact Alfred Kralik is prickly and abrupt and not particularly kind. He's rather a brusque man, in fact, with little hint (until, perhaps, the very end) of the aw-shucks down-home boyish charm Stewart would soon come to patent. When he finds out before Clara that they have been corresponding in secret, in fact, Kralik doesn't 'fess up--he waits it out to see how far he can take the charade, especially since he quickly realises (given his stormy relationship with Clara as boss and underling) that loving the person he knows through the exchanged letters might not equate with loving the person herself. His description to Clara of the fictional Matthias Popkin (what a name!) who was to become her fiance is hilarious in the extreme, but also his way of proving that the letters don't reveal all there is to a man, just as her letters don't reveal all there is to her. Stewart plays this role perfectly--he keeps his face perfectly controlled whenever Clara insults Mr. Kralik, as she is often wont to do, even (and especially) to his face. And yet one believes, underneath the brusqueness and professionalism, that he *could* reveal his identity with as much earnestness and sincerity and sheer *hope* as he eventually does. <br /><br />Special mention must be given to the other members of the cast as well. Margaret Sullavan fares rather less well in the first half of the film, but she really comes into her own in the closing-shop scene on Christmas Eve, when she almost gets her heart broken again by Alfred's most vivid description of her mailbox sweetheart. Frank Morgan turns in a great performance as the jealous Hugo Matuschek driven to nervous breakdown, the man who has to rediscover his meaning in life when he realises that his wife of 22 years does not want to 'grow old with him'. And Felix Bressart plays the role of the meek but loyal Pirovitch wonderfully (a Lubitsch regular, since he appears as a hilarious Russian ambassador in NINOTCHKA)--of particular note is the scene in which he helps his good friend Alfred get the Christmas present the latter *really* wants... a wallet instead of that ludicrous cigarette box Clara is so hung up on. <br /><br />Ernst Lubitsch really does himself proud with this film--for example, the famously lavish and meticulous care given to detail in the creation of the Matuschek shop is well worth the effort, right down to the Hungarian names on the door, the wares and the cash register and so on. But even though Lubitsch chose to have the story set in Hungary, the setting is actually universal: it could happen anywhere; it could happen to you. Therein lies the charm of this simple story, these believable characters who really *are* people. The snow on Christmas Eve is real as well, or at least as real as Lubitsch could make it (he had snow machines brought in at great expense). It is this desire to make everything appear as real as possible that helps make the story even more believable, that gives this entire film a dreamy realism that cannot be replicated. (No, not even in a remake like YOU'VE GOT MAIL.) <br /><br />*This* is really the Jimmy Stewart Christmas film that people are missing out on when they talk about IT'S A WONDERFUL LIFE. Not to detract from the merits of that other film, but there'd be no harm, and in fact a lot of good, done in watching THE SHOP AROUND THE CORNER this Christmas instead. It's sweet, funny, charming, and Stewart is impeccable in his role. We should all be so lucky as to have the romance depicted in this film; the best thing about this film is that we come away from it feeling that we very possibly could.\n",
      "Odpowiedź:  Na podstawie podanego kontekstu, najłepszy soundtrack może być przypisany do filmu \"Foxes\". Recenzent, który widział ten film, pochwalił muzykę jako inspirującą, a także wymienił konkretne utwory takie jak \"More Than a Feeling\" przez Boston i \"On the Radio\" przez Donna Summer. Dodatkowo, recenzent powiedział, że muzyka z filmu była muzyką jego późnych lat nastoletnich, co również świadczy o emocjonalnym związku recenzenta z tym soundtrackiem.\n",
      "Ocena odpowiedzi: Oceniając odpowiedź na skali od 1 do 10:\n",
      "\n",
      "7. Jest umiarkowanie trafna i spójna z podanym kontekstem.\n",
      "\n",
      "Komentarz:\n",
      "Odpowiedź ta bezpośrednio odnosi się do recenzji pierwszego filmu (\"Foxes\"), który został określony jako mający świetną ścieżkę dźwiękową przez recenzenta. Jednak:\n",
      "\n",
      "1. Model nie uwzględnił bezpośrednio innych filmów i recenzji, które oferowały inne kandydatury do tytułu najlepszego soundtracku.\n",
      "2. W kontekście można znaleźć inne przykłady chwalonego soundtracku, np. w recenzjach \"Psychozy\" Alfreda Hitchcocka lub \"Chariots of Fire\" Johna Singtona.\n",
      "\n",
      "Aby odpowiedź była pełniejsza, model powinien porównać soundtracki wielu filmów i rozważyć ich wpływ na odbiór danego obrazu przez recenzentów oraz ich emocjonalne skojarzenia z muzyką filmową. Uwzględnienie szerszego kontekstu pozwoliłoby na lepszą ocenę i wybór najlepszego soundtracku.\n"
     ]
    }
   ],
   "source": [
    "user_query = \"Which movie has the best soundtrack?\"\n",
    "response, context = handle_query_with_rag(user_query, model_rank, model_id=\"mixtral-8x22B\", k=10)\n",
    "print(\"Odpowiedź:\", response)\n",
    "\n",
    "evaluation = evaluate_response_with_llama(user_query, context, response, model_id=\"bielik\")\n",
    "print(\"Ocena odpowiedzi:\", evaluation)"
   ]
  },
  {
   "cell_type": "code",
   "execution_count": 16,
   "metadata": {},
   "outputs": [
    {
     "data": {
      "application/vnd.jupyter.widget-view+json": {
       "model_id": "0f591a88324f4b2a9930083336332d59",
       "version_major": 2,
       "version_minor": 0
      },
      "text/plain": [
       "Batches:   0%|          | 0/4 [00:00<?, ?it/s]"
      ]
     },
     "metadata": {},
     "output_type": "display_data"
    },
    {
     "name": "stdout",
     "output_type": "stream",
     "text": [
      "Recenzja 1: And this somebody is me. And not only me, as I can see here at IMDb or when leaving the theater. Why did the people love it? It's obvious: Everybody knows zombies by now (at least the Horror fans by heart and the others through the \"Dawn of the Dead\" reinvention or Resident Evil movies etc.) <br /><br />Or at least they thought they knew everything about zombies ... that is until this movie came along. And you'll see zombies in a new light (perhaps). This is not a horror movie, although it does contain some violent scenes, but is rather a comedy. A satire to be precise. And it never runs out of steam! That is why I rated it so high. Pacing wise it's incredible, the acting is great and the script has no (obvious) mistakes ... quite the contrary: It's a gem and if you're only a little bit interested in zombies you ought to see it! And even if you dislike them, watch it! Because it's a great (comedy) movie!\n",
      "\n",
      "Recenzja 2: When I found the movie in the schedule for Christmas, its title did not sound familiar to me since I have not read the novel and had not heard anything about the film. Yet, having read the content, I decided to spend my Christmas evening on watching the movie. The effect surprised me totally: I do not remember when I last saw a film in which every single moment involved me. A VOW TO CHERISH is, without any doubt, one of the movies that now constitutes a real surprise I have received from cinema. Here are some arguments of mine why I consider this film a highly underrated piece of good cinema. <br /><br />First, the entire content is particularly educational. It has something to offer to the modern audience - pure right faith and some answers for the universal questions. Is there a need for Christ in our times? Does Love still matter? What for is there faith? What is the logics of burden and suffering in life? Is there really Someone by my side I can always trust? The movie provides the answers through the content since all that happens to the characters may as well happen to any of us.<br /><br />Second, the movie is exceptionally humane. The main characters experience inner struggles and cope with extremely hard decisions. Is it better for Kyle David Denman) and Teri (Megan Paul) to start their own lives and forget about the family or retain the values they were taught at home? Is it better for John (Ken Howard) to leave Ellen (Barbara Babcock), his sick wife, and start a new happy life with Julia (Donna Bullock), a woman he falls in love with? In fact, Ellen no longer recognizes him... Yet, he decides to vow HIS WIFE eternal fidelity. Had John's rebellious brother, Phil (D. David Morin), better go on his easy life although it does not bring him satisfaction or once start to think seriously of his life. Phil's prayer to God in the park is a psychological masterwork of universal aspect of humanity. These words could be as well said by everybody no matter of where, when or how they live.<br /><br />Third, the movie is a great portrayal of family, not very popular nowadays: there are problems, yet, there is always something more powerful that gets these people together. This \"something\" is love and trust. I know that it may seem a bit idealistic. Not all families can rely on fidelity and it may not be as simple as that. Nevertheless, it is a very educational aspect and a realistic one.<br /><br />Fourth, the entire film focuses on people's mutual help. If we want to live happy lives in our society, we must understand one thing: we have to help one another. Alexander (Ossie Davis) is an example of such attitude. At the beginning of the movie, we see him talk to John about praying. Later, he helps his brother. Alexander is a kinda \"angel\" that is sent to John and his family. Isn't it possible that we may become angels to one another?<br /><br />Fifth, the artistic features are also worth attention. PERFORMANCES: Barbara Babcock gives an authentic performance as Ellen and although she has a difficult role, she does a perfect job. Consider, for instance, the moment she appears at school and badly wants to teach again. Ken Howard is also memorable as the faithful husband. PICTURE: The most memorable for me was the scene of John and Ellen in the park walking on the fallen leaves (autumn) while the sunshine (love) spreads everywhere. I interpreted as a sort of symbol: even if there is sorrow, this can always be illuminated by light and joy...<br /><br />A VOW TO CHERISH is a wonderful movie that realistically showed to me what it means to love, what fidelity is as well it once again proved to me how beautiful it is to live and believe. At the end, I would like to quote the profound words from the movie I found very touching and hope you will also do <br /><br />Kyle to his uncle Phil: Yes, he (John Brighton) lives according to the Bible. But nobody forces you to do so. Yet, according to what rules do you live?\n",
      "\n",
      "Recenzja 3: If you havn't seen this movie I highly recommend you do.It's an excellent true story.I love Alison Lohman she is so talented side note: I also loved her in 7th heaven.The whole story line is amazing and the way they chose there characters waz awesome. The acting in this film is<br /><br />very awesome.\n",
      "\n",
      "Recenzja 4: Dreary. Schlocky. Just plain dreadful and awful. Let's be honest, when you sit down to watch something called The Double-D Avenger you aren't expecting great art or even mild mainstream entertainment. You are probably expecting a cult film type and maybe get some good looks at some impressive busts. You don't get really either of these in the video. The story, as it consistent with most of these types, is inane: Kitten Natividad runs a local pub, finds out she has breast cancer, flies down to South America for a fruit that claims to be a panacea for any ills and a super-human abilities giver, returns and fights, dressed as the Double-D Avenger, a group from a local strip club wanting to edge out the competition. As stories go, I have seen a lot worse, but as another reviewer noted the execution is horrendous. The action sequences lack zip, drive, motivation, and are tissue thin. The acting isn't even properly campy and the dialog is the pits. Nothing, and I mean NOTHING is funny from the wincing puns to the heavy-handed boob references. All could be forgiven if the girls could make up for it, but they all fall way short. Kitten, Haji, and Raven de la Croix are all quite older(still lovely in their own ways) yet expose nothing and become the antithesis of what they are trying to be: older, campy caricatures of their former selves. Instead, they look so lame and desperate - more because of the vehicle they are \"starring\" in rather than their own abilities. There are some other lovely ladies, but you really do not see much of anything. PG -13 definitely could be an appropriate rating for this. The material, the actresses, and director are all tired, tiresome, and dated - and again - NOT FUNNY! It was a brutal hour plus sitting through this, and that is a shame as I was expecting something campy and fun. The guy playing Bubba by the way was the only real laugh for me. Not that he was good at all mind you, but every time he opened his mouth I kept thinking how truly awful he was. The lone bright spot here at all is seeing Mr. Sci-fi himself, Forrest J. Ackerman, play the curator of a wax museum and chatting to his wax Frankenstein affectionately called Frankie. Other than that this is a complete bust - now how is that for another tired, dreadful, trite pun!\n",
      "\n",
      "Recenzja 5: This movie's one of my favorites. It's not really any good, but it's great to laugh at. The dialogue can become incredibly ludicrous and poorly acted (eg, \"Manji, can we ask you a few questions?\" \"Sure.\" \"We think you can help us with the answers.\") Any fighting is more or less surrealistic. Make sure to watch for Brock, the oafy white guy who attacks the main characters. He only has two lines, but he's one of the best guys in the movie!\n",
      "\n",
      "Recenzja 6: \"Toi le Venin\" is Robert Hossein's masterpiece,and one of the great thrillers of the fifties.Based on a Frederic Dard novel,a writer the director often worked with (see also \"le Monte-Charge\" which Hossein did not direct but in which he was the lead too),the screenplay grabs you from the first pictures on a desert road by night where a beautiful blonde might be the fieriest of the criminals to the mysterious house where he finds his femme fatale ..and her sister.Then begins a cat and mouse play .One of the sisters is in a wheelchair .But is she really disabled?Which one is the criminal who tried to kill the hero on that night? <br /><br />The two actresses,Marina Vlady and the late Odile Versois were sisters.<br /><br />Turn off all the lights before watching.Highly suspenseful.\n",
      "\n",
      "Recenzja 7: I didn't think this was as absolutely horrible as some people apparently do. It passes as one of those cheesy horror movies you might waste time with in the middle of the night when you can't sleep, although admittedly it's no better quality than that. It's true that the acting isn't great - I thought Marianne McAndrew as Cathy Beck, for example, came across as completely passionless - but the main problem is that several aspects of the plot didn't really make sense to me. The Becks are on a trip described by John (Stewart Moss) as part work and partly the honeymoon they never had (now that's romantic!) The work part has something to do with touring caves, which in itself sounds strange (how does being part of a tour group through a cave relate to anyone's work?) but it gets stranger when we find out that he's a doctor doing research in the area of preventative medicine (huh? That connection completely lost me.) Bitten by a bat while he's in the cave, he begins to transform into what I guess was supposed to be a human-bat hybrid (although when we finally see him in makeup he looks a lot more like an ape-man of some sort) and a killing spree starts. Here's another problem. The first killing is a nurse in a hospital. At first, everyone thinks her death was an accident. The second murder is of a young girl, who is described as having her throat ripped out. The sheriff (Michael Pataki) then tells us that her death was similar to the nurse's (meaning throat ripped out? - How could anyone think that was an accident?) And what's with the sheriff? He seems pretty no-nonsense until the scene in Cathy's hotel room when he takes a swig of liquor and then almost rapes her, after which everything seems to go back to normal. It's saddled with an ending that left almost everything unresolved, and also with one of the most irritating theme songs I've ever heard in a movie. Even for all that, there was something here that kept me watching. Sometimes pure cheesiness can get you through an hour and a half. Pretty bad, yeah - but not as awful as some people say.\n",
      "\n",
      "Recenzja 8: Edmund Burke said that \"all evil needs is for good me to do nothing.\" Hollywood often gives us trash because not enough families go to see quality films. This movie was uplifting story of the loss and restoration of faith. It had no violence, no lewdness, and did not deserve a PG rating. The western scenery was filmed well, and some of the vistas were simply breathtaking. Actors were a bit young for their parts, but otherwise believable and talented. Music score was too loud, and in some places drowned out the dialog completely. I'm seldom surprised by movie endings any more, but I was pleasantly surprised by this one. Sometimes the good guys do win, and they win by honest efforts. We liked the movie and the message, and would recommend it for the entire family.\n",
      "\n",
      "Recenzja 9: Back in the days before the Toxic Avenger, the low-camp kings at Troma Films tried to take the high (OK, somewhat-less-low) road of producing straight slasher pics. I'd like to think that viewing the results here is what convinced them to give up all pretension and go for self-conscious parody.<br /><br />Splatter University is another film for the masochists in the audience. As it meanders about through two separate casts and innumerable pointless subplots, it actually becomes painful to watch. Let's see if I can summarize.<br /><br />After learning that a dangerous psychopath has escaped from a local hospital, the action moves to a Catholic university (I don't recall the name, but in honor of the title, let's call it St. Splatter). The students are listless and sullen, and argue pettily with each other, slackers ahead of their time. Meanwhile, the new professor, Julie Parker, proves utterly incompetent at her job. The kids deal with relationships, infidelity, unwanted pregnancies, lecherous priests, and how to avoid doing any work in class; Julie deals with a creepy boyfriend, the inflexible administration at St. Splatter, counseling unwed mothers, and the blank, expressionless looks of her students. None of it means a darn thing or gets resolved in any meaningful way. Oh, and every once in a while, a POV shot comes along and stabs one of the girls to death, but don't hold your breath waiting for it. There's a Red Herring Killer, and then a sadly anticlimactic confrontation with the Real Killer, then it's back to the asylum and roll credits.<br /><br />The slow pace and numerous inane subplots seem almost calculated to produce a mounting sense of frustration in the viewer, which is helped along by choppy editing, coffee-can sound quality, and dialog that just doesn't make any sense. And the most agonizing thing about this movie is the killer's fixation on women - the men in this movie are just so deserving. I'd've paid good money to see someone off the jerk with the pregnant girlfriend, or the lunkhead Lothario who was fooling around with his girlfriend's roommate, or any of the creepy priests. There ain't no justice.\n",
      "\n",
      "Recenzja 10: Samuel Fuller is an interesting filmmaker, mainly because he had some very inconsistent politics in his films. While \"Shock Corridor\" and \"The Naked Kiss\" represented the hypocrisies and lunacy of America and \"The Big Red One\" was an effective portrait of the horrors of war, \"Merrill's Marauders\" painted war as necessary hell and \"Pickup on South Street\" is about the dangers of communist spies. All of his films make for very entertaining viewing, and even though he was often pigeonholed as a b-filmmaker, Fuller was just as good as any of the major studio contractors. \"Pickup on South Street\" is no exception, and despite the dated themes, the film-making style is remarkably ahead of its time. Its also a very quickly-pace, tight, and occasionally brutal film noir.<br /><br />The acting across the board is fantastic. Richard Widmark makes for a great anti-hero and Jean Peters is quite sexy as a girl who works for her communist spy boyfriend. The show stealer is Thlema Ritter however, in an absolutely delightful performance as a police stoolie. The angles Fuller employs are great, making the acting sequences all the more exciting and brutal (this is very violent for its time). The camera continuously moves around just as Tarantino and his school would do forty years later. \"Pickup on South Street\" is a great action-paced noir thriller. \"Shock Corridor\" remains my favorite Fuller film, but this is a very close second. (8/10)\n",
      "Odpowiedź:  Na podstawie dostępnego kontekstu mogę polecić \"Toi le Venin\", opisany jako jeden z najlepszych thrillerów lat pięćdziesiątych. Film jest oparty na powieści Frederica Darda, a jego fabuła to rozgrywka w stylu kot i mysz z udziałem dwóch sióstr, z których jedna odgrywa rolę fałszywego inwalidy. Recenzent zwraca uwagę na \"ekscytujący scenariusz\" i chwali \"wciągający charakter filmu\". Ponadto, zaleca obejrzenie filmu w ciemności, aby jeszcze bardziej podnieść napięcie i ekscytację.\n",
      "Ocena odpowiedzi: Ocena: 7\n",
      "\n",
      "Komentarz: Odpowiedź \"Toi le Venin\" wydaje się być umiarkowanie trafna dla fanów psychological thrillerów, biorąc pod uwagę jej polecenie jako \"jeden z najlepszych thrillerów lat pięćdziesiątych\" oraz opis fabuły jako \"rozgrywki w stylu kot i mysz\". Model odnosi się także do pozytywnych recenzji dotyczących ekscytującego scenariusza i wciągającego charakteru filmu. Niemniej jednak, odpowiedź nie zawiera informacji, które wyraźnie wskazująby na elementy psychologicznej narracji, co mogłoby sprawić, że rekomendacja byłaby bardziej precyzyjnie dopasowana do preferencji entuzjastów tego gatunku. Poprawa: By lepiej dopasować polecenie do pytania o psychological thrilers, odpowiedź mogłaby zawierać szczegóły dotyczące głębszej analizy postaci, złożonych motywacji bohaterów oraz subtelnych strategii manipulacji psychologicznej, które często występują w tym gatunku. Informacja o możliwości obejrzenia filmu w ciemności dodaje pewien poziom zaangaż\n"
     ]
    }
   ],
   "source": [
    "user_query = \"Can you recommend some great movies for fans of psychological thrillers?\"\n",
    "response, context = handle_query_with_rag(user_query, model_rank, model_id=\"mixtral-8x22B\", k=10)\n",
    "print(\"Odpowiedź:\", response)\n",
    "\n",
    "evaluation = evaluate_response_with_llama(user_query, context, response, model_id=\"bielik\")\n",
    "print(\"Ocena odpowiedzi:\", evaluation)"
   ]
  },
  {
   "cell_type": "code",
   "execution_count": 17,
   "metadata": {},
   "outputs": [
    {
     "data": {
      "application/vnd.jupyter.widget-view+json": {
       "model_id": "4f1ee9b77fc14be4a6849a6da0bb8f2b",
       "version_major": 2,
       "version_minor": 0
      },
      "text/plain": [
       "Batches:   0%|          | 0/4 [00:00<?, ?it/s]"
      ]
     },
     "metadata": {},
     "output_type": "display_data"
    },
    {
     "name": "stdout",
     "output_type": "stream",
     "text": [
      "Recenzja 1: As we all know a romantic comedy is the genre with the ending already known. The two leads always have to get together. Late in the third act I was trying to figure out how this will wrap up and how they will end up together. A clue was given right from the start, but you'll never realize it until the end. It's a simple hook, but it works. It Had To Be You cover a lot of the usual ground, but takes a fresh spin when ever possible. I liked all the NY characters and I loved the locations. It's a postcard of NY. Also it was nice to watch a film and not find anything offensive in it. So, if you like a good old fashion romantic movie ... then this is for you.\n",
      "\n",
      "Recenzja 2: Finally a thriller which omits the car chases, explosions and other eye catching effects. The movie combines a simple plot (assasination of a french president) with an excellent background. It takes a look behind mans behavior with authorities, and explains why we would obey almost every order (even murder) which would be given to us.<br /><br />Furthermore it shows us how secret services can manipulate the run of history and how hardly they can be controlled. The best thing on this movie is, that there is no classic \"Hollywood end\" which can easily be predicted.\n",
      "\n",
      "Recenzja 3: Don't get me wrong - I love David Suchet as Poirot. I love the series as well as the movies but enough already re: Death On The Nile. Everyone has done this one! We know who dies. We know why they die. We know who the killer is. We know how it was done. So I say enough already! Mr. Suchet could have used that awesome talent in another one of Agatha Christie's novels. I will say that the acting by all the actors was superb. The sets were terrific and very realistic. I especially liked David Soul but I was surprised at how 'awful' he looked. I hope he doesn't look that way in 'real' life! I honestly can't remember from other movies whether the very end was the same. Somehow I don't think so. I thought that was a rather brilliant touch whether or not Ms. Christie wrote it that way. I would much rather have that ending then wasting away in prison!\n",
      "\n",
      "Recenzja 4: Another outstanding foreign film which thoroughly trounces the never-ending crop of crud emanating from Hollywood! This is a story of life and living. No, definitely not the perfect little life so often depicted in the totally artificial Hollywood movies but rather, the real life complete with real characters each with strengths and weaknesses just like real people in our lives and ourselves.<br /><br />The dynamics of all of these lives, intertwined within the walls of this bathhouse, and particularly its aged owner, are magnificent, heart touching and highly thought provoking.<br /><br />Sit back, relax, and be carried away into the simple and beautiful life. There is real wisdom to be learned in this movie if you only open yourself up to it.<br /><br />You will not be disappointed.\n",
      "\n",
      "Recenzja 5: 'Before the devil knows you're dead' is one of the best movies I've seen in a<br /><br />long time. The acting from<br /><br />the excellent ensemble cast is incredible. Philip Seymour Hoffman putting in an outstanding performance and is electrifying every time he's on screen. Ethan Hawke matches him scene for scene and Albert Finney simply chews up the screen. Marisa Tomei is, however,<br /><br />criminally underused, but looks amazing for her 42 years. The script is excellent, the story-line non-linear but easy enough to follow. Sidney Lumet, although not known for his blockbusters, has turned out a gem with this one!\n",
      "\n",
      "Recenzja 6: John Water's (\"Pink Flamingos\"...) \"Pecker\" is the best movie I've seen in a while. It gives the viewer a surreal image of life in Baltimore (I live in nearby Washington, DC), with a Warhol-like use of color, exaggerated motions and emotions. Pecker becomes larger than his town can handle, and he is separated from his loved-ones (including a sexy Ricci) by his man-loving art manager. The picture left a refreshing taste in my mouth--kind of like a fresh strawberry ice cream on a hot summer day--and though this taste was rather flat and simplistic, it only made the whole thing more profound and critical. It is a celebration of life, liberty, and the right to bear arms...and everything else this country stands for. -Juan Pieczanski (jpieczanski@sidwell.edu)\n",
      "\n",
      "Recenzja 7: This afternoon we took the kids to the movies and saw Neil Gaimans Stardust and all I can say is Wow.<br /><br />It is rare that I am completely taken aback by anything but this is quite possibly the greatest fantasy movie I have ever seen, maybe even the best movie of any kind and it is all Neil Gaiman's fault.<br /><br />Sure, I could have been sucked in by the wonderful dialog which was smart, flowed smoothly,and made the characters completely believable.<br /><br />I could go on for days about the spectacular acting, Charlie Cox is perfect as Tristan, Claire Daines is Brilliant as Yvaine, and Robert Di Nero almost steals the movie as the Deeply in the Closet Pirate Captian Shakespeare.<br /><br />The pure joy brought about by the humor which managed to be Laugh our Loud funny, Intelligent enough to make the first Shrek look like an 80's Sitcom, and blend in perfectly with the rest of the movie alone would have made this a great movie.<br /><br />Special Effects were near perfect, true this was no LOTR or Star Wars SF Extravaganza but where they were use they were exactly what was called for, not too much to distract you from the movie itself and blended into the story perfectly.<br /><br />Then there is the story? What can I say. How often do you come across a story containing all of the classic fairytale formula components that doesn't just come off as another cheap Princess Bride knockoff. It manages to be Familiar and comfortable and yet completely new and refreshing at the same time.<br /><br />Any one of those things would have made this a good movie, all of them combined make it a great movie but they pale in comparison to the rich enchanting world that those elements combine to bring to life well. Once again Neil Gaiman has done it, he has driven another dagger into my heart by creating a world of fantasy that is so beautiful and enchanting that I would do almost anything to live in it and only given me a short glimpse into it. I didn't want it to end, I wanted to be sucked through a vortex to the land of Stormhold and get to meet Tristan and Yvaine in person, to travel it's fields and valleys, Stroll through it's marketplaces and meet it's residents both dangerous and friendly and stay there forever. It is a feeling that I have noticed whenever I have read anything by Gaiman, The Sandman, American Gods, Coraline all left me with a deep sense of sadness when I finished reading them because it was over, I could not see anything more into the worlds he had created which seemed to be so much more vibrant and alive than the one I am forced to live in and watching Stardust was no different.<br /><br />In the end I'm sure that Neil's writing and this movie won't have the same effect on everyone but trust me when I say you will not regret the time or money spent watching this movie, it is easily one of the top 5 movies I have ever seen and I can guarantee that anyone at all with a soul will at least like it.\n",
      "\n",
      "Recenzja 8: i really loved this version of Emma the best. Kate beckinsale was awesome as Emma and mark strong was very good as knightly. the only complaint that i had was on Mr. woodhouse..i can't believe that a man could whine so much or be so selfish with his daughter's life..she was a smart girl in the end though. as always, i love the places in which these Jane Austin movies were shot. the settings are so spectular. it makes me want to visit england so much 9as well as Ireland and Scotland) i think the actors chosen for this movie were a good choice as well and all the other story lines interwhined with Emma's most excellently! i am glad that i got to see this one as well.\n",
      "\n",
      "Recenzja 9: Allen and Julie move into a cabin in the mountains after their daughter is murdered one night. No one knows who killed the little girl but it's why they moved to the mountains. So the couple moves into this cabin and it's haunted by people who killed themselves there and no one in the nearby town wants to talk about it.<br /><br />This movie has a lot of creepiness to it and it has a lot of parts that made me jump. Some of the parts are predictable but once in a while there is a part I didn't expect. It was a pretty good movie that wasn't the scariest movie in the world but it was still scary enough to make it pretty good.<br /><br />I also liked the ending because it left the viewer to decide how it ends. It is also kind of a sad movie as well but a well done horror movie.\n",
      "\n",
      "Recenzja 10: Madhur Bhandarkar goes all out to touch upon taboo issues and gives the most realistic picture of the modern society. One gets the impression of the director even from his earlier movies like Satta and Chandni bar. The issues just hinted on in the latter movie are explored and exposed in totality here. The casting is amazing and one can see the judgements on each scene from many angles. Mostly, the movie leaves you wondering on lots of facts around. As you start guessing the things, you end up at most being close, but missing the mark in many a scenes. It leaves a lasting impression in the end.<br /><br />Actors to watch are Konkana Sen Sharma, Boman Irani & Atul Kulkarni among others. The dialogues are well written and you feel you've lived around some of these people. There are still some scenes that make you think of more depths. The songs are in the background saving time and Lata's voice in a very meaningful song \"Kitne Ajeeb\" leaves you feeling you're left all alone in the midst of the modern society!\n",
      "Odpowiedź:  Na podstawie analizy podanych recenzji, można wskazać kilka filmów, które według opinii ich widzów mają dobre zakończenia.\n",
      "\n",
      "Zawarte we wskazaniach jest opis końcówek filmów \"It Had To Be You\" i \"Pecker\". Ten pierwszy jest filmem romantycznym, który zdaniem recenzenta ma świetne i nieprzewidywalne zakończenie, które wynika z podpowiedzi danej już na początku. Drugi film \"Pecker\" autor recenzji opisuje jako mający nieprzewidywalną koniec, który jest \"prawie tak piękny jak świeża truskawkowy lód w gorący letni dzień\".\n",
      "\n",
      "Można także wspomnieć o filmie \"Stardust\", w którym recenzent wskazuje na to, że końcowy vygląd jest mocno pożądany, ponieważ widzowie by chcieli sami wejść do świata filmu i poznać jego bohaterów.\n",
      "\n",
      "Inny film, który wyróżnia się dobrym zakończeniem, to \"Emma\". Recenzentka wskazała na to, że końcowy vygląd jest mądry i zadowalający.\n",
      "\n",
      "W ostateczności, n\n",
      "Ocena odpowiedzi: Oceniam odpowiedź jako 8/10. Jest to bardzo trafna i spójna odpowiedź, która czerpie bezpośrednio z analizy podanych recenzji. Model dobrze identyfikuje kluczowe aspekty zakończeń poszczególnych filmów, wskazując na ich nieprzewidywalność i urok.\n",
      "\n",
      "Kilka potencjalnych obszarów udoskonalenia:\n",
      "\n",
      "1. Szerszy zakres filmów: Odpowiedź mogłaby być jeszcze lepsza przez rozszerzenie listy dobrych zakończeń, uwzględniając też filmy wspominane w pozostałych recenzjach.\n",
      "\n",
      "2. Bardziej szczegółowe uzasadnienia: Uzupełnienie opisów każdego filmu o konkretne przykłady, które ilustrują, dlaczego dane zakończenie jest uważane za tak dobre, mogłoby wzmocnić przekaz odpowiedzi.\n",
      "\n",
      "3. Więcej kontekstów gatunkowych: Zawarcie informacji o różnorodności stylów i rodzajów dobrego zakończenia (np. tragiczne, zaskakujące, satysfakcjonujące) da\n"
     ]
    }
   ],
   "source": [
    "user_query = \"What are the movies with best endings?\"\n",
    "response, context = handle_query_with_rag(user_query, model_rank, model_id=\"mixtral-8x22B\", k=10)\n",
    "print(\"Odpowiedź:\", response)\n",
    "\n",
    "evaluation = evaluate_response_with_llama(user_query, context, response, model_id=\"bielik\")\n",
    "print(\"Ocena odpowiedzi:\", evaluation)"
   ]
  },
  {
   "cell_type": "code",
   "execution_count": 23,
   "metadata": {},
   "outputs": [
    {
     "data": {
      "application/vnd.jupyter.widget-view+json": {
       "model_id": "d09f659c98a24e2f905765aa85d93f97",
       "version_major": 2,
       "version_minor": 0
      },
      "text/plain": [
       "Batches:   0%|          | 0/4 [00:00<?, ?it/s]"
      ]
     },
     "metadata": {},
     "output_type": "display_data"
    },
    {
     "name": "stdout",
     "output_type": "stream",
     "text": [
      "Recenzja 1: seriously what the hell was this movie about,,simply stupid,,i'd give it 0 but,,,1\"awful\" is the lowest you can go,,seriously this movie is not worth watching,,waste of time, i don't know what the hell is wrong with you guys voting this movie 7 out of 10,,i seriously can make a better movie than this , hire some other unemployed people,,'n i promise i'll make a movie better than this,,this movie was so bad,,that i'll never watch a movie starring Steve Carrel again,bottom line don't waste your time to download it off the net or rent it,,i'd nominate this movie for the worst movie of the century i mean the worst is Something Gotta give but after that this is the second\n",
      "\n",
      "Recenzja 2: This is the biggest pile of crap I have ever watched. DO NOT RENT! The makers of this movie should be band from ever making another movie. It starts with some what of a plot, then fades fast to nothing. I think I would rather watch paint dry then to as much as looking at the cover. The actors were awful, the plot faded fast, filming left to much work to be done. Not one good thing to say about this crap movie. If you rent this movie you will waste your money. I really enjoy National Lampoon movies, but this was a waste of time. Learn to write, learn to act, learn to produce, and learn to direct. I feel I should sue these a-holes that made this movie for money wasted on rental cost and time lost.\n",
      "\n",
      "Recenzja 3: This is film that was actually recommended to me by my dentist, and am I glad he did! The blend of British humor (should I say, Humour?) and the reality of a lost, middle-aged widow trying to maintain her lifestyle were a hoot. Add to that mix the reality of what it takes to actually grow pot (those plants under the bushes were NOT going to make it without the TLC they received), and it is a truly hilarious, yet touching film. I laugh every time I conjure the vision of all the bar patrons sitting in their lawn chairs with sunglasses on counting down the lights! Maybe it's just my Mendocino County blood, but the Brits definitely got this one right!! 10/10\n",
      "\n",
      "Recenzja 4: The worst movie I have seen in quite a while. Interesting first half with some engaging, terse dialogue among dubious characters in a late-night bar. The movie then degenerates into a shapeless succession of scenes aiming for visual shock (read disgust) without any redeeming observations or lessons in humanity or anything else.<br /><br />I wanted to walk out, but the director was present at this showing and my politeness preventing me from showing him disrespect. Still, time is precious (as the director himself observed in his intro) and I really begrudge the time I wasted on the second half of this one.<br /><br />Saving graces were the three main characters in the first half of the movie, especially the female lead.\n",
      "\n",
      "Recenzja 5: This was a wonderful little American propaganda film that is both highly creative AND openly discusses the Nazi atrocities before the entire extent of the death camps were revealed. While late 1944 and into 1945 would reveal just how evil and horrific they were, this film, unlike other Hollywood films to date, is the most brutally honest film of the era I have seen regarding Nazi atrocities.<br /><br />The film begins in a courtroom in the future--after the war is over (the film was made in 1944--the war ended in May, 1945). In this fictitious world court, a Nazi leader is being tried for war crimes. Wilhelm Grimm is totally unrepentant and one by one witnesses are called who reveal Grimm's life since 1919 in a series of flashbacks. At first, it appears that the film is going to be sympathetic or explain how Grimm was pushed to join the Nazis. However, after a while, it becomes very apparent that Grimm is just a sadistic monster. These episodes are amazingly well done and definitely hold your interest and also make the film seem less like a piece of propaganda but a legitimate drama.<br /><br />All in all, the film does a great job considering the film mostly stars second-tier actors. There are many compelling scenes and performances--especially the very prescient Jewish extermination scene towards the end that can't help but bring you close to tears. It was also interesting how around the same point in the film there were some super-creative scenes that use crosses in a way you might not notice at first. Overall, it's a must-see for history lovers and anyone who wants to see a good film.<br /><br />FYI--This is not meant as a serious criticism of the film, but Hitler was referred to as \"that paper hanger\". This is a reference to the myth that Hitler had once made money putting up wallpaper. This is in fact NOT true--previously he'd been a \"starving artist\", homeless person and served well in the German army in WWI. A horrible person, yes, but never a paper hanger!\n",
      "\n",
      "Recenzja 6: -SPOILES- Lame south of the border adventure movie that has something to do with the blackmail of a big cooperate executive Rosenlski the president of Unasco Inc. by on the lamb beachcomber David Ziegler who's living the life of Reilly, or Ziegler, in his beach house in Cancun Mexico.Having this CD, that he gave to his brother James, that has three years of phone conversations between Rosenlski and the President of the United States involved in criminal deals. This CD has given David an edge over the international mobsters who are after him. <br /><br />The fact that James get's a little greedy by trying to shake down Rosenlski for 2 million in diamonds not only cost him his life but put David in danger of losing his as well. Ropsenlski want's to negotiate with David for the CD by getting his ex-wife Liz to talk to him about giving it up, Rosnelski made a deal to pay off her debts if she comes through. David is later killed by Rosenliski's Mexican hit-man Tony, with the help of a great white shark, who just doesn't go for all this peaceful dealings on his boss' part. <br /><br />Tony had taken the CD that Liz left for his boss at a local hotel safe and now want's to murder James, like he did David, and at the same time keep the CD to have something over Rosenlski.<br /><br />David who had secretly hidden the diamonds that James had on him at the time of his murder is now the target of Tony and his men to shut him up for good. David also wants to take the diamonds and at the same time give his boss Rosenlski the impression that the CD that David had is lost but use it later, without Rosenlski knowing who's behind it,to blackmail him. <br /><br />The movie \"Night of the Sharks\" has a number of shark attacks in it with this huge one-eyed white shark who ends up taking out about a half dozen of the cast members including Tony. David who's a firm believer in gun-control uses knives high explosives and Molotov cocktails, as well as his fists, to take out the entire Tony crew. Even the killer shark is finished off by Tony but with a hunting knife, not a gun. When it came to using firearms to save his friend and sidekick Paco a girlfriend Juanita and his priest Father Mattia lives from Tony and his gang guns were a no-no with David; he was more of a knife and spear man then anything else. <br /><br />The ending of the movie was about as predictable as you can make it with David thought to be killed by the one-eyed shark later pops up out of the crowd,after Rosenlski was convinced that he's dead and leaves the village. David continues his life as a free living and loving beachcomber with no one looking to kill him and about two million dollars richer. to David's credit he had his friend Paco give Rosenski back his CD but under the conditions that if anything happened to him his cousin, who Rosenlski doesn't know who and where he is, will shoot his big mouth off and let the whole world know about his dirty and criminal dealings.\n",
      "\n",
      "Recenzja 7: Now that Che(2008) has finished its relatively short Australian cinema run (extremely limited release:1 screen in Sydney, after 6wks), I can guiltlessly join both hosts of \"At The Movies\" in taking Steven Soderbergh to task.<br /><br />It's usually satisfying to watch a film director change his style/subject, but Soderbergh's most recent stinker, The Girlfriend Experience(2009), was also missing a story, so narrative (and editing?) seem to suddenly be Soderbergh's main challenge. Strange, after 20-odd years in the business. He was probably never much good at narrative, just hid it well inside \"edgy\" projects.<br /><br />None of this excuses him this present, almost diabolical failure. As David Stratton warns, \"two parts of Che don't (even) make a whole\". <br /><br />Epic biopic in name only, Che(2008) barely qualifies as a feature film! It certainly has no legs, inasmuch as except for its uncharacteristic ultimate resolution forced upon it by history, Soderbergh's 4.5hrs-long dirge just goes nowhere.<br /><br />Even Margaret Pomeranz, the more forgiving of Australia's At The Movies duo, noted about Soderbergh's repetitious waste of (HD digital storage): \"you're in the woods...you're in the woods...you're in the woods...\". I too am surprised Soderbergh didn't give us another 2.5hrs of THAT somewhere between his existing two Parts, because he still left out massive chunks of Che's \"revolutionary\" life! <br /><br />For a biopic of an important but infamous historical figure, Soderbergh unaccountably alienates, if not deliberately insults, his audiences by<br /><br />1. never providing most of Che's story; <br /><br />2. imposing unreasonable film lengths with mere dullard repetition; <br /><br />3. ignoring both true hindsight and a narrative of events; <br /><br />4. barely developing an idea, or a character; <br /><br />5. remaining claustrophobically episodic; <br /><br />6. ignoring proper context for scenes---whatever we do get is mired in disruptive timeshifts; <br /><br />7. linguistically dislocating all audiences (even Spanish-speakers will be confused by the incongruous expositions in English); and <br /><br />8. pointlessly whitewashing his main subject into one dimension. Why, at THIS late stage? The T-shirt franchise has been a success! <br /><br />Our sense of claustrophobia is surely due to Peter Buchman and Benjamin VanDer Veen basing their screenplay solely on Guevara's memoirs. So, like a poor student who has read only ONE of his allotted texts for his assignment, Soderbergh's product is exceedingly limited in perspective.<br /><br />The audience is held captive within the same constrained knowledge, scenery and circumstances of the \"revolutionaries\", but that doesn't elicit our sympathy. Instead, it dawns on us that \"Ah, Soderbergh's trying to hobble his audiences the same as the Latino peasants were at the time\". But these are the SAME illiterate Latino peasants who sold out the good doctor to his enemies. Why does Soderbergh feel the need to equate us with them, and keep us equally mentally captive? Such audience straitjacketing must have a purpose.<br /><br />Part2 is more chronological than Part1, but it's literally mind-numbing with its repetitive bush-bashing, misery of outlook, and lack of variety or character arcs. DelToro's Che has no opportunity to grow as a person while he struggles to educate his own ill-disciplined troops. The only letup is the humour as Che deals with his sometimes deeply ignorant \"revolutionaries\", some of whom violently lack self-control around local peasants or food. We certainly get no insight into what caused the conditions, nor any strategic analyses of their guerrilla insurgency, such as it was.<br /><br />Part2's excruciating countdown remains fearfully episodic: again, nothing is telegraphed or contextualized. Thus even the scenes with Fidel Castro (Demián Bichir) are unexpected and disconcerting. Any selected events are portrayed minimally and Latino-centrically, with Part1's interviews replaced by time-shifting meetings between the corrupt Bolivian president (Joaquim de Almeida) and US Government officials promising CIA intervention(!).<br /><br />The rest of Part2's \"woods\" and day-for-night blue filter just exasperate the audience until they're eyeing the exits.<br /><br />Perhaps DelToro felt too keenly the frustration of many non-American Latinos about never getting a truthful, unspun history of Che's exploits within their own countries. When foreign governments still won't deliver a free press to their people--for whatever reason--then one can see how a popular American indie producer might set out to entice the not-so-well-read (\"I may not be able to read or write, but I'm NOT illiterate!\"--cf.The Inspector General(1949)) out to their own local cinemas. The film's obvious neglects and gross over-simplifications hint very strongly that it's aiming only at the comprehensions of the less-informed WHO STILL SPEAK LITTLE English. If they did, they'd have read tomes on the subject already, and critiqued the relevant social issues amongst themselves--learning the lessons of history as they should.<br /><br />Such insights are precisely what societies still need--and not just the remaining illiterate Latinos of Central and South America--yet it's what Che(2008) gleefully fails to deliver. Soderbergh buries his lead because he's weak on narrative. I am gobsmacked why Benicio DelToro deliberately chose Soderbergh for this project if he knew this. It's been 44yrs, hindsight about Guevara was sorely wanted: it's what I went to see this film for, but the director diabolically robs us of that.<br /><br />David Stratton, writing in The Australian (03-Oct-2009) observed that while Part1 was \"uneven\", Part2 actually \"goes rapidly downhill\" from there, \"charting Che's final campaign in Bolivia in excruciating detail\", which \"...feels almost unbearably slow and turgid\".<br /><br />Che:The Guerilla aka Part2 is certainly no travelogue for Bolivia, painting it a picture of misery and atavism. The entire second half is only redeemed by the aforementioned humour, and the dramatic--yet tragic--capture and execution of the film's subject.<br /><br />The rest of this interminable cinema verite is just confusing, irritating misery--shockingly, for a Soderbergh film, to be avoided at all costs. It is bound to break the hearts of all who know even just a smattering about the subject.(2/10)\n",
      "\n",
      "Recenzja 8: This film is a flagrant rip-off of one of the best novels of all time, Silas Marner by George Eliot.<br /><br />The details of the film shown on IMDb do give acknowledgement to the original authoress but I did not see this at the beginning of the film, only a credit at the end of it saying \"suggested by the book Silas Marner\". Suggested? It was nothing but a complete rip- off of all the essential elements of the story:<br /><br />A wronged and sad old man, an artisan, poor and lonely, has all his money stolen. One night a child wanders up to his door as her mother lies dying in the snow outside. The man takes her in and brings her up until one day the local squire (or rich politician here) demands to adopt the child. It is he who has fathered the child during an illicit affair years before. The battle then ensues as to who should have legal custody of the child.<br /><br />In this and every other aspect of the film, the story is exactly the same. In only one can I find a difference. Silas Marner had epilepsy - but perhaps that would have strained the acting abilities of Mr Martin too far. On top of that he has his hair dyed in some carrot juice concoction (presumably to make him look younger, but actually making him look more the clown that he is)! There is also the addition of meaningless jokes, that this offbeat comedian cannot resist bringing into the story which have no part in it and only detract from the profoundness of the story. Like when the child cries in the courthouse declaring she can only be happy with the man who has fathered her all these years. This is conveyed in the film by the girl applying nasal decongestant to the bridge of her nose to make her tearful!<br /><br />I am surprised that legalities and integrity within the film industry permit such a film to be made. If I was a trustee of George Eliot's I would insist on reparation. If I was Steve Martin I would send the profits to that estate, or to the poor. At the very least it should be entitled Silas Marner - adapted by S Martin. Or better still removed from the archives!<br /><br />If you are interested in this story - and I hope you are - dismiss this completely and watch Silas Marner. Or read the book! The BBC made an excellent adaptation of it in the 1980's.\n",
      "\n",
      "Recenzja 9: This film is shoddily-made, unoriginal garbage. I like romantic comedies sometimes. Watching a good one is like eating ice cream for dinner. It's not something you are going to do all the time, but the experience is so pleasurable that you can ignore how unwise you are being. This movie made me think about how stupid I was for continuing to remain seated for its entire running time. Everything about it screamed made on the cheap. It actually looks like they overexposed the film at certain points it is so washed out. It boasts cheesy CGI and lame sets, too.<br /><br />The writing was clunky. I know that you can usually expect some plot problems in a screwball comedy, but you usually don't really care because you are laughing. This movie is so unfunny that you actually sit there and wonder about the unlikely series of coincidences and completely unbelievable behavior involved. Events were placed in the film just to move the characters from one scene to the next or to provide exposition. Sure, this is how all movies work, but you shouldn't notice that it's happening. Inelegant. That's the term I should use.<br /><br />There was almost no one in the movie who was really likable. I didn't care who ended up with whom, as long as they all stayed the hell away from me, and I didn't have to listen to them talk about it anymore. Why would the only really cool character in the movie, the Paul Rudd character, want to have anything to do with the completely bitchy, condescending, control freak played by Eva Longoria? Also, almost all of the characters involved consistently picked the sleaziest solution to any situation. A straight man pretends to be gay for five years just to hang out (and bathe with) with a woman he is attracted to? The best feel-good moment they could come up with was to tack on a happy ending for the same schmoe where he gets together with Rudd's equally annoying lying, kleptomaniac sister? Lake Bell and Eva Longoria are very attractive, appealing women. Maybe they will find something better to appear in down the road.\n",
      "\n",
      "Recenzja 10: I am not one of those people that will walk out of a movie that was based on source material and automatically say, \"The book was better.\" I know better than to demote the value of a movie just because it wasn't a faithful adaptation. There is a lengthy process and lots of decisions that go into making a movie that are sometimes out of the director's/editor's/cinematographer's/producer's control and certainly out of the original author's control. Therefore, it is unreasonable to expect a movie to be exactly the same, word for word, as a book or play or video game or Disneyland Ride, or whatever! A movie should be judged on its own standard and how it fits in society. Moreover, a successful movie should be made because the material is relevant to the society which it belongs and, if it is based on source material, its relevance needs to be reexamined and enhanced by the filmmakers. <br /><br />Films like There Will Be Blood follow this paradigm because while it was based on a novel written at the turn of the century, Oil!, it feels relevant because of things like the Iraq war and energy concerns that the film's country of origin, the US, was and is experiencing. Even King Kong, based on the original film, benefits from using new technology and concerns of animal rights that people have.<br /><br />With that said, I just don't understand why they even bothered to make this movie? Besides the great performances, guaranteed Oscar nods and Shanley's director/writers fee and royalties he will get, this movie seems to come from nowhere. It should have simply stayed as a play. The movie (which is essentially the same as the play) says nothing new about the reprehensible sexual atrocities committed and in many cases covered up by the Catholic church here and abroad. It says nothing new or different than the original play. I can't help but compare this movie to another movie that came out at around the same time: Frost/Nixon, which was also based on a play. Frost/Nixon, while about Nixon's regrets, seems relevant because it seems to have come at a time when President Bush was about to leave office. The regrets that Nixon had, as depicted in the play/movie, about the war and his presidency could just as easily reflected on Bush and his presidency. In that respect Frost/Nixon seemed more relevant and actually benefited from a wider distribution via film because it got people talking and reflecting about the political status quo in the country at the time. In contrast, Doubt felt like it was yesterday's news and didn't seem to offer anything that the play didn't offer.<br /><br />Of course the movie is \"good,\" the performances are outstanding, and the screenplay adaptation is apt, but so what? Why didn't it just stay as a play? Why, besides marketing and financial reasons, make it into a movie? It gave audiences nothing new to discus about the awful subject.\n",
      "Odpowiedź:  Jeśli poszukujesz filmu, który jest straceniem czasu, możesz zwrócić uwagę na \"Dantoni Park Mystery\", który jest obiektem recenzji numer jeden. Według recenzenta, film jest \"bez sensu\", \"absolutnie głupi\" i \"zupełnie niezaliczający się do oglądania\". Ważne jest, że ta ocena jest subiektywna, ale jeśli chodzi o wkład czasu i możliwe niezadowolenie, to może być wskazówką do odpowiedzi na pytanie.\n",
      "Ocena odpowiedzi: Ocena: 8\n",
      "\n",
      "Odpowiedź modelu jest ogólnie trafna i zgodna z kontekstem, ponieważ opiera się na wyraźnie negatywnych opinii widzów, które sugerują stracenie czasu i niską jakość filmu. Jednak kilka rzeczy można poprawić:\n",
      "\n",
      "1. Lepsze sformułowanie: Użycie bardziej neutralnego języka, aby uniknąć podrzucenia zbyt silnej, subiektywnej oceny. Przykład lepszego sformułowania: \"Recenzje sugerują, że ten film może być postrzegany przez niektórych widzów jako...\"\n",
      "\n",
      "2. Specyficzność: Dokładniejsza informacja o recenzjach, tak jak są wspomniane w tekście (np. \"Recenzja 1 i Recenzja 2 zawierają krytyczne uwagi\").\n",
      "\n",
      "3. Równowaga: Wzmianka o pojedynczej pozytywnej recenzji, aby przedstawić bardziej obiektywny obraz opinii widzów.\n",
      "\n",
      "Poprawiona odpowiedź mogłaby brzmieć:\n",
      "\n",
      "\"Na podstawie analizowanych recenzji widzowie mają zróżnicowane opinie o tym filmie. Niektóre rec\n"
     ]
    }
   ],
   "source": [
    "user_query = \"Wchich movie is the lost of time?\"\n",
    "response, context = handle_query_with_rag(user_query, model_rank, model_id=\"mixtral-8x22B\", k=10)\n",
    "print(\"Odpowiedź:\", response)\n",
    "\n",
    "evaluation = evaluate_response_with_llama(user_query, context, response, model_id=\"bielik\")\n",
    "print(\"Ocena odpowiedzi:\", evaluation)"
   ]
  },
  {
   "cell_type": "code",
   "execution_count": null,
   "metadata": {},
   "outputs": [],
   "source": []
  }
 ],
 "metadata": {
  "kernelspec": {
   "display_name": "Python 3",
   "language": "python",
   "name": "python3"
  },
  "language_info": {
   "codemirror_mode": {
    "name": "ipython",
    "version": 3
   },
   "file_extension": ".py",
   "mimetype": "text/x-python",
   "name": "python",
   "nbconvert_exporter": "python",
   "pygments_lexer": "ipython3",
   "version": "3.10.12"
  }
 },
 "nbformat": 4,
 "nbformat_minor": 2
}
