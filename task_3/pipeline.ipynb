{
 "cells": [
  {
   "cell_type": "code",
   "execution_count": 1,
   "metadata": {},
   "outputs": [],
   "source": [
    "import torch\n",
    "import pandas as pd\n",
    "import numpy as np\n",
    "from typing import Literal\n",
    "\n",
    "from datasets import load_dataset, Dataset\n",
    "from sentence_transformers import SentenceTransformer, CrossEncoder\n",
    "from transformers import BertTokenizer\n",
    "import faiss\n",
    "\n",
    "from sklearn.decomposition import PCA\n",
    "from sklearn.manifold import TSNE\n",
    "import plotly.express as px"
   ]
  },
  {
   "cell_type": "code",
   "execution_count": 2,
   "metadata": {},
   "outputs": [],
   "source": [
    "DATASET_NAME = 'sentence-transformers/squad'\n",
    "RETRIEVER_NAME = 'multi-qa-mpnet-base-dot-v1'\n",
    "RERANKER_NAME = 'cross-encoder/ms-marco-MiniLM-L-6-v2'\n",
    "\n",
    "DEVICE = torch.device('cuda' if torch.cuda.is_available() else 'cpu')"
   ]
  },
  {
   "cell_type": "code",
   "execution_count": 3,
   "metadata": {},
   "outputs": [],
   "source": [
    "dataset = load_dataset('sentence-transformers/squad')\n",
    "\n",
    "questions = dataset['train']['question']\n",
    "answers = list(set(dataset['train']['answer']))"
   ]
  },
  {
   "cell_type": "code",
   "execution_count": 4,
   "metadata": {},
   "outputs": [],
   "source": [
    "retriever = SentenceTransformer(RETRIEVER_NAME).to(DEVICE)\n",
    "reranker = CrossEncoder(RERANKER_NAME, max_length = 512, device = DEVICE)\n",
    "tokenizer = BertTokenizer.from_pretrained(RERANKER_NAME, max_length = 512)"
   ]
  },
  {
   "cell_type": "markdown",
   "metadata": {},
   "source": [
    "### PIPELINE"
   ]
  },
  {
   "cell_type": "code",
   "execution_count": 5,
   "metadata": {},
   "outputs": [],
   "source": [
    "question_embeddings = retriever.encode(questions)\n",
    "answer_embeddings = retriever.encode(answers)"
   ]
  },
  {
   "cell_type": "code",
   "execution_count": 23,
   "metadata": {},
   "outputs": [],
   "source": [
    "def retrive(query: str, answers: list[str], answers_vec: np.array, top_k: int) -> list[dict]:\n",
    "    retrive_list = list()\n",
    "    \n",
    "    query_vec = retriever.encode([query])[0]\n",
    "    faiss_index = faiss.IndexFlatIP(answers_vec.shape[1])\n",
    "    faiss_index.add(np.array(answers_vec, dtype = np.float32))\n",
    "    distances, indices = faiss_index.search(np.array([query_vec], dtype=np.float32), top_k)\n",
    "    \n",
    "    for i, index in enumerate(indices[0]):\n",
    "        retrive_dict = dict()\n",
    "        \n",
    "        distance = distances[0][i]\n",
    "        retrive_dict['rank'] = i + 1\n",
    "        retrive_dict['text'] = answers[index]\n",
    "        retrive_dict['distance'] = distance\n",
    "        retrive_dict['vector'] = answers_vec[index]\n",
    "        retrive_list.append(retrive_dict)\n",
    "        \n",
    "    return retrive_list\n",
    "\n",
    "\n",
    "\n",
    "def rerank(query: str, retrive_list: list[dict], top_k: int) -> list[dict]:\n",
    "    retrive_answers = [dct['text'] for dct in retrive_list]\n",
    "    reranking = reranker.rank(query, retrive_answers, top_k = top_k, return_documents = True)\n",
    "    \n",
    "    return reranking\n",
    "\n",
    "\n",
    "\n",
    "def print_results(query, top_k_retriver, top_k_reranker, answers = answers, answer_embeddings = answer_embeddings):\n",
    "    retrive_list = retrive(query, answers, answer_embeddings, top_k = top_k_retriver)\n",
    "    reranker_list = rerank(query, retrive_list, top_k = top_k_reranker)\n",
    "    \n",
    "    print(f'Query: {query}\\n')\n",
    "    print(f\"Real answer: {dataset['train']['answer'][questions.index(query)]}\\n\\n\")\n",
    "    print(f'Top {top_k_reranker} answers:\\n')\n",
    "    for i in range(top_k_reranker):\n",
    "        print(f\"Answer {i + 1}: {reranker_list[i]['text']}, {reranker_list[i]['score']}\\n\")"
   ]
  },
  {
   "cell_type": "code",
   "execution_count": 24,
   "metadata": {},
   "outputs": [
    {
     "name": "stdout",
     "output_type": "stream",
     "text": [
      "Query: To whom did the Virgin Mary allegedly appear in 1858 in Lourdes France?\n",
      "\n",
      "Real answer: Architecturally, the school has a Catholic character. Atop the Main Building's gold dome is a golden statue of the Virgin Mary. Immediately in front of the Main Building and facing it, is a copper statue of Christ with arms upraised with the legend \"Venite Ad Me Omnes\". Next to the Main Building is the Basilica of the Sacred Heart. Immediately behind the basilica is the Grotto, a Marian place of prayer and reflection. It is a replica of the grotto at Lourdes, France where the Virgin Mary reputedly appeared to Saint Bernadette Soubirous in 1858. At the end of the main drive (and in a direct line that connects through 3 statues and the Gold Dome), is a simple, modern stone statue of Mary.\n",
      "\n",
      "\n",
      "Top 10 answers:\n",
      "\n",
      "Answer 1: Architecturally, the school has a Catholic character. Atop the Main Building's gold dome is a golden statue of the Virgin Mary. Immediately in front of the Main Building and facing it, is a copper statue of Christ with arms upraised with the legend \"Venite Ad Me Omnes\". Next to the Main Building is the Basilica of the Sacred Heart. Immediately behind the basilica is the Grotto, a Marian place of prayer and reflection. It is a replica of the grotto at Lourdes, France where the Virgin Mary reputedly appeared to Saint Bernadette Soubirous in 1858. At the end of the main drive (and in a direct line that connects through 3 statues and the Gold Dome), is a simple, modern stone statue of Mary., 5.3161115646362305\n",
      "\n",
      "Answer 2: Henry VII added a Perpendicular style chapel dedicated to the Blessed Virgin Mary in 1503 (known as the Henry VII Chapel or the \"Lady Chapel\"). Much of the stone came from Caen, in France (Caen stone), the Isle of Portland (Portland stone) and the Loire Valley region of France (tuffeau limestone).[citation needed], -1.843940258026123\n",
      "\n",
      "Answer 3: The presence of the Virgin Mary under the cross[Jn. 19:26-27] has in itself been the subject of Marian art, and well known Catholic symbolism such as the Miraculous Medal and Pope John Paul II's Coat of Arms bearing a Marian Cross. And a number of Marian devotions also involve the presence of the Virgin Mary in Calvary, e.g., Pope John Paul II stated that \"Mary was united to Jesus on the Cross\". Well known works of Christian art by masters such as Raphael (e.g., the Mond Crucifixion), and Caravaggio (e.g., his Entombment) depict the Virgin Mary as part of the crucifixion scene., -2.5341739654541016\n",
      "\n",
      "Answer 4: In the 19th century, a house near Ephesus in Turkey was found, based on the visions of Anne Catherine Emmerich, an Augustinian nun in Germany. It has since been visited as the House of the Virgin Mary by Roman Catholic pilgrims who consider it the place where Mary lived until her assumption. The Gospel of John states that Mary went to live with the Disciple whom Jesus loved,[Jn 19:27] identified as John the Evangelist.[citation needed] Irenaeus and Eusebius of Caesarea wrote in their histories that John later went to Ephesus, which may provide the basis for the early belief that Mary also lived in Ephesus with John., -3.1441383361816406\n",
      "\n",
      "Answer 5: Roman Catholics believe in the Immaculate Conception of Mary, as proclaimed Ex Cathedra by Pope Pius IX in 1854, namely that she was filled with grace from the very moment of her conception in her mother's womb and preserved from the stain of original sin. The Latin Rite of the Roman Catholic Church has a liturgical feast by that name, kept on December 8. Orthodox Christians reject the Immaculate Conception dogma principally because their understanding of ancestral sin (the Greek term corresponding to the Latin \"original sin\") differs from the Augustinian interpretation and that of the Roman Catholic Church., -3.7490367889404297\n",
      "\n",
      "Answer 6: The doctrine of the immaculate conception (Mary being conceived free from original sin) is not to be confused with her virginal conception of her son Jesus. This misunderstanding of the term immaculate conception is frequently met in the mass media. Catholics believe that Mary was not the product of a virginal conception herself but was the daughter of a human father and mother, traditionally known by the names of Saint Joachim and Saint Anne. In 1677, the Holy See condemned the belief that Mary was virginally conceived, which had been a belief surfacing occasionally since the 4th century. The Church celebrates the Feast of the Immaculate Conception (when Mary was conceived free from original sin) on 8 December, exactly nine months before celebrating the Nativity of Mary. The feast of the Annunciation (which commemorates the virginal conception and the Incarnation of Jesus) is celebrated on 25 March, nine months before Christmas Day., -4.278552055358887\n",
      "\n",
      "Answer 7: Despite Martin Luther's harsh polemics against his Roman Catholic opponents over issues concerning Mary and the saints, theologians appear to agree that Luther adhered to the Marian decrees of the ecumenical councils and dogmas of the church. He held fast to the belief that Mary was a perpetual virgin and the Theotokos or Mother of God. Special attention is given to the assertion that Luther, some three-hundred years before the dogmatization of the Immaculate Conception by Pope Pius IX in 1854, was a firm adherent of that view. Others maintain that Luther in later years changed his position on the Immaculate Conception, which, at that time was undefined in the Church, maintaining however the sinlessness of Mary throughout her life. For Luther, early in his life, the Assumption of Mary was an understood fact, although he later stated that the Bible did not say anything about it and stopped celebrating its feast. Important to him was the belief that Mary and the saints do live on after death. \"Throughout his career as a priest-professor-reformer, Luther preached, taught, and argued about the veneration of Mary with a verbosity that ranged from childlike piety to sophisticated polemics. His views are intimately linked to his Christocentric theology and its consequences for liturgy and piety.\" Luther, while revering Mary, came to criticize the \"Papists\" for blurring the line, between high admiration of the grace of God wherever it is seen in a human being, and religious service given to another creature. He considered the Roman Catholic practice of celebrating saints' days and making intercessory requests addressed especially to Mary and other departed saints to be idolatry. His final thoughts on Marian devotion and veneration are preserved in a sermon preached at Wittenberg only a month before his death:, -4.403847694396973\n",
      "\n",
      "Answer 8: The Virgin birth of Jesus was an almost universally held belief among Christians from the 2nd until the 19th century. It is included in the two most widely used Christian creeds, which state that Jesus \"was incarnate of the Holy Spirit and the Virgin Mary\" (the Nicene Creed in what is now its familiar form) and the Apostles' Creed. The Gospel of Matthew describes Mary as a virgin who fulfilled the prophecy of Isaiah 7:14, mistranslating the Hebrew word alma (\"young woman\") in Isaiah 7:14 as \"virgin\", though.[citation needed] The authors of the Gospels of Matthew and Luke consider Jesus' conception not the result of intercourse and assert that Mary had \"no relations with man\" before Jesus' birth.[Mt 1:18] [Mt 1:25] [Lk 1:34] This alludes to the belief that Mary conceived Jesus through the action of God the Holy Spirit, and not through intercourse with Joseph or anyone else., -4.492510795593262\n",
      "\n",
      "Answer 9: The Perpetual Virginity of Mary asserts Mary's real and perpetual virginity even in the act of giving birth to the Son of God made Man. The term Ever-Virgin (Greek ἀειπάρθενος) is applied in this case, stating that Mary remained a virgin for the remainder of her life, making Jesus her biological and only son, whose conception and birth are held to be miraculous. While the Orthodox Churches hold the position articulated in the Protoevangelium of James that Jesus' brothers and sisters are older children of Joseph the Betrothed, step-siblings from an earlier marriage that left him widowed, Roman Catholic teaching follows the Latin father Jerome in considering them Jesus' cousins., -4.569695472717285\n",
      "\n",
      "Answer 10: Devotions to artistic depictions of Mary vary among Christian traditions. There is a long tradition of Roman Catholic Marian art and no image permeates Catholic art as does the image of Madonna and Child. The icon of the Virgin Theotokos with Christ is without doubt the most venerated icon in the Orthodox Church. Both Roman Catholic and Orthodox Christians venerate images and icons of Mary, given that the Second Council of Nicaea in 787 permitted their veneration with the understanding that those who venerate the image are venerating the reality of the person it represents, and the 842 Synod of Constantinople confirming the same. According to Orthodox piety and traditional practice, however, believers ought to pray before and venerate only flat, two-dimensional icons, and not three-dimensional statues., -4.736699104309082\n",
      "\n"
     ]
    }
   ],
   "source": [
    "query = questions[0]\n",
    "top_k_retriver = 1000\n",
    "top_k_reranker = 10\n",
    "\n",
    "print_results(query, top_k_retriver, top_k_reranker)"
   ]
  }
 ],
 "metadata": {
  "kernelspec": {
   "display_name": "NLP",
   "language": "python",
   "name": "python3"
  },
  "language_info": {
   "codemirror_mode": {
    "name": "ipython",
    "version": 3
   },
   "file_extension": ".py",
   "mimetype": "text/x-python",
   "name": "python",
   "nbconvert_exporter": "python",
   "pygments_lexer": "ipython3",
   "version": "3.10.12"
  }
 },
 "nbformat": 4,
 "nbformat_minor": 2
}
